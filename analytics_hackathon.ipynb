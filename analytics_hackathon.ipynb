{
  "cells": [
    {
      "cell_type": "code",
      "execution_count": null,
      "metadata": {},
      "outputs": [],
      "source": []
    },
    {
      "attachments": {},
      "cell_type": "markdown",
      "metadata": {},
      "source": [
        "<h1 align=\"center\"> Generative AI Hackathon</h1>\n",
        "<table align=\"center\">\n",
        "    <td>\n",
        "        <a href=\"https://colab.research.google.com/github/teamdatatonic/gen-ai-hackathon/blob/feature%2FDBA-hackathon/analytics_hackathon.ipynb\">\n",
        "            <img src=\"https://cloud.google.com/ml-engine/images/colab-logo-32px.png\" alt=\"Colab logo\">\n",
        "            <span style=\"vertical-align: middle;\">Run in Colab</span>\n",
        "        </a>\n",
        "    </td>\n",
        "    <td>\n",
        "        <a href=\"https://github.com/teamdatatonic/gen-ai-hackathon/blob/DBA-hackathon/analytics_hackathon.ipynb\">\n",
        "            <img src=\"https://cloud.google.com/ml-engine/images/github-logo-32px.png\" alt=\"GitHub logo\">\n",
        "            <span style=\"vertical-align: middle;\">View on GitHub</span>\n",
        "        </a>\n",
        "    </td>\n",
        "    <td>\n",
        "        <a href=\"https://console.cloud.google.com/vertex-ai/workbench/deploy-notebook?download_url=https://raw.githubusercontent.com/teamdatatonic/gen-ai-hackathon/main/analytics_hackathon.ipynb\">\n",
        "            <img src=\"https://lh3.googleusercontent.com/UiNooY4LUgW_oTvpsNhPpQzsstV5W8F7rYgxgGBD85cWJoLmrOzhVs_ksK_vgx40SHs7jCqkTkCk=e14-rj-sc0xffffff-h130-w32\" alt=\"Vertex AI logo\"> \n",
        "            <span style=\"vertical-align: middle;\">Open in Vertex AI Workbench</span>\n",
        "        </a>\n",
        "    </td>\n",
        "</table>\n",
        "<hr>\n",
        "\n",
        "**➡️ Your task:** Learn about Generative AI by building your own Database Analytics using Python and LangChain!\n",
        "\n",
        "**❗ Note:** This workshop has been designed to be run in Google CoLab. Support for running the workshop locally or using VertexAI Workbench is provided, but we heavily recommend CoLab for the best experience.\n"
      ]
    },
    {
      "attachments": {},
      "cell_type": "markdown",
      "metadata": {},
      "source": [
        "**❗ Note:** If your kernel doesn't restart automatically, click the \"Restart Runtime\" button above your notebook.\n",
        "If you dont see a restart button, go to the \"Runtime\" toolbar tab then \"Restart Runtime\". After restarting, continue executing the project from below this cell.\n",
        "\n",
        "## Accessing the Vertex AI Endpoint\n",
        "\n",
        "Currently, Vertex AI LLMs are accessible via Google Cloud projects. \n",
        "\n",
        "1. Set the env variables `project_id` and `dataset_id` with the filepath (**❗ Note:** the `/content/` folder is where uploaded files are stored by default)."
      ]
    },
    {
      "cell_type": "code",
      "execution_count": 1,
      "metadata": {},
      "outputs": [],
      "source": [
        "# Replace 'your-project-id' with your Google Cloud project ID\n",
        "project_id = 'dt-genai-analytics-dev'\n",
        "dataset_id = 'database_analytics_demo_v2'"
      ]
    },
    {
      "cell_type": "code",
      "execution_count": 2,
      "metadata": {},
      "outputs": [
        {
          "name": "stdout",
          "output_type": "stream",
          "text": [
            "Updated property [core/project].\n"
          ]
        }
      ],
      "source": [
        "!gcloud config set project {project_id}"
      ]
    },
    {
      "attachments": {},
      "cell_type": "markdown",
      "metadata": {},
      "source": [
        "### Setting up the BigQuery client"
      ]
    },
    {
      "cell_type": "code",
      "execution_count": 3,
      "metadata": {},
      "outputs": [],
      "source": [
        "from google.cloud import bigquery\n",
        "\n",
        "# Initialize the BigQuery client\n",
        "client = bigquery.Client(project=project_id)\n"
      ]
    },
    {
      "attachments": {},
      "cell_type": "markdown",
      "metadata": {},
      "source": [
        "### Pip install package dependencies"
      ]
    },
    {
      "cell_type": "code",
      "execution_count": 4,
      "metadata": {},
      "outputs": [
        {
          "name": "stdout",
          "output_type": "stream",
          "text": [
            "Requirement already satisfied: pybigquery in /Users/roberta/.pyenv/versions/3.10.9/lib/python3.10/site-packages (0.5.0)\n",
            "Requirement already satisfied: google-cloud-bigquery>=1.6.0 in /Users/roberta/.pyenv/versions/3.10.9/lib/python3.10/site-packages (from pybigquery) (3.11.4)\n",
            "Requirement already satisfied: sqlalchemy>=1.1.9 in /Users/roberta/.pyenv/versions/3.10.9/lib/python3.10/site-packages (from pybigquery) (1.4.49)\n",
            "Requirement already satisfied: future in /Users/roberta/.pyenv/versions/3.10.9/lib/python3.10/site-packages (from pybigquery) (0.18.3)\n",
            "Requirement already satisfied: google-cloud-core<3.0.0dev,>=1.6.0 in /Users/roberta/.pyenv/versions/3.10.9/lib/python3.10/site-packages (from google-cloud-bigquery>=1.6.0->pybigquery) (2.3.3)\n",
            "Requirement already satisfied: python-dateutil<3.0dev,>=2.7.2 in /Users/roberta/.pyenv/versions/3.10.9/lib/python3.10/site-packages (from google-cloud-bigquery>=1.6.0->pybigquery) (2.8.2)\n",
            "Requirement already satisfied: google-api-core[grpc]!=2.0.*,!=2.1.*,!=2.2.*,!=2.3.0,<3.0.0dev,>=1.31.5 in /Users/roberta/.pyenv/versions/3.10.9/lib/python3.10/site-packages (from google-cloud-bigquery>=1.6.0->pybigquery) (2.11.1)\n",
            "Requirement already satisfied: requests<3.0.0dev,>=2.21.0 in /Users/roberta/.pyenv/versions/3.10.9/lib/python3.10/site-packages (from google-cloud-bigquery>=1.6.0->pybigquery) (2.31.0)\n",
            "Requirement already satisfied: packaging>=20.0.0 in /Users/roberta/.pyenv/versions/3.10.9/lib/python3.10/site-packages (from google-cloud-bigquery>=1.6.0->pybigquery) (23.1)\n",
            "Requirement already satisfied: google-resumable-media<3.0dev,>=0.6.0 in /Users/roberta/.pyenv/versions/3.10.9/lib/python3.10/site-packages (from google-cloud-bigquery>=1.6.0->pybigquery) (2.5.0)\n",
            "Requirement already satisfied: grpcio<2.0dev,>=1.47.0 in /Users/roberta/.pyenv/versions/3.10.9/lib/python3.10/site-packages (from google-cloud-bigquery>=1.6.0->pybigquery) (1.57.0)\n",
            "Requirement already satisfied: proto-plus<2.0.0dev,>=1.15.0 in /Users/roberta/.pyenv/versions/3.10.9/lib/python3.10/site-packages (from google-cloud-bigquery>=1.6.0->pybigquery) (1.22.3)\n",
            "Requirement already satisfied: protobuf!=3.20.0,!=3.20.1,!=4.21.0,!=4.21.1,!=4.21.2,!=4.21.3,!=4.21.4,!=4.21.5,<5.0.0dev,>=3.19.5 in /Users/roberta/.pyenv/versions/3.10.9/lib/python3.10/site-packages (from google-cloud-bigquery>=1.6.0->pybigquery) (3.20.3)\n",
            "Requirement already satisfied: googleapis-common-protos<2.0.dev0,>=1.56.2 in /Users/roberta/.pyenv/versions/3.10.9/lib/python3.10/site-packages (from google-api-core[grpc]!=2.0.*,!=2.1.*,!=2.2.*,!=2.3.0,<3.0.0dev,>=1.31.5->google-cloud-bigquery>=1.6.0->pybigquery) (1.60.0)\n",
            "Requirement already satisfied: google-auth<3.0.dev0,>=2.14.1 in /Users/roberta/.pyenv/versions/3.10.9/lib/python3.10/site-packages (from google-api-core[grpc]!=2.0.*,!=2.1.*,!=2.2.*,!=2.3.0,<3.0.0dev,>=1.31.5->google-cloud-bigquery>=1.6.0->pybigquery) (2.22.0)\n",
            "Requirement already satisfied: grpcio-status<2.0.dev0,>=1.33.2 in /Users/roberta/.pyenv/versions/3.10.9/lib/python3.10/site-packages (from google-api-core[grpc]!=2.0.*,!=2.1.*,!=2.2.*,!=2.3.0,<3.0.0dev,>=1.31.5->google-cloud-bigquery>=1.6.0->pybigquery) (1.48.2)\n",
            "Requirement already satisfied: google-crc32c<2.0dev,>=1.0 in /Users/roberta/.pyenv/versions/3.10.9/lib/python3.10/site-packages (from google-resumable-media<3.0dev,>=0.6.0->google-cloud-bigquery>=1.6.0->pybigquery) (1.5.0)\n",
            "Requirement already satisfied: six>=1.5 in /Users/roberta/.pyenv/versions/3.10.9/lib/python3.10/site-packages (from python-dateutil<3.0dev,>=2.7.2->google-cloud-bigquery>=1.6.0->pybigquery) (1.16.0)\n",
            "Requirement already satisfied: urllib3<3,>=1.21.1 in /Users/roberta/.pyenv/versions/3.10.9/lib/python3.10/site-packages (from requests<3.0.0dev,>=2.21.0->google-cloud-bigquery>=1.6.0->pybigquery) (1.26.16)\n",
            "Requirement already satisfied: charset-normalizer<4,>=2 in /Users/roberta/.pyenv/versions/3.10.9/lib/python3.10/site-packages (from requests<3.0.0dev,>=2.21.0->google-cloud-bigquery>=1.6.0->pybigquery) (3.2.0)\n",
            "Requirement already satisfied: certifi>=2017.4.17 in /Users/roberta/.pyenv/versions/3.10.9/lib/python3.10/site-packages (from requests<3.0.0dev,>=2.21.0->google-cloud-bigquery>=1.6.0->pybigquery) (2023.7.22)\n",
            "Requirement already satisfied: idna<4,>=2.5 in /Users/roberta/.pyenv/versions/3.10.9/lib/python3.10/site-packages (from requests<3.0.0dev,>=2.21.0->google-cloud-bigquery>=1.6.0->pybigquery) (3.4)\n",
            "Requirement already satisfied: rsa<5,>=3.1.4 in /Users/roberta/.pyenv/versions/3.10.9/lib/python3.10/site-packages (from google-auth<3.0.dev0,>=2.14.1->google-api-core[grpc]!=2.0.*,!=2.1.*,!=2.2.*,!=2.3.0,<3.0.0dev,>=1.31.5->google-cloud-bigquery>=1.6.0->pybigquery) (4.9)\n",
            "Requirement already satisfied: pyasn1-modules>=0.2.1 in /Users/roberta/.pyenv/versions/3.10.9/lib/python3.10/site-packages (from google-auth<3.0.dev0,>=2.14.1->google-api-core[grpc]!=2.0.*,!=2.1.*,!=2.2.*,!=2.3.0,<3.0.0dev,>=1.31.5->google-cloud-bigquery>=1.6.0->pybigquery) (0.3.0)\n",
            "Requirement already satisfied: cachetools<6.0,>=2.0.0 in /Users/roberta/.pyenv/versions/3.10.9/lib/python3.10/site-packages (from google-auth<3.0.dev0,>=2.14.1->google-api-core[grpc]!=2.0.*,!=2.1.*,!=2.2.*,!=2.3.0,<3.0.0dev,>=1.31.5->google-cloud-bigquery>=1.6.0->pybigquery) (5.3.1)\n",
            "Requirement already satisfied: pyasn1<0.6.0,>=0.4.6 in /Users/roberta/.pyenv/versions/3.10.9/lib/python3.10/site-packages (from pyasn1-modules>=0.2.1->google-auth<3.0.dev0,>=2.14.1->google-api-core[grpc]!=2.0.*,!=2.1.*,!=2.2.*,!=2.3.0,<3.0.0dev,>=1.31.5->google-cloud-bigquery>=1.6.0->pybigquery) (0.5.0)\n",
            "\n",
            "\u001b[1m[\u001b[0m\u001b[34;49mnotice\u001b[0m\u001b[1;39;49m]\u001b[0m\u001b[39;49m A new release of pip available: \u001b[0m\u001b[31;49m22.3.1\u001b[0m\u001b[39;49m -> \u001b[0m\u001b[32;49m23.2.1\u001b[0m\n",
            "\u001b[1m[\u001b[0m\u001b[34;49mnotice\u001b[0m\u001b[1;39;49m]\u001b[0m\u001b[39;49m To update, run: \u001b[0m\u001b[32;49mpip install --upgrade pip\u001b[0m\n",
            "Note: you may need to restart the kernel to use updated packages.\n",
            "Requirement already satisfied: SQLAlchemy==1.4.49 in /Users/roberta/.pyenv/versions/3.10.9/lib/python3.10/site-packages (1.4.49)\n",
            "\n",
            "\u001b[1m[\u001b[0m\u001b[34;49mnotice\u001b[0m\u001b[1;39;49m]\u001b[0m\u001b[39;49m A new release of pip available: \u001b[0m\u001b[31;49m22.3.1\u001b[0m\u001b[39;49m -> \u001b[0m\u001b[32;49m23.2.1\u001b[0m\n",
            "\u001b[1m[\u001b[0m\u001b[34;49mnotice\u001b[0m\u001b[1;39;49m]\u001b[0m\u001b[39;49m To update, run: \u001b[0m\u001b[32;49mpip install --upgrade pip\u001b[0m\n",
            "Note: you may need to restart the kernel to use updated packages.\n",
            "Requirement already satisfied: pyarrow in /Users/roberta/.pyenv/versions/3.10.9/lib/python3.10/site-packages (13.0.0)\n",
            "Requirement already satisfied: numpy>=1.16.6 in /Users/roberta/.pyenv/versions/3.10.9/lib/python3.10/site-packages (from pyarrow) (1.23.5)\n",
            "\n",
            "\u001b[1m[\u001b[0m\u001b[34;49mnotice\u001b[0m\u001b[1;39;49m]\u001b[0m\u001b[39;49m A new release of pip available: \u001b[0m\u001b[31;49m22.3.1\u001b[0m\u001b[39;49m -> \u001b[0m\u001b[32;49m23.2.1\u001b[0m\n",
            "\u001b[1m[\u001b[0m\u001b[34;49mnotice\u001b[0m\u001b[1;39;49m]\u001b[0m\u001b[39;49m To update, run: \u001b[0m\u001b[32;49mpip install --upgrade pip\u001b[0m\n",
            "Note: you may need to restart the kernel to use updated packages.\n",
            "Requirement already satisfied: google-cloud-bigquery-storage in /Users/roberta/.pyenv/versions/3.10.9/lib/python3.10/site-packages (2.22.0)\n",
            "Requirement already satisfied: proto-plus<2.0.0dev,>=1.22.0 in /Users/roberta/.pyenv/versions/3.10.9/lib/python3.10/site-packages (from google-cloud-bigquery-storage) (1.22.3)\n",
            "Requirement already satisfied: protobuf!=3.20.0,!=3.20.1,!=4.21.0,!=4.21.1,!=4.21.2,!=4.21.3,!=4.21.4,!=4.21.5,<5.0.0dev,>=3.19.5 in /Users/roberta/.pyenv/versions/3.10.9/lib/python3.10/site-packages (from google-cloud-bigquery-storage) (3.20.3)\n",
            "Requirement already satisfied: google-api-core[grpc]!=2.0.*,!=2.1.*,!=2.10.*,!=2.2.*,!=2.3.*,!=2.4.*,!=2.5.*,!=2.6.*,!=2.7.*,!=2.8.*,!=2.9.*,<3.0.0dev,>=1.34.0 in /Users/roberta/.pyenv/versions/3.10.9/lib/python3.10/site-packages (from google-cloud-bigquery-storage) (2.11.1)\n",
            "Requirement already satisfied: googleapis-common-protos<2.0.dev0,>=1.56.2 in /Users/roberta/.pyenv/versions/3.10.9/lib/python3.10/site-packages (from google-api-core[grpc]!=2.0.*,!=2.1.*,!=2.10.*,!=2.2.*,!=2.3.*,!=2.4.*,!=2.5.*,!=2.6.*,!=2.7.*,!=2.8.*,!=2.9.*,<3.0.0dev,>=1.34.0->google-cloud-bigquery-storage) (1.60.0)\n",
            "Requirement already satisfied: google-auth<3.0.dev0,>=2.14.1 in /Users/roberta/.pyenv/versions/3.10.9/lib/python3.10/site-packages (from google-api-core[grpc]!=2.0.*,!=2.1.*,!=2.10.*,!=2.2.*,!=2.3.*,!=2.4.*,!=2.5.*,!=2.6.*,!=2.7.*,!=2.8.*,!=2.9.*,<3.0.0dev,>=1.34.0->google-cloud-bigquery-storage) (2.22.0)\n",
            "Requirement already satisfied: requests<3.0.0.dev0,>=2.18.0 in /Users/roberta/.pyenv/versions/3.10.9/lib/python3.10/site-packages (from google-api-core[grpc]!=2.0.*,!=2.1.*,!=2.10.*,!=2.2.*,!=2.3.*,!=2.4.*,!=2.5.*,!=2.6.*,!=2.7.*,!=2.8.*,!=2.9.*,<3.0.0dev,>=1.34.0->google-cloud-bigquery-storage) (2.31.0)\n",
            "Requirement already satisfied: grpcio-status<2.0.dev0,>=1.33.2 in /Users/roberta/.pyenv/versions/3.10.9/lib/python3.10/site-packages (from google-api-core[grpc]!=2.0.*,!=2.1.*,!=2.10.*,!=2.2.*,!=2.3.*,!=2.4.*,!=2.5.*,!=2.6.*,!=2.7.*,!=2.8.*,!=2.9.*,<3.0.0dev,>=1.34.0->google-cloud-bigquery-storage) (1.48.2)\n",
            "Requirement already satisfied: grpcio<2.0dev,>=1.33.2 in /Users/roberta/.pyenv/versions/3.10.9/lib/python3.10/site-packages (from google-api-core[grpc]!=2.0.*,!=2.1.*,!=2.10.*,!=2.2.*,!=2.3.*,!=2.4.*,!=2.5.*,!=2.6.*,!=2.7.*,!=2.8.*,!=2.9.*,<3.0.0dev,>=1.34.0->google-cloud-bigquery-storage) (1.57.0)\n",
            "Requirement already satisfied: urllib3<2.0 in /Users/roberta/.pyenv/versions/3.10.9/lib/python3.10/site-packages (from google-auth<3.0.dev0,>=2.14.1->google-api-core[grpc]!=2.0.*,!=2.1.*,!=2.10.*,!=2.2.*,!=2.3.*,!=2.4.*,!=2.5.*,!=2.6.*,!=2.7.*,!=2.8.*,!=2.9.*,<3.0.0dev,>=1.34.0->google-cloud-bigquery-storage) (1.26.16)\n",
            "Requirement already satisfied: rsa<5,>=3.1.4 in /Users/roberta/.pyenv/versions/3.10.9/lib/python3.10/site-packages (from google-auth<3.0.dev0,>=2.14.1->google-api-core[grpc]!=2.0.*,!=2.1.*,!=2.10.*,!=2.2.*,!=2.3.*,!=2.4.*,!=2.5.*,!=2.6.*,!=2.7.*,!=2.8.*,!=2.9.*,<3.0.0dev,>=1.34.0->google-cloud-bigquery-storage) (4.9)\n",
            "Requirement already satisfied: six>=1.9.0 in /Users/roberta/.pyenv/versions/3.10.9/lib/python3.10/site-packages (from google-auth<3.0.dev0,>=2.14.1->google-api-core[grpc]!=2.0.*,!=2.1.*,!=2.10.*,!=2.2.*,!=2.3.*,!=2.4.*,!=2.5.*,!=2.6.*,!=2.7.*,!=2.8.*,!=2.9.*,<3.0.0dev,>=1.34.0->google-cloud-bigquery-storage) (1.16.0)\n",
            "Requirement already satisfied: cachetools<6.0,>=2.0.0 in /Users/roberta/.pyenv/versions/3.10.9/lib/python3.10/site-packages (from google-auth<3.0.dev0,>=2.14.1->google-api-core[grpc]!=2.0.*,!=2.1.*,!=2.10.*,!=2.2.*,!=2.3.*,!=2.4.*,!=2.5.*,!=2.6.*,!=2.7.*,!=2.8.*,!=2.9.*,<3.0.0dev,>=1.34.0->google-cloud-bigquery-storage) (5.3.1)\n",
            "Requirement already satisfied: pyasn1-modules>=0.2.1 in /Users/roberta/.pyenv/versions/3.10.9/lib/python3.10/site-packages (from google-auth<3.0.dev0,>=2.14.1->google-api-core[grpc]!=2.0.*,!=2.1.*,!=2.10.*,!=2.2.*,!=2.3.*,!=2.4.*,!=2.5.*,!=2.6.*,!=2.7.*,!=2.8.*,!=2.9.*,<3.0.0dev,>=1.34.0->google-cloud-bigquery-storage) (0.3.0)\n",
            "Requirement already satisfied: certifi>=2017.4.17 in /Users/roberta/.pyenv/versions/3.10.9/lib/python3.10/site-packages (from requests<3.0.0.dev0,>=2.18.0->google-api-core[grpc]!=2.0.*,!=2.1.*,!=2.10.*,!=2.2.*,!=2.3.*,!=2.4.*,!=2.5.*,!=2.6.*,!=2.7.*,!=2.8.*,!=2.9.*,<3.0.0dev,>=1.34.0->google-cloud-bigquery-storage) (2023.7.22)\n",
            "Requirement already satisfied: idna<4,>=2.5 in /Users/roberta/.pyenv/versions/3.10.9/lib/python3.10/site-packages (from requests<3.0.0.dev0,>=2.18.0->google-api-core[grpc]!=2.0.*,!=2.1.*,!=2.10.*,!=2.2.*,!=2.3.*,!=2.4.*,!=2.5.*,!=2.6.*,!=2.7.*,!=2.8.*,!=2.9.*,<3.0.0dev,>=1.34.0->google-cloud-bigquery-storage) (3.4)\n",
            "Requirement already satisfied: charset-normalizer<4,>=2 in /Users/roberta/.pyenv/versions/3.10.9/lib/python3.10/site-packages (from requests<3.0.0.dev0,>=2.18.0->google-api-core[grpc]!=2.0.*,!=2.1.*,!=2.10.*,!=2.2.*,!=2.3.*,!=2.4.*,!=2.5.*,!=2.6.*,!=2.7.*,!=2.8.*,!=2.9.*,<3.0.0dev,>=1.34.0->google-cloud-bigquery-storage) (3.2.0)\n",
            "Requirement already satisfied: pyasn1<0.6.0,>=0.4.6 in /Users/roberta/.pyenv/versions/3.10.9/lib/python3.10/site-packages (from pyasn1-modules>=0.2.1->google-auth<3.0.dev0,>=2.14.1->google-api-core[grpc]!=2.0.*,!=2.1.*,!=2.10.*,!=2.2.*,!=2.3.*,!=2.4.*,!=2.5.*,!=2.6.*,!=2.7.*,!=2.8.*,!=2.9.*,<3.0.0dev,>=1.34.0->google-cloud-bigquery-storage) (0.5.0)\n",
            "\n",
            "\u001b[1m[\u001b[0m\u001b[34;49mnotice\u001b[0m\u001b[1;39;49m]\u001b[0m\u001b[39;49m A new release of pip available: \u001b[0m\u001b[31;49m22.3.1\u001b[0m\u001b[39;49m -> \u001b[0m\u001b[32;49m23.2.1\u001b[0m\n",
            "\u001b[1m[\u001b[0m\u001b[34;49mnotice\u001b[0m\u001b[1;39;49m]\u001b[0m\u001b[39;49m To update, run: \u001b[0m\u001b[32;49mpip install --upgrade pip\u001b[0m\n",
            "Note: you may need to restart the kernel to use updated packages.\n",
            "Requirement already satisfied: sqlalchemy-bigquery==1.7.0 in /Users/roberta/.pyenv/versions/3.10.9/lib/python3.10/site-packages (1.7.0)\n",
            "Requirement already satisfied: google-api-core!=2.0.*,!=2.1.*,!=2.2.*,!=2.3.0,<3.0.0dev,>=1.31.5 in /Users/roberta/.pyenv/versions/3.10.9/lib/python3.10/site-packages (from sqlalchemy-bigquery==1.7.0) (2.11.1)\n",
            "Requirement already satisfied: packaging in /Users/roberta/.pyenv/versions/3.10.9/lib/python3.10/site-packages (from sqlalchemy-bigquery==1.7.0) (23.1)\n",
            "Requirement already satisfied: sqlalchemy<2.0.0dev,>=1.2.0 in /Users/roberta/.pyenv/versions/3.10.9/lib/python3.10/site-packages (from sqlalchemy-bigquery==1.7.0) (1.4.49)\n",
            "Requirement already satisfied: google-auth<3.0.0dev,>=1.25.0 in /Users/roberta/.pyenv/versions/3.10.9/lib/python3.10/site-packages (from sqlalchemy-bigquery==1.7.0) (2.22.0)\n",
            "Requirement already satisfied: google-cloud-bigquery<4.0.0dev,>=2.25.2 in /Users/roberta/.pyenv/versions/3.10.9/lib/python3.10/site-packages (from sqlalchemy-bigquery==1.7.0) (3.11.4)\n",
            "Requirement already satisfied: protobuf!=3.20.0,!=3.20.1,!=4.21.0,!=4.21.1,!=4.21.2,!=4.21.3,!=4.21.4,!=4.21.5,<5.0.0.dev0,>=3.19.5 in /Users/roberta/.pyenv/versions/3.10.9/lib/python3.10/site-packages (from google-api-core!=2.0.*,!=2.1.*,!=2.2.*,!=2.3.0,<3.0.0dev,>=1.31.5->sqlalchemy-bigquery==1.7.0) (3.20.3)\n",
            "Requirement already satisfied: googleapis-common-protos<2.0.dev0,>=1.56.2 in /Users/roberta/.pyenv/versions/3.10.9/lib/python3.10/site-packages (from google-api-core!=2.0.*,!=2.1.*,!=2.2.*,!=2.3.0,<3.0.0dev,>=1.31.5->sqlalchemy-bigquery==1.7.0) (1.60.0)\n",
            "Requirement already satisfied: requests<3.0.0.dev0,>=2.18.0 in /Users/roberta/.pyenv/versions/3.10.9/lib/python3.10/site-packages (from google-api-core!=2.0.*,!=2.1.*,!=2.2.*,!=2.3.0,<3.0.0dev,>=1.31.5->sqlalchemy-bigquery==1.7.0) (2.31.0)\n",
            "Requirement already satisfied: cachetools<6.0,>=2.0.0 in /Users/roberta/.pyenv/versions/3.10.9/lib/python3.10/site-packages (from google-auth<3.0.0dev,>=1.25.0->sqlalchemy-bigquery==1.7.0) (5.3.1)\n",
            "Requirement already satisfied: six>=1.9.0 in /Users/roberta/.pyenv/versions/3.10.9/lib/python3.10/site-packages (from google-auth<3.0.0dev,>=1.25.0->sqlalchemy-bigquery==1.7.0) (1.16.0)\n",
            "Requirement already satisfied: urllib3<2.0 in /Users/roberta/.pyenv/versions/3.10.9/lib/python3.10/site-packages (from google-auth<3.0.0dev,>=1.25.0->sqlalchemy-bigquery==1.7.0) (1.26.16)\n",
            "Requirement already satisfied: rsa<5,>=3.1.4 in /Users/roberta/.pyenv/versions/3.10.9/lib/python3.10/site-packages (from google-auth<3.0.0dev,>=1.25.0->sqlalchemy-bigquery==1.7.0) (4.9)\n",
            "Requirement already satisfied: pyasn1-modules>=0.2.1 in /Users/roberta/.pyenv/versions/3.10.9/lib/python3.10/site-packages (from google-auth<3.0.0dev,>=1.25.0->sqlalchemy-bigquery==1.7.0) (0.3.0)\n",
            "Requirement already satisfied: grpcio<2.0dev,>=1.47.0 in /Users/roberta/.pyenv/versions/3.10.9/lib/python3.10/site-packages (from google-cloud-bigquery<4.0.0dev,>=2.25.2->sqlalchemy-bigquery==1.7.0) (1.57.0)\n",
            "Requirement already satisfied: proto-plus<2.0.0dev,>=1.15.0 in /Users/roberta/.pyenv/versions/3.10.9/lib/python3.10/site-packages (from google-cloud-bigquery<4.0.0dev,>=2.25.2->sqlalchemy-bigquery==1.7.0) (1.22.3)\n",
            "Requirement already satisfied: google-resumable-media<3.0dev,>=0.6.0 in /Users/roberta/.pyenv/versions/3.10.9/lib/python3.10/site-packages (from google-cloud-bigquery<4.0.0dev,>=2.25.2->sqlalchemy-bigquery==1.7.0) (2.5.0)\n",
            "Requirement already satisfied: python-dateutil<3.0dev,>=2.7.2 in /Users/roberta/.pyenv/versions/3.10.9/lib/python3.10/site-packages (from google-cloud-bigquery<4.0.0dev,>=2.25.2->sqlalchemy-bigquery==1.7.0) (2.8.2)\n",
            "Requirement already satisfied: google-cloud-core<3.0.0dev,>=1.6.0 in /Users/roberta/.pyenv/versions/3.10.9/lib/python3.10/site-packages (from google-cloud-bigquery<4.0.0dev,>=2.25.2->sqlalchemy-bigquery==1.7.0) (2.3.3)\n",
            "Requirement already satisfied: grpcio-status<2.0.dev0,>=1.33.2 in /Users/roberta/.pyenv/versions/3.10.9/lib/python3.10/site-packages (from google-api-core!=2.0.*,!=2.1.*,!=2.2.*,!=2.3.0,<3.0.0dev,>=1.31.5->sqlalchemy-bigquery==1.7.0) (1.48.2)\n",
            "Requirement already satisfied: google-crc32c<2.0dev,>=1.0 in /Users/roberta/.pyenv/versions/3.10.9/lib/python3.10/site-packages (from google-resumable-media<3.0dev,>=0.6.0->google-cloud-bigquery<4.0.0dev,>=2.25.2->sqlalchemy-bigquery==1.7.0) (1.5.0)\n",
            "Requirement already satisfied: pyasn1<0.6.0,>=0.4.6 in /Users/roberta/.pyenv/versions/3.10.9/lib/python3.10/site-packages (from pyasn1-modules>=0.2.1->google-auth<3.0.0dev,>=1.25.0->sqlalchemy-bigquery==1.7.0) (0.5.0)\n",
            "Requirement already satisfied: certifi>=2017.4.17 in /Users/roberta/.pyenv/versions/3.10.9/lib/python3.10/site-packages (from requests<3.0.0.dev0,>=2.18.0->google-api-core!=2.0.*,!=2.1.*,!=2.2.*,!=2.3.0,<3.0.0dev,>=1.31.5->sqlalchemy-bigquery==1.7.0) (2023.7.22)\n",
            "Requirement already satisfied: idna<4,>=2.5 in /Users/roberta/.pyenv/versions/3.10.9/lib/python3.10/site-packages (from requests<3.0.0.dev0,>=2.18.0->google-api-core!=2.0.*,!=2.1.*,!=2.2.*,!=2.3.0,<3.0.0dev,>=1.31.5->sqlalchemy-bigquery==1.7.0) (3.4)\n",
            "Requirement already satisfied: charset-normalizer<4,>=2 in /Users/roberta/.pyenv/versions/3.10.9/lib/python3.10/site-packages (from requests<3.0.0.dev0,>=2.18.0->google-api-core!=2.0.*,!=2.1.*,!=2.2.*,!=2.3.0,<3.0.0dev,>=1.31.5->sqlalchemy-bigquery==1.7.0) (3.2.0)\n",
            "\n",
            "\u001b[1m[\u001b[0m\u001b[34;49mnotice\u001b[0m\u001b[1;39;49m]\u001b[0m\u001b[39;49m A new release of pip available: \u001b[0m\u001b[31;49m22.3.1\u001b[0m\u001b[39;49m -> \u001b[0m\u001b[32;49m23.2.1\u001b[0m\n",
            "\u001b[1m[\u001b[0m\u001b[34;49mnotice\u001b[0m\u001b[1;39;49m]\u001b[0m\u001b[39;49m To update, run: \u001b[0m\u001b[32;49mpip install --upgrade pip\u001b[0m\n",
            "Note: you may need to restart the kernel to use updated packages.\n",
            "Requirement already satisfied: google-cloud-aiplatform in /Users/roberta/.pyenv/versions/3.10.9/lib/python3.10/site-packages (1.32.0)\n",
            "Requirement already satisfied: shapely<2.0.0 in /Users/roberta/.pyenv/versions/3.10.9/lib/python3.10/site-packages (from google-cloud-aiplatform) (1.8.5.post1)\n",
            "Requirement already satisfied: google-cloud-resource-manager<3.0.0dev,>=1.3.3 in /Users/roberta/.pyenv/versions/3.10.9/lib/python3.10/site-packages (from google-cloud-aiplatform) (1.10.3)\n",
            "Requirement already satisfied: packaging>=14.3 in /Users/roberta/.pyenv/versions/3.10.9/lib/python3.10/site-packages (from google-cloud-aiplatform) (23.1)\n",
            "Requirement already satisfied: google-cloud-storage<3.0.0dev,>=1.32.0 in /Users/roberta/.pyenv/versions/3.10.9/lib/python3.10/site-packages (from google-cloud-aiplatform) (2.10.0)\n",
            "Requirement already satisfied: proto-plus<2.0.0dev,>=1.22.0 in /Users/roberta/.pyenv/versions/3.10.9/lib/python3.10/site-packages (from google-cloud-aiplatform) (1.22.3)\n",
            "Requirement already satisfied: protobuf!=3.20.0,!=3.20.1,!=4.21.0,!=4.21.1,!=4.21.2,!=4.21.3,!=4.21.4,!=4.21.5,<5.0.0dev,>=3.19.5 in /Users/roberta/.pyenv/versions/3.10.9/lib/python3.10/site-packages (from google-cloud-aiplatform) (3.20.3)\n",
            "Requirement already satisfied: google-api-core[grpc]!=2.0.*,!=2.1.*,!=2.2.*,!=2.3.*,!=2.4.*,!=2.5.*,!=2.6.*,!=2.7.*,<3.0.0dev,>=1.32.0 in /Users/roberta/.pyenv/versions/3.10.9/lib/python3.10/site-packages (from google-cloud-aiplatform) (2.11.1)\n",
            "Requirement already satisfied: google-cloud-bigquery<4.0.0dev,>=1.15.0 in /Users/roberta/.pyenv/versions/3.10.9/lib/python3.10/site-packages (from google-cloud-aiplatform) (3.11.4)\n",
            "Requirement already satisfied: google-auth<3.0.dev0,>=2.14.1 in /Users/roberta/.pyenv/versions/3.10.9/lib/python3.10/site-packages (from google-api-core[grpc]!=2.0.*,!=2.1.*,!=2.2.*,!=2.3.*,!=2.4.*,!=2.5.*,!=2.6.*,!=2.7.*,<3.0.0dev,>=1.32.0->google-cloud-aiplatform) (2.22.0)\n",
            "Requirement already satisfied: googleapis-common-protos<2.0.dev0,>=1.56.2 in /Users/roberta/.pyenv/versions/3.10.9/lib/python3.10/site-packages (from google-api-core[grpc]!=2.0.*,!=2.1.*,!=2.2.*,!=2.3.*,!=2.4.*,!=2.5.*,!=2.6.*,!=2.7.*,<3.0.0dev,>=1.32.0->google-cloud-aiplatform) (1.60.0)\n",
            "Requirement already satisfied: requests<3.0.0.dev0,>=2.18.0 in /Users/roberta/.pyenv/versions/3.10.9/lib/python3.10/site-packages (from google-api-core[grpc]!=2.0.*,!=2.1.*,!=2.2.*,!=2.3.*,!=2.4.*,!=2.5.*,!=2.6.*,!=2.7.*,<3.0.0dev,>=1.32.0->google-cloud-aiplatform) (2.31.0)\n",
            "Requirement already satisfied: grpcio<2.0dev,>=1.33.2 in /Users/roberta/.pyenv/versions/3.10.9/lib/python3.10/site-packages (from google-api-core[grpc]!=2.0.*,!=2.1.*,!=2.2.*,!=2.3.*,!=2.4.*,!=2.5.*,!=2.6.*,!=2.7.*,<3.0.0dev,>=1.32.0->google-cloud-aiplatform) (1.57.0)\n",
            "Requirement already satisfied: grpcio-status<2.0.dev0,>=1.33.2 in /Users/roberta/.pyenv/versions/3.10.9/lib/python3.10/site-packages (from google-api-core[grpc]!=2.0.*,!=2.1.*,!=2.2.*,!=2.3.*,!=2.4.*,!=2.5.*,!=2.6.*,!=2.7.*,<3.0.0dev,>=1.32.0->google-cloud-aiplatform) (1.48.2)\n",
            "Requirement already satisfied: python-dateutil<3.0dev,>=2.7.2 in /Users/roberta/.pyenv/versions/3.10.9/lib/python3.10/site-packages (from google-cloud-bigquery<4.0.0dev,>=1.15.0->google-cloud-aiplatform) (2.8.2)\n",
            "Requirement already satisfied: google-resumable-media<3.0dev,>=0.6.0 in /Users/roberta/.pyenv/versions/3.10.9/lib/python3.10/site-packages (from google-cloud-bigquery<4.0.0dev,>=1.15.0->google-cloud-aiplatform) (2.5.0)\n",
            "Requirement already satisfied: google-cloud-core<3.0.0dev,>=1.6.0 in /Users/roberta/.pyenv/versions/3.10.9/lib/python3.10/site-packages (from google-cloud-bigquery<4.0.0dev,>=1.15.0->google-cloud-aiplatform) (2.3.3)\n",
            "Requirement already satisfied: grpc-google-iam-v1<1.0.0dev,>=0.12.4 in /Users/roberta/.pyenv/versions/3.10.9/lib/python3.10/site-packages (from google-cloud-resource-manager<3.0.0dev,>=1.3.3->google-cloud-aiplatform) (0.12.6)\n",
            "Requirement already satisfied: pyasn1-modules>=0.2.1 in /Users/roberta/.pyenv/versions/3.10.9/lib/python3.10/site-packages (from google-auth<3.0.dev0,>=2.14.1->google-api-core[grpc]!=2.0.*,!=2.1.*,!=2.2.*,!=2.3.*,!=2.4.*,!=2.5.*,!=2.6.*,!=2.7.*,<3.0.0dev,>=1.32.0->google-cloud-aiplatform) (0.3.0)\n",
            "Requirement already satisfied: six>=1.9.0 in /Users/roberta/.pyenv/versions/3.10.9/lib/python3.10/site-packages (from google-auth<3.0.dev0,>=2.14.1->google-api-core[grpc]!=2.0.*,!=2.1.*,!=2.2.*,!=2.3.*,!=2.4.*,!=2.5.*,!=2.6.*,!=2.7.*,<3.0.0dev,>=1.32.0->google-cloud-aiplatform) (1.16.0)\n",
            "Requirement already satisfied: cachetools<6.0,>=2.0.0 in /Users/roberta/.pyenv/versions/3.10.9/lib/python3.10/site-packages (from google-auth<3.0.dev0,>=2.14.1->google-api-core[grpc]!=2.0.*,!=2.1.*,!=2.2.*,!=2.3.*,!=2.4.*,!=2.5.*,!=2.6.*,!=2.7.*,<3.0.0dev,>=1.32.0->google-cloud-aiplatform) (5.3.1)\n",
            "Requirement already satisfied: rsa<5,>=3.1.4 in /Users/roberta/.pyenv/versions/3.10.9/lib/python3.10/site-packages (from google-auth<3.0.dev0,>=2.14.1->google-api-core[grpc]!=2.0.*,!=2.1.*,!=2.2.*,!=2.3.*,!=2.4.*,!=2.5.*,!=2.6.*,!=2.7.*,<3.0.0dev,>=1.32.0->google-cloud-aiplatform) (4.9)\n",
            "Requirement already satisfied: urllib3<2.0 in /Users/roberta/.pyenv/versions/3.10.9/lib/python3.10/site-packages (from google-auth<3.0.dev0,>=2.14.1->google-api-core[grpc]!=2.0.*,!=2.1.*,!=2.2.*,!=2.3.*,!=2.4.*,!=2.5.*,!=2.6.*,!=2.7.*,<3.0.0dev,>=1.32.0->google-cloud-aiplatform) (1.26.16)\n",
            "Requirement already satisfied: google-crc32c<2.0dev,>=1.0 in /Users/roberta/.pyenv/versions/3.10.9/lib/python3.10/site-packages (from google-resumable-media<3.0dev,>=0.6.0->google-cloud-bigquery<4.0.0dev,>=1.15.0->google-cloud-aiplatform) (1.5.0)\n",
            "Requirement already satisfied: idna<4,>=2.5 in /Users/roberta/.pyenv/versions/3.10.9/lib/python3.10/site-packages (from requests<3.0.0.dev0,>=2.18.0->google-api-core[grpc]!=2.0.*,!=2.1.*,!=2.2.*,!=2.3.*,!=2.4.*,!=2.5.*,!=2.6.*,!=2.7.*,<3.0.0dev,>=1.32.0->google-cloud-aiplatform) (3.4)\n",
            "Requirement already satisfied: charset-normalizer<4,>=2 in /Users/roberta/.pyenv/versions/3.10.9/lib/python3.10/site-packages (from requests<3.0.0.dev0,>=2.18.0->google-api-core[grpc]!=2.0.*,!=2.1.*,!=2.2.*,!=2.3.*,!=2.4.*,!=2.5.*,!=2.6.*,!=2.7.*,<3.0.0dev,>=1.32.0->google-cloud-aiplatform) (3.2.0)\n",
            "Requirement already satisfied: certifi>=2017.4.17 in /Users/roberta/.pyenv/versions/3.10.9/lib/python3.10/site-packages (from requests<3.0.0.dev0,>=2.18.0->google-api-core[grpc]!=2.0.*,!=2.1.*,!=2.2.*,!=2.3.*,!=2.4.*,!=2.5.*,!=2.6.*,!=2.7.*,<3.0.0dev,>=1.32.0->google-cloud-aiplatform) (2023.7.22)\n",
            "Requirement already satisfied: pyasn1<0.6.0,>=0.4.6 in /Users/roberta/.pyenv/versions/3.10.9/lib/python3.10/site-packages (from pyasn1-modules>=0.2.1->google-auth<3.0.dev0,>=2.14.1->google-api-core[grpc]!=2.0.*,!=2.1.*,!=2.2.*,!=2.3.*,!=2.4.*,!=2.5.*,!=2.6.*,!=2.7.*,<3.0.0dev,>=1.32.0->google-cloud-aiplatform) (0.5.0)\n",
            "\n",
            "\u001b[1m[\u001b[0m\u001b[34;49mnotice\u001b[0m\u001b[1;39;49m]\u001b[0m\u001b[39;49m A new release of pip available: \u001b[0m\u001b[31;49m22.3.1\u001b[0m\u001b[39;49m -> \u001b[0m\u001b[32;49m23.2.1\u001b[0m\n",
            "\u001b[1m[\u001b[0m\u001b[34;49mnotice\u001b[0m\u001b[1;39;49m]\u001b[0m\u001b[39;49m To update, run: \u001b[0m\u001b[32;49mpip install --upgrade pip\u001b[0m\n",
            "Note: you may need to restart the kernel to use updated packages.\n",
            "Requirement already satisfied: langchain in /Users/roberta/.pyenv/versions/3.10.9/lib/python3.10/site-packages (0.0.287)\n",
            "Requirement already satisfied: numexpr<3.0.0,>=2.8.4 in /Users/roberta/.pyenv/versions/3.10.9/lib/python3.10/site-packages (from langchain) (2.8.5)\n",
            "Requirement already satisfied: langsmith<0.1.0,>=0.0.21 in /Users/roberta/.pyenv/versions/3.10.9/lib/python3.10/site-packages (from langchain) (0.0.36)\n",
            "Requirement already satisfied: tenacity<9.0.0,>=8.1.0 in /Users/roberta/.pyenv/versions/3.10.9/lib/python3.10/site-packages (from langchain) (8.2.3)\n",
            "Requirement already satisfied: pydantic<3,>=1 in /Users/roberta/.pyenv/versions/3.10.9/lib/python3.10/site-packages (from langchain) (1.10.8)\n",
            "Requirement already satisfied: async-timeout<5.0.0,>=4.0.0 in /Users/roberta/.pyenv/versions/3.10.9/lib/python3.10/site-packages (from langchain) (4.0.3)\n",
            "Requirement already satisfied: requests<3,>=2 in /Users/roberta/.pyenv/versions/3.10.9/lib/python3.10/site-packages (from langchain) (2.31.0)\n",
            "Requirement already satisfied: aiohttp<4.0.0,>=3.8.3 in /Users/roberta/.pyenv/versions/3.10.9/lib/python3.10/site-packages (from langchain) (3.8.5)\n",
            "Requirement already satisfied: numpy<2,>=1 in /Users/roberta/.pyenv/versions/3.10.9/lib/python3.10/site-packages (from langchain) (1.23.5)\n",
            "Requirement already satisfied: dataclasses-json<0.6.0,>=0.5.7 in /Users/roberta/.pyenv/versions/3.10.9/lib/python3.10/site-packages (from langchain) (0.5.14)\n",
            "Requirement already satisfied: PyYAML>=5.3 in /Users/roberta/.pyenv/versions/3.10.9/lib/python3.10/site-packages (from langchain) (6.0.1)\n",
            "Requirement already satisfied: SQLAlchemy<3,>=1.4 in /Users/roberta/.pyenv/versions/3.10.9/lib/python3.10/site-packages (from langchain) (1.4.49)\n",
            "Requirement already satisfied: frozenlist>=1.1.1 in /Users/roberta/.pyenv/versions/3.10.9/lib/python3.10/site-packages (from aiohttp<4.0.0,>=3.8.3->langchain) (1.4.0)\n",
            "Requirement already satisfied: aiosignal>=1.1.2 in /Users/roberta/.pyenv/versions/3.10.9/lib/python3.10/site-packages (from aiohttp<4.0.0,>=3.8.3->langchain) (1.3.1)\n",
            "Requirement already satisfied: charset-normalizer<4.0,>=2.0 in /Users/roberta/.pyenv/versions/3.10.9/lib/python3.10/site-packages (from aiohttp<4.0.0,>=3.8.3->langchain) (3.2.0)\n",
            "Requirement already satisfied: attrs>=17.3.0 in /Users/roberta/.pyenv/versions/3.10.9/lib/python3.10/site-packages (from aiohttp<4.0.0,>=3.8.3->langchain) (23.1.0)\n",
            "Requirement already satisfied: yarl<2.0,>=1.0 in /Users/roberta/.pyenv/versions/3.10.9/lib/python3.10/site-packages (from aiohttp<4.0.0,>=3.8.3->langchain) (1.9.2)\n",
            "Requirement already satisfied: multidict<7.0,>=4.5 in /Users/roberta/.pyenv/versions/3.10.9/lib/python3.10/site-packages (from aiohttp<4.0.0,>=3.8.3->langchain) (6.0.4)\n",
            "Requirement already satisfied: marshmallow<4.0.0,>=3.18.0 in /Users/roberta/.pyenv/versions/3.10.9/lib/python3.10/site-packages (from dataclasses-json<0.6.0,>=0.5.7->langchain) (3.20.1)\n",
            "Requirement already satisfied: typing-inspect<1,>=0.4.0 in /Users/roberta/.pyenv/versions/3.10.9/lib/python3.10/site-packages (from dataclasses-json<0.6.0,>=0.5.7->langchain) (0.8.0)\n",
            "Requirement already satisfied: typing-extensions>=4.2.0 in /Users/roberta/.pyenv/versions/3.10.9/lib/python3.10/site-packages (from pydantic<3,>=1->langchain) (4.5.0)\n",
            "Requirement already satisfied: idna<4,>=2.5 in /Users/roberta/.pyenv/versions/3.10.9/lib/python3.10/site-packages (from requests<3,>=2->langchain) (3.4)\n",
            "Requirement already satisfied: urllib3<3,>=1.21.1 in /Users/roberta/.pyenv/versions/3.10.9/lib/python3.10/site-packages (from requests<3,>=2->langchain) (1.26.16)\n",
            "Requirement already satisfied: certifi>=2017.4.17 in /Users/roberta/.pyenv/versions/3.10.9/lib/python3.10/site-packages (from requests<3,>=2->langchain) (2023.7.22)\n",
            "Requirement already satisfied: packaging>=17.0 in /Users/roberta/.pyenv/versions/3.10.9/lib/python3.10/site-packages (from marshmallow<4.0.0,>=3.18.0->dataclasses-json<0.6.0,>=0.5.7->langchain) (23.1)\n",
            "Requirement already satisfied: mypy-extensions>=0.3.0 in /Users/roberta/.pyenv/versions/3.10.9/lib/python3.10/site-packages (from typing-inspect<1,>=0.4.0->dataclasses-json<0.6.0,>=0.5.7->langchain) (1.0.0)\n",
            "\n",
            "\u001b[1m[\u001b[0m\u001b[34;49mnotice\u001b[0m\u001b[1;39;49m]\u001b[0m\u001b[39;49m A new release of pip available: \u001b[0m\u001b[31;49m22.3.1\u001b[0m\u001b[39;49m -> \u001b[0m\u001b[32;49m23.2.1\u001b[0m\n",
            "\u001b[1m[\u001b[0m\u001b[34;49mnotice\u001b[0m\u001b[1;39;49m]\u001b[0m\u001b[39;49m To update, run: \u001b[0m\u001b[32;49mpip install --upgrade pip\u001b[0m\n",
            "Note: you may need to restart the kernel to use updated packages.\n",
            "Requirement already satisfied: langchain-experimental in /Users/roberta/.pyenv/versions/3.10.9/lib/python3.10/site-packages (0.0.17)\n",
            "Requirement already satisfied: langchain>=0.0.239 in /Users/roberta/.pyenv/versions/3.10.9/lib/python3.10/site-packages (from langchain-experimental) (0.0.287)\n",
            "Requirement already satisfied: dataclasses-json<0.6.0,>=0.5.7 in /Users/roberta/.pyenv/versions/3.10.9/lib/python3.10/site-packages (from langchain>=0.0.239->langchain-experimental) (0.5.14)\n",
            "Requirement already satisfied: async-timeout<5.0.0,>=4.0.0 in /Users/roberta/.pyenv/versions/3.10.9/lib/python3.10/site-packages (from langchain>=0.0.239->langchain-experimental) (4.0.3)\n",
            "Requirement already satisfied: SQLAlchemy<3,>=1.4 in /Users/roberta/.pyenv/versions/3.10.9/lib/python3.10/site-packages (from langchain>=0.0.239->langchain-experimental) (1.4.49)\n",
            "Requirement already satisfied: pydantic<3,>=1 in /Users/roberta/.pyenv/versions/3.10.9/lib/python3.10/site-packages (from langchain>=0.0.239->langchain-experimental) (1.10.8)\n",
            "Requirement already satisfied: numexpr<3.0.0,>=2.8.4 in /Users/roberta/.pyenv/versions/3.10.9/lib/python3.10/site-packages (from langchain>=0.0.239->langchain-experimental) (2.8.5)\n",
            "Requirement already satisfied: langsmith<0.1.0,>=0.0.21 in /Users/roberta/.pyenv/versions/3.10.9/lib/python3.10/site-packages (from langchain>=0.0.239->langchain-experimental) (0.0.36)\n",
            "Requirement already satisfied: requests<3,>=2 in /Users/roberta/.pyenv/versions/3.10.9/lib/python3.10/site-packages (from langchain>=0.0.239->langchain-experimental) (2.31.0)\n",
            "Requirement already satisfied: tenacity<9.0.0,>=8.1.0 in /Users/roberta/.pyenv/versions/3.10.9/lib/python3.10/site-packages (from langchain>=0.0.239->langchain-experimental) (8.2.3)\n",
            "Requirement already satisfied: numpy<2,>=1 in /Users/roberta/.pyenv/versions/3.10.9/lib/python3.10/site-packages (from langchain>=0.0.239->langchain-experimental) (1.23.5)\n",
            "Requirement already satisfied: aiohttp<4.0.0,>=3.8.3 in /Users/roberta/.pyenv/versions/3.10.9/lib/python3.10/site-packages (from langchain>=0.0.239->langchain-experimental) (3.8.5)\n",
            "Requirement already satisfied: PyYAML>=5.3 in /Users/roberta/.pyenv/versions/3.10.9/lib/python3.10/site-packages (from langchain>=0.0.239->langchain-experimental) (6.0.1)\n",
            "Requirement already satisfied: charset-normalizer<4.0,>=2.0 in /Users/roberta/.pyenv/versions/3.10.9/lib/python3.10/site-packages (from aiohttp<4.0.0,>=3.8.3->langchain>=0.0.239->langchain-experimental) (3.2.0)\n",
            "Requirement already satisfied: yarl<2.0,>=1.0 in /Users/roberta/.pyenv/versions/3.10.9/lib/python3.10/site-packages (from aiohttp<4.0.0,>=3.8.3->langchain>=0.0.239->langchain-experimental) (1.9.2)\n",
            "Requirement already satisfied: attrs>=17.3.0 in /Users/roberta/.pyenv/versions/3.10.9/lib/python3.10/site-packages (from aiohttp<4.0.0,>=3.8.3->langchain>=0.0.239->langchain-experimental) (23.1.0)\n",
            "Requirement already satisfied: aiosignal>=1.1.2 in /Users/roberta/.pyenv/versions/3.10.9/lib/python3.10/site-packages (from aiohttp<4.0.0,>=3.8.3->langchain>=0.0.239->langchain-experimental) (1.3.1)\n",
            "Requirement already satisfied: multidict<7.0,>=4.5 in /Users/roberta/.pyenv/versions/3.10.9/lib/python3.10/site-packages (from aiohttp<4.0.0,>=3.8.3->langchain>=0.0.239->langchain-experimental) (6.0.4)\n",
            "Requirement already satisfied: frozenlist>=1.1.1 in /Users/roberta/.pyenv/versions/3.10.9/lib/python3.10/site-packages (from aiohttp<4.0.0,>=3.8.3->langchain>=0.0.239->langchain-experimental) (1.4.0)\n",
            "Requirement already satisfied: typing-inspect<1,>=0.4.0 in /Users/roberta/.pyenv/versions/3.10.9/lib/python3.10/site-packages (from dataclasses-json<0.6.0,>=0.5.7->langchain>=0.0.239->langchain-experimental) (0.8.0)\n",
            "Requirement already satisfied: marshmallow<4.0.0,>=3.18.0 in /Users/roberta/.pyenv/versions/3.10.9/lib/python3.10/site-packages (from dataclasses-json<0.6.0,>=0.5.7->langchain>=0.0.239->langchain-experimental) (3.20.1)\n",
            "Requirement already satisfied: typing-extensions>=4.2.0 in /Users/roberta/.pyenv/versions/3.10.9/lib/python3.10/site-packages (from pydantic<3,>=1->langchain>=0.0.239->langchain-experimental) (4.5.0)\n",
            "Requirement already satisfied: certifi>=2017.4.17 in /Users/roberta/.pyenv/versions/3.10.9/lib/python3.10/site-packages (from requests<3,>=2->langchain>=0.0.239->langchain-experimental) (2023.7.22)\n",
            "Requirement already satisfied: urllib3<3,>=1.21.1 in /Users/roberta/.pyenv/versions/3.10.9/lib/python3.10/site-packages (from requests<3,>=2->langchain>=0.0.239->langchain-experimental) (1.26.16)\n",
            "Requirement already satisfied: idna<4,>=2.5 in /Users/roberta/.pyenv/versions/3.10.9/lib/python3.10/site-packages (from requests<3,>=2->langchain>=0.0.239->langchain-experimental) (3.4)\n",
            "Requirement already satisfied: packaging>=17.0 in /Users/roberta/.pyenv/versions/3.10.9/lib/python3.10/site-packages (from marshmallow<4.0.0,>=3.18.0->dataclasses-json<0.6.0,>=0.5.7->langchain>=0.0.239->langchain-experimental) (23.1)\n",
            "Requirement already satisfied: mypy-extensions>=0.3.0 in /Users/roberta/.pyenv/versions/3.10.9/lib/python3.10/site-packages (from typing-inspect<1,>=0.4.0->dataclasses-json<0.6.0,>=0.5.7->langchain>=0.0.239->langchain-experimental) (1.0.0)\n",
            "\n",
            "\u001b[1m[\u001b[0m\u001b[34;49mnotice\u001b[0m\u001b[1;39;49m]\u001b[0m\u001b[39;49m A new release of pip available: \u001b[0m\u001b[31;49m22.3.1\u001b[0m\u001b[39;49m -> \u001b[0m\u001b[32;49m23.2.1\u001b[0m\n",
            "\u001b[1m[\u001b[0m\u001b[34;49mnotice\u001b[0m\u001b[1;39;49m]\u001b[0m\u001b[39;49m To update, run: \u001b[0m\u001b[32;49mpip install --upgrade pip\u001b[0m\n",
            "Note: you may need to restart the kernel to use updated packages.\n"
          ]
        }
      ],
      "source": [
        "%pip install pybigquery\n",
        "%pip install SQLAlchemy==1.4.49\n",
        "%pip install pyarrow\n",
        "%pip install google-cloud-bigquery-storage\n",
        "%pip install sqlalchemy-bigquery==1.7.0\n",
        "%pip install google-cloud-aiplatform\n",
        "%pip install langchain\n",
        "%pip install langchain-experimental"
      ]
    },
    {
      "attachments": {},
      "cell_type": "markdown",
      "metadata": {},
      "source": [
        "### Create SQL chain"
      ]
    },
    {
      "cell_type": "code",
      "execution_count": 5,
      "metadata": {},
      "outputs": [
        {
          "name": "stderr",
          "output_type": "stream",
          "text": [
            "/Users/roberta/.pyenv/versions/3.10.9/lib/python3.10/importlib/__init__.py:126: UserWarning: Obsolete pybigquery is installed, which is likely to\n",
            "interfere with sqlalchemy_bigquery.\n",
            "pybigquery should be uninstalled.\n",
            "  return _bootstrap._gcd_import(name[level:], package, level)\n"
          ]
        },
        {
          "name": "stdout",
          "output_type": "stream",
          "text": [
            "cloudpickle is not installed. Please call `pip install google-cloud-aiplatform[preview]`.\n",
            "\n",
            "\n",
            "\u001b[1m> Entering new SQLDatabaseChain chain...\u001b[0m\n",
            "How many customers are there?\n",
            "SQLQuery:\u001b[32;1m\u001b[1;3mSELECT COUNT(*) FROM customers\u001b[0m\n",
            "SQLResult: \u001b[33;1m\u001b[1;3m[(1000,)]\u001b[0m\n",
            "Answer:\u001b[32;1m\u001b[1;3mThere are 1000 customers.\u001b[0m\n",
            "\u001b[1m> Finished chain.\u001b[0m\n"
          ]
        },
        {
          "data": {
            "text/plain": [
              "{'query': 'How many customers are there?',\n",
              " 'result': 'There are 1000 customers.'}"
            ]
          },
          "execution_count": 5,
          "metadata": {},
          "output_type": "execute_result"
        }
      ],
      "source": [
        "from langchain_experimental.sql import SQLDatabaseChain\n",
        "from langchain.sql_database import SQLDatabase\n",
        "from langchain.llms import VertexAI\n",
        "from sqlalchemy.engine import create_engine\n",
        "\n",
        "\n",
        "engine = create_engine(f\"bigquery://{project_id}/{dataset_id}\")\n",
        "\n",
        "llm = VertexAI(model_name='text-bison@001',\n",
        "               temperature=0, max_output_tokens=1024)\n",
        "\n",
        "db = SQLDatabase(engine=engine)\n",
        "\n",
        "\n",
        "db_chain = SQLDatabaseChain.from_llm(\n",
        "        llm,\n",
        "        db,\n",
        "        verbose=True\n",
        "    )\n",
        "\n",
        "# Some test questions\n",
        "# db_chain(\"How many employees are there?\")\n",
        "# db_chain(\"total_revenue\")\n",
        "db_chain(\"How many customers are there?\")\n"
      ]
    },
    {
      "cell_type": "markdown",
      "metadata": {},
      "source": []
    }
  ],
  "metadata": {
    "colab": {
      "provenance": [],
      "toc_visible": true
    },
    "kernelspec": {
      "display_name": "Python 3",
      "language": "python",
      "name": "python3"
    },
    "language_info": {
      "codemirror_mode": {
        "name": "ipython",
        "version": 3
      },
      "file_extension": ".py",
      "mimetype": "text/x-python",
      "name": "python",
      "nbconvert_exporter": "python",
      "pygments_lexer": "ipython3",
      "version": "3.10.9"
    },
    "vscode": {
      "interpreter": {
        "hash": "9ea5ffafec065a5b064a6fab7872630ad2c79ca3c7ae1da3bf097c85297990f4"
      }
    }
  },
  "nbformat": 4,
  "nbformat_minor": 0
}
