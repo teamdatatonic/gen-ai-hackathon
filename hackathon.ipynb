{
  "cells": [
    {
      "attachments": {},
      "cell_type": "markdown",
      "metadata": {
        "id": "ScHDNga8s3Rw"
      },
      "source": [
        "# Generative AI Hackathon\n",
        "\n",
        "## Introduction\n",
        "\n",
        "This notebook walks you through the challenge of implementing a **Knowledge Worker** for your organisation using **Generative AI**!\n",
        "\n",
        "**Why a knowledge worker?** Decentralized data across internal and external databases results in time wasted as workforce tries to find required information and transform into insights. A knowledge worker can consolidate this information, then answer queries in natural language providing summarisation and sources.\n",
        "\n",
        "➡️ **Your task:** Implement a knowledge worker to enable users in your company to perform Q&A, in natural language, upon a knowledge base.\n",
        "In this way, you'll centralise company data for easy access in a user-friendly manner, boosting productivity.\n",
        "As such, you'll create a knowledge worker fine-tuned to your data domain.\n",
        "This app will only have access to specific knowledge such as public data about your company available on your company's website and unstructured documents (websites, PDF, Word, text ...).\n",
        "\n",
        "While solving the tasks as instructed in this notebook, you'll familiarise yourself with common concepts and tools for Generative AI including:\n",
        "\n",
        "- The Open-Source tool LangChain\n",
        "- Large Language Models (LLMs)\n",
        "- Text Embeddings and Vector Databases\n",
        "- Prompts and Prompt Engineering\n",
        "\n",
        "Ultimately, this notebook details how to get started with LangChain, and walks through setting up a knowledge worker on Google Cloud and Vertex AI.\n",
        "\n",
        "## Implementing a knowledge worker\n",
        "\n",
        "When creating a knowledge worker, you recall Large Language Models (LLMs) can be tuned for a variety of tasks such as text summarisation, answering questions, and generating new content (and many more!).\n",
        "When it comes to tuning approaches, you'll have the choice between:\n",
        "\n",
        "**A) Zero-shot learning:** Use LLMs directly without providing additional data or fine-tuning the model.\n",
        "\n",
        "**B) Few-shot learning:** Provide a select number of input examples when using LLM to improve the quality of outputs.\n",
        "\n",
        "**C) Model Fine-tuning:** Fine-tune certain (or additional) layers in the LLM by training the model on provided training data.\n",
        "\n",
        "Instead of training LLMs using your own data (ie. fine-tuning), it is far easier and more effective to adapt the LLM to your use-case by prompt engineering only (ie. tuning).\n",
        "Thus, methods A) and B) are more applicable for creating your first knowledge worker.\n",
        "\n",
        "A knowledge worker can be approached in two stages:\n",
        "\n",
        "1. Embedding knowledge from diverse sources.\n",
        "2. Querying a LLM which is aware of your relevant knowledge to answer questions.\n",
        "\n",
        "![A typical ingestion chain](https://github.com/teamdatatonic/gen-ai-hackathon/blob/7f37d477b18ace5912d34b0574512559d7a457ed/assets/typical-ingestion-chain.png?raw=true)\n",
        "\n",
        "First, documents (websites, Word documents, databases, Powerpoints, PDFs, etc.) are loaded and split into chunks. Fragmenting is important for three reasons:\n",
        "\n",
        "1. There are technical restrictions on how much data (tokens) can be fed into an LLM at once, meaning the context + system prompt + chat history + user prompt must fit within the token limit.\n",
        "2. Most LLM APIs operate on a per-token pricing model, meaning it is cost-effective to limit the size / amount of data provided to the LLM per query.\n",
        "3. Contextual information should be relevant to the user query, meaning it is optimal to provide only relevant snippets from documents, making the answer more relevant whilst saving costs as per (1) and (2).\n",
        "\n",
        "Next, these document shards are embedded within a vector store. Embedding a document means to align it within a mutli-dimension space, which can then be searched according to user queries to find relevant documents. Document relevancy scoring can be as simple as a K-neighbours search, since embedded documents with similarity (as percieved by the LLM embedding model) will be proximate within the search space.\n",
        "\n",
        "![A typical query chain](https://github.com/teamdatatonic/gen-ai-hackathon/blob/7f37d477b18ace5912d34b0574512559d7a457ed/assets/typical-query-chain.png?raw=true)\n",
        "\n",
        "Once the vector store is created, a user can query the knowledge base using natural language questions. Relevant documents related to the query are found in the vector store by embedding the user query and finding local documents. These snippets of text are provided to the LLM (alongside the user query, chat history, prompt engineering, etc.) which parses the information to generate an answer.\n",
        "\n",
        "## Prerequisites"
      ]
    },
    {
      "attachments": {},
      "cell_type": "markdown",
      "metadata": {
        "id": "Jwkq5e5QqLRy"
      },
      "source": [
        "### Install Python dependencies\n",
        "We use LangChain, a framework for developing applications powered by language models, and GradIO, a friendly frontend Python framework. Install both of these (and some dependencies) to run this labs code."
      ]
    },
    {
      "cell_type": "code",
      "execution_count": null,
      "metadata": {
        "id": "02VnG-Zhs3R2"
      },
      "outputs": [],
      "source": [
        "%pip install --quiet langchain chromadb tiktoken gradio tqdm google-cloud-aiplatform google-cloud-core unstructured google-cloud-discoveryengine"
      ]
    },
    {
      "cell_type": "code",
      "execution_count": null,
      "metadata": {},
      "outputs": [],
      "source": [
        "%pip install pydantic==1.10.8 typing-extensions==4.5.0 typing-inspect==0.8.0"
      ]
    },
    {
      "attachments": {},
      "cell_type": "markdown",
      "metadata": {
        "id": "saLQmyJeqSM3"
      },
      "source": [
        "**❗ Restart the Python kernel:** Ensure that your environment can access the newly installed dependencies. Continue after the restart from the `Setup cloud project` step."
      ]
    },
    {
      "cell_type": "code",
      "execution_count": null,
      "metadata": {
        "id": "sVJ8C3zws3R3"
      },
      "outputs": [],
      "source": [
        "import IPython\n",
        "\n",
        "app = IPython.Application.instance()\n",
        "app.kernel.do_shutdown(True)"
      ]
    },
    {
      "attachments": {},
      "cell_type": "markdown",
      "metadata": {
        "id": "Lo3B7BfIs3R3"
      },
      "source": [
        "**❗ Note:** If your kernel doesn't restart automatically, click the \"Restart Runtime\" button above your notebook.\n",
        "If you dont see a restart button, go to the \"Runtime\" toolbar tab then \"Restart Runtime\". After restarting, continue executing the project from below this cell.\n",
        "\n",
        "## Setup cloud project\n",
        "\n",
        "Currently, Vertex AI LLMs are accessible via Google Cloud projects. We will access the Vertex AI endpoint via a service account.\n",
        "\n",
        "1. Upload the Google Application Credentials `.json` file sent to your email to the notebook filesystem.\n",
        "2. Set the variable `GOOGLE_APPLICATION_CREDENTIALS` with the filepath (**❗ Note:** the `/content/` folder is where uploaded files are stored by default)."
      ]
    },
    {
      "cell_type": "code",
      "execution_count": null,
      "metadata": {
        "id": "RxkFX1ies3R3"
      },
      "outputs": [],
      "source": [
        "import os\n",
        "\n",
        "GOOGLE_APPLICATION_CREDENTIALS = \"/content/credentials.json\"  # @param {type:\"string\"}\n",
        "os.environ[\"GOOGLE_APPLICATION_CREDENTIALS\"] = GOOGLE_APPLICATION_CREDENTIALS"
      ]
    },
    {
      "attachments": {},
      "cell_type": "markdown",
      "metadata": {
        "id": "TId4ggR6s3R4"
      },
      "source": [
        "## Task 1: Implementing a knowledge worker\n",
        "\n",
        "Creating a custom knowledge worker is similar to your first step when learning a new programming language.\n",
        "As such your first challenge is to create a “Hello World” program, however, adapted to LLMs which is way more exciting!\n",
        "\n",
        "With a few lines of code, you'll:\n",
        "- Load documents with information about your company\n",
        "- Create text embeddings from documents\n",
        "- Storing embedding in a local database\n",
        "- Use an LLM to answer queries about your company knowledge\n",
        "\n",
        "**❗ All of these steps can be achieved in a few lines of Python.**\n",
        "\n",
        "### Introduction to LangChain\n",
        "\n",
        "LangChain is a Python framework for developing applications using language models.\n",
        "It abstracts the connection between applications and LLMs, allowing a loose coupling between code and specific providers like Google PaLM.\n",
        "\n",
        "LangChain supports [numerous methods](https://python.langchain.com/en/latest/modules/indexes/document_loaders.html) for loading documents.\n",
        "\n",
        "We will be using the `DirectoryLoader` and `UnstructuredHTMLLoader` in order to load a pre-compiled archive of your website. This method is similar to the [`RecursiveUrlLoader`](https://python.langchain.com/docs/modules/data_connection/document_loaders/integrations/recursive_url_loader). This document loader searches for subpages of a website and loads each pages content as a document. Additionally, if we only wanted to download a list of URLs without searching for subpages, we could use a [`UnstructuredURLLoader`](https://python.langchain.com/docs/modules/data_connection/document_loaders/integrations/url).\n",
        "\n",
        "**❗ Web scraping is liable to infringing upon website rate limits. We're using pre-compiled archives to avoid accidentially DDOSing your website during this session.**\n",
        "\n",
        "**➡️ Your task:** Read the linked resources in the `Introduction to LangChain` step and study the following code cells as they provide reusable LangChain code for your knowledge worker.\n",
        "\n",
        "### Collecting documents\n",
        "First, we need to collect our data. To get started fast, we've already downloaded some sample website data upfront. Let's copy the website data from a public Cloud Storage bucket to your local file system\n",
        "\n",
        "**❗ Note:** Although PaLM supports multiple languages, text embeddings currently work best with English documents.\n",
        "\n",
        "**➡️ Your task:** Select a pre-compiled website from our list and download from the public bucket."
      ]
    },
    {
      "cell_type": "code",
      "execution_count": null,
      "metadata": {},
      "outputs": [],
      "source": [
        "# @markdown This variable can be left as default for this task.\n",
        "BUCKET = \"dt-wpp-genai-hack-dev\"  # @param {type:\"string\"}\n",
        "\n",
        "# @markdown Choose any of these web archives as the base knowledge of your worker.\n",
        "LOCAL_FOLDER = \"www.datatonic.com\"  # @param [\"www.datatonic.com\", \"www.choreograph.com\", \"www.essencemediacom.com\"]"
      ]
    },
    {
      "cell_type": "code",
      "execution_count": null,
      "metadata": {},
      "outputs": [],
      "source": [
        "!gsutil cp gs://{BUCKET}/{LOCAL_FOLDER}.tar.gz . && tar -xzf {LOCAL_FOLDER}.tar.gz"
      ]
    },
    {
      "cell_type": "code",
      "execution_count": null,
      "metadata": {
        "id": "kjaBy8CSs3R5"
      },
      "outputs": [],
      "source": [
        "from langchain.document_loaders import DirectoryLoader, UnstructuredHTMLLoader\n",
        "\n",
        "\n",
        "def load_documents(source_dir):\n",
        "    # Load the documentation using a HTML parser\n",
        "    loader = DirectoryLoader(\n",
        "        source_dir,\n",
        "        glob=\"**/*.html\",\n",
        "        loader_cls=UnstructuredHTMLLoader,\n",
        "        show_progress=True,\n",
        "    )\n",
        "    documents = loader.load()\n",
        "\n",
        "    print(f\"Loaded: {len(documents)} documents from {source_dir}.\")\n",
        "\n",
        "    return documents"
      ]
    },
    {
      "attachments": {},
      "cell_type": "markdown",
      "metadata": {
        "id": "kXhTVS9ws3R5"
      },
      "source": [
        "### Creating or loading embeddings\n",
        "\n",
        "Creating embeddings each time we use our app is time-consuming and expensive.\n",
        "By persisting the vector store database after embedding, we can load the saved embeddings for use in another session.\n",
        "\n",
        "**➡️ Your task:** Study and execute the following code cells. Note that after the documents have been loaded, they are split into shards using the `RecursiveCharacterTextSplitter` function. "
      ]
    },
    {
      "cell_type": "code",
      "execution_count": null,
      "metadata": {
        "id": "Njknbfazs3R6"
      },
      "outputs": [],
      "source": [
        "# @markdown These variables can be left as default for this task.\n",
        "PERSIST_DIR = \"chromadb\"  # @param {type:\"string\"}"
      ]
    },
    {
      "attachments": {},
      "cell_type": "markdown",
      "metadata": {
        "id": "1bU-8KUjxPOH"
      },
      "source": [
        "🎉 Congratulations! 🎉 You've downloaded the WPP website data.\n",
        "\n",
        "Now, lets embed these files so we can use them in our knowledge worker.\n",
        "\n",
        "**➡️ Your task:** Run the following cells to *create* the text embeddings based on your downloaded data."
      ]
    },
    {
      "cell_type": "code",
      "execution_count": null,
      "metadata": {
        "id": "XkO3NV73s3R6"
      },
      "outputs": [],
      "source": [
        "from langchain.text_splitter import RecursiveCharacterTextSplitter\n",
        "from langchain.vectorstores import Chroma\n",
        "from langchain.embeddings import VertexAIEmbeddings\n",
        "\n",
        "\n",
        "def create_embeddings(source_dir):\n",
        "    documents = load_documents(source_dir=source_dir)\n",
        "\n",
        "    # We use GoogleLLM embeddings model, however other models can be substituted here\n",
        "    embedding = VertexAIEmbeddings()\n",
        "\n",
        "    # Individual documents will often exceed the token limit.\n",
        "    # By splitting documents into chunks of 1000 token\n",
        "    # These chunks fit into the token limit alongside the user prompt\n",
        "    text_splitter = RecursiveCharacterTextSplitter(chunk_size=1000, chunk_overlap=0)\n",
        "    texts = text_splitter.split_documents(documents)\n",
        "\n",
        "    vector_store = Chroma.from_documents(\n",
        "        documents=texts, embedding=embedding, persist_directory=PERSIST_DIR\n",
        "    )\n",
        "\n",
        "    # Persist the ChromaDB locally, so we can reload the script without expensively re-embedding the database\n",
        "    vector_store.persist()"
      ]
    },
    {
      "cell_type": "code",
      "execution_count": null,
      "metadata": {},
      "outputs": [],
      "source": [
        "print(f\"Creating new vector store in dir {PERSIST_DIR}.\")\n",
        "create_embeddings(\n",
        "    source_dir=LOCAL_FOLDER\n",
        ")  # creates the vector DB and saves it locally."
      ]
    },
    {
      "attachments": {},
      "cell_type": "markdown",
      "metadata": {},
      "source": [
        "**➡️ Your task:** Run the following cells to *load* the text embeddings."
      ]
    },
    {
      "cell_type": "code",
      "execution_count": null,
      "metadata": {
        "id": "fy4mX1JCs3R6"
      },
      "outputs": [],
      "source": [
        "def load_embeddings():\n",
        "    # We use VertexAI embeddings model, however other models can be substituted here\n",
        "    embeddings = VertexAIEmbeddings()\n",
        "\n",
        "    # Creating embeddings with each re-run is highly inefficient and costly.\n",
        "    # We instead aim to embed once, then load these embeddings from storage.\n",
        "    vector_store = Chroma(\n",
        "        embedding_function=embeddings,\n",
        "        persist_directory=PERSIST_DIR,\n",
        "    )\n",
        "\n",
        "    return vector_store"
      ]
    },
    {
      "cell_type": "code",
      "execution_count": null,
      "metadata": {
        "id": "z2r7APATs3R6"
      },
      "outputs": [],
      "source": [
        "print(f\"Loading {PERSIST_DIR} as vector store.\")\n",
        "vector_store = load_embeddings()  # loads the vector DB from the local file system."
      ]
    },
    {
      "attachments": {},
      "cell_type": "markdown",
      "metadata": {
        "id": "9mXJKt22xc6N"
      },
      "source": [
        "**🎉 Congratulations! 🎉** You've created text embeddings from your company data and stored them successfully in a local vector database.\n",
        "Now, you'll shift your focus to implementing the actual LLM by creating a chain using LangChain."
      ]
    },
    {
      "attachments": {},
      "cell_type": "markdown",
      "metadata": {
        "id": "QSsi93lgs3R7"
      },
      "source": [
        "### Creating the Conversational Q&A Chain\n",
        "\n",
        "In this section, you'll create a chain which will be able to provide an answer given a question from a user.\n",
        "To understand the purpose of chains, you can read about chains in the [LangChain documentation](https://docs.langchain.com/docs/).\n",
        "\n",
        "At first, we'll initialise a few hyperparameters for the LLM models which we'll reference later on:"
      ]
    },
    {
      "cell_type": "code",
      "execution_count": null,
      "metadata": {
        "id": "MnGD1Mxvs3R7"
      },
      "outputs": [],
      "source": [
        "# The 'k' value indicates the number of sources to use per query.\n",
        "# 'k' as in 'k-nearest-neighbours' to the query in the embedding space.\n",
        "# 'temperature' is the degree of randomness introduced into the LLM response.\n",
        "k = 2\n",
        "temperature = 0.0"
      ]
    },
    {
      "attachments": {},
      "cell_type": "markdown",
      "metadata": {
        "id": "5KEEzB0ks3R8"
      },
      "source": [
        "### Prompt engineering\n",
        "\n",
        "As outlined before, the creation of prompts is essential to adapt LLMs for your given use case.\n",
        "**Prompt engineering** is a method of zero-shot fine-tuning for large language models.\n",
        "By prompting a LLM with contextual information about its purpose, the model can simulate a variety of situations, such as a customer assistant chatbot, a document summariser, a translator, etc.\n",
        "\n",
        "In this use case, we prompt our model to respond as a conversational Q&A chatbot.\n",
        "Prompt engineering can be especially useful for introducing guard rails to an application - in this template we tell the model to not respond to queries it lacks the information to answer, as users will trust the application to provide factual replies, so rejecting a query is preferable to outputting false information.\n",
        "\n",
        "You can use the prompt and code cells below for your knowledge worker.\n",
        "\n",
        "**➡️ Your task:** Execute and study the following code cells as they provide reusable LangChain code for your knowledge worker.\n",
        "Pay attention to the prompt in the `template` variable.\n",
        "What elements do you notice in the prompt?\n",
        "How is the prompt used in the chain?"
      ]
    },
    {
      "cell_type": "code",
      "execution_count": null,
      "metadata": {
        "id": "3XR2N31ms3R8"
      },
      "outputs": [],
      "source": [
        "from langchain.prompts import PromptTemplate\n",
        "\n",
        "\n",
        "# The PromptTemplate reads input variables (i.e.: 'chat_history', 'question') from the template\n",
        "SYSTEM_PROMPT = PromptTemplate.from_template(\n",
        "    \"\"\"\\\n",
        "You are a helpful chatbot designed to perform Q&A on a set of documents.\n",
        "Always respond to users with friendly and helpful messages.\n",
        "Your goal is to answer user questions using relevant sources.\n",
        "\n",
        "You were developed by Datatonic, and are powered by Google's PaLM-2 model.\n",
        "\n",
        "In addition to your implicit model world knowledge, you have access to the following data sources:\n",
        "- Company documentation.\n",
        "\n",
        "If a user query is too vague, ask for more information.\n",
        "If insufficient information exists to answer a query, respond with \"I don't know\".\n",
        "NEVER make up information.\n",
        "\n",
        "Chat History:\n",
        "{chat_history}\n",
        "Question: {question}\n",
        "\"\"\"\n",
        ")"
      ]
    },
    {
      "cell_type": "code",
      "execution_count": null,
      "metadata": {
        "id": "h_8UWPous3R8"
      },
      "outputs": [],
      "source": [
        "from langchain.chains import ConversationalRetrievalChain\n",
        "from langchain.llms import VertexAI\n",
        "\n",
        "\n",
        "def qa_chain():\n",
        "    # A vector store retriever relates queries to embedded documents\n",
        "    retriever = vector_store.as_retriever(k=k)\n",
        "\n",
        "    # The selected GoogleLLM model uses embedded documents related to the query\n",
        "    # It parses these documents in order to answer the user question.\n",
        "    # We use the GoogleLLM LLM, however other models can be substituted here\n",
        "    model = VertexAI(temperature=temperature)\n",
        "\n",
        "    # A conversation retrieval chain keeps a history of Q&A / conversation\n",
        "    # This allows for contextual questions such as \"give an example of that (previous response)\".\n",
        "    # The chain is also set to return the source documents used in generating an output\n",
        "    # This allows for explainability behind model output.\n",
        "    chain = ConversationalRetrievalChain.from_llm(\n",
        "        llm=model,\n",
        "        retriever=retriever,\n",
        "        return_source_documents=True,\n",
        "        condense_question_prompt=SYSTEM_PROMPT,\n",
        "    )\n",
        "\n",
        "    return chain"
      ]
    },
    {
      "cell_type": "code",
      "execution_count": null,
      "metadata": {
        "id": "IifTS5ags3R8"
      },
      "outputs": [],
      "source": [
        "def q_a(question: str, history: list):\n",
        "    # map history (list of lists) to expected format of chat_history (list of tuples)\n",
        "    chat_history = map(tuple, history)\n",
        "\n",
        "    # Query the LLM to get a response\n",
        "    # First the Q&A chain will collect documents semantically similar to the question\n",
        "    # Then it will ask the LLM to use this data to answer the user question\n",
        "    # We also provide chat history as further context\n",
        "    response = qa_chain()(\n",
        "        {\n",
        "            \"question\": question,\n",
        "            \"chat_history\": chat_history,\n",
        "        }\n",
        "    )\n",
        "\n",
        "    # Format source documents (sources of excerpts passed to the LLM) into links the user can validate\n",
        "    sources = [\n",
        "        \"[https://{0}](https://{0})\".format(doc.metadata[\"source\"].replace(\"index.html\", \"\"))\n",
        "        for doc in response[\"source_documents\"]\n",
        "    ]\n",
        "\n",
        "    # Return the LLM answer, and list of sources used (formatted as a string)\n",
        "    return response[\"answer\"], \"\\n\\n\".join(sources)"
      ]
    },
    {
      "attachments": {},
      "cell_type": "markdown",
      "metadata": {
        "id": "3SG5IawNs3R9"
      },
      "source": [
        "### Building the user interface\n",
        "\n",
        "As building a UI is outside of the scope for this hackathon, a templated GUI using [Gradio](https://gradio.app/) is provided for your knowledge worker.\n",
        "\n",
        "**➡️ Your task:** Execute the cells below to launch the user interface."
      ]
    },
    {
      "cell_type": "code",
      "execution_count": null,
      "metadata": {
        "id": "68mnxD75s3R9"
      },
      "outputs": [],
      "source": [
        "def submit(msg, chatbot):\n",
        "    # First create a new entry in the conversation log\n",
        "    msg, chatbot = user(msg, chatbot)\n",
        "    # Then get the chatbot response to the user question\n",
        "    chatbot = bot(chatbot)\n",
        "    return msg, chatbot\n",
        "\n",
        "\n",
        "def user(user_message, history):\n",
        "    # Return \"\" to clear the user input, and add the user question to the conversation history\n",
        "    return \"\", history + [[user_message, None]]\n",
        "\n",
        "\n",
        "def bot(history):\n",
        "    # Get the user question from conversation history\n",
        "    user_message = history[-1][0]\n",
        "    # Get the response and sources used to answer the user question\n",
        "    bot_message, bot_sources = q_a(user_message, history[:-1])\n",
        "\n",
        "    # Using a template, format the response and sources together\n",
        "    bot_template = \"{0}\\n\\n<details><summary><b>Sources</b></summary>\\n\\n{1}</details>\"\n",
        "    # Place the response into the conversation history and return\n",
        "    history[-1][1] = bot_template.format(bot_message, bot_sources)\n",
        "    return history"
      ]
    },
    {
      "cell_type": "code",
      "execution_count": null,
      "metadata": {
        "id": "OtpDaHA-Jl8n"
      },
      "outputs": [],
      "source": [
        "import gradio as gr\n",
        "\n",
        "\n",
        "def app():\n",
        "    # Build a simple GradIO app that accepts user input and queries the LLM\n",
        "    # Then displays the response in a ChatBot interface, with markdown support.\n",
        "    with gr.Blocks(theme=gr.themes.Base()) as demo:\n",
        "        # Set a page title\n",
        "        gr.Markdown(\"# Custom knowledge worker\")\n",
        "        # Create a chatbot conversation log\n",
        "        chatbot = gr.Chatbot(label=\"🤖 knowledge worker\")\n",
        "        # Create a textbox for user questions\n",
        "        msg = gr.Textbox(\n",
        "            label=\"👩‍💻 user input\",\n",
        "            info=\"Query information from the custom knowledge base.\",\n",
        "        )\n",
        "\n",
        "        # Align both buttons on the same row\n",
        "        with gr.Row():\n",
        "            send = gr.Button(value=\"Send\", variant=\"primary\", size=\"sm\")\n",
        "            clear = gr.Button(value=\"Clear History\", variant=\"secondary\", size=\"sm\")\n",
        "\n",
        "        # Submit message on <enter> or clicking \"Send\" button\n",
        "        msg.submit(submit, [msg, chatbot], [msg, chatbot], queue=False)\n",
        "        send.click(submit, [msg, chatbot], [msg, chatbot], queue=False)\n",
        "\n",
        "        # Clear chatbot history on clicking \"Clear History\" button\n",
        "        clear.click(lambda: None, None, chatbot, queue=False)\n",
        "\n",
        "    return demo"
      ]
    },
    {
      "attachments": {},
      "cell_type": "markdown",
      "metadata": {},
      "source": [
        "**❗ Note:** The following cell will run until manually stopped. Remember to halt it before moving onto the next task."
      ]
    },
    {
      "cell_type": "code",
      "execution_count": null,
      "metadata": {
        "id": "erPj4_Sxs3R9"
      },
      "outputs": [],
      "source": [
        "demo = app()\n",
        "\n",
        "# Create a queue system so multiple users can access the page at once\n",
        "demo.queue()\n",
        "# Launch the webserver locally\n",
        "demo.launch(share=True, debug=True)"
      ]
    },
    {
      "attachments": {},
      "cell_type": "markdown",
      "metadata": {
        "id": "qrsqbDyOs3R9"
      },
      "source": [
        "**➡️ Your task:** Use the user interface above (which you can also open in a separate tab given the shareable link above), to query your knowledge base.\n",
        "\n",
        "Try out a few questions from this example Q&A:\n",
        "\n",
        "> 👩‍💻: What is Datatonic?\n",
        "> \n",
        "> 🦜: Datatonic is a data consultancy enabling companies to make better business decisions with the power of Modern Data Stack and MLOps.\n",
        "> \n",
        "> 👩‍💻: Summarise the web article on Greentonic.\n",
        "> \n",
        "> 🦜: Greentonic is Datatonic's sustainability initiative.\n",
        "> \n",
        "> 👩‍💻: How is Datatonic being sustainable?\n",
        "> \n",
        "> 🦜: Datatonic is committed to sustainability and has a number of initiatives in place to reduce its environmental impact. These include:\n",
        ">    * Using renewable energy sources\n",
        ">    * Reducing our carbon footprint\n",
        ">    * Promoting sustainable practices in our supply chain\n",
        ">    * Supporting environmental charities\n",
        ">\n",
        "> We believe that sustainability is essential for the future of our planet and we are committed to doing our part to make a difference.\n",
        "\n",
        "Since we used a `ConversationalRetrievalChain`, we can also correct the model when it gives the wrong response and prompt it to fix it’s mistake, or ask for further detail on a previous response.\n",
        "\n",
        "**🎉 Congratulations! 🎉** You've created your first chain using LangChain which you can query for general questions in a user interface.\n",
        "Let's continue extending your knowledge worker in the next task.\n"
      ]
    },
    {
      "attachments": {},
      "cell_type": "markdown",
      "metadata": {
        "id": "3Ua3ttLS1_sO"
      },
      "source": [
        "## Task 2: Extending the knowledge base\n",
        "\n",
        "As mentioned, it is possible to extend the knowledge base with additional documents.\n",
        "This is useful for updating a knowledge base with new information without having to re-embed established knowledge from scratch.\n",
        "\n",
        "If you wanted to build a knowledge worker with another document type, for instance [Microsoft Word](https://python.langchain.com/en/latest/modules/indexes/document_loaders/examples/microsoft_word.html) documents, you would update the `load_documents()` function according to the documentation for that document type loader.\n",
        "\n",
        "**❗ Note:** if you're looking to deploy a knowledge worker with several knowledge bases, an [Embedding Router Chain](https://python.langchain.com/docs/modules/chains/foundational/router#embeddingrouterchain), which combines several knowledge workers with discrete knowledge bases into a single chain which selects the best worker for the query.\n",
        "\n",
        "**➡️ Your task:** Extend the knowledge worker with new documents.\n",
        "1. Load the new documents.\n",
        "2. Add new documents to the existing vector store using `.add_documents(documents=...)`.\n",
        "\n",
        "See the following example for loading Word documents:\n"
      ]
    },
    {
      "cell_type": "code",
      "execution_count": null,
      "metadata": {
        "id": "Ah-anCDQ2eaj"
      },
      "outputs": [],
      "source": [
        "from langchain.document_loaders import Docx2txtLoader\n",
        "\n",
        "\n",
        "def load_docx_documents(filepath):\n",
        "    if filepath:\n",
        "        # Load the documentation using a Microsoft Word parser\n",
        "        loader = Docx2txtLoader(filepath)\n",
        "        documents = loader.load()\n",
        "\n",
        "        return documents"
      ]
    },
    {
      "cell_type": "code",
      "execution_count": null,
      "metadata": {},
      "outputs": [],
      "source": [
        "# load the word document by filepath\n",
        "word_documents = load_docx_documents(\n",
        "    filepath=None\n",
        ")  # ❗ TODO: update this function to your own file type + file path\n",
        "\n",
        "# add this document(s) to the vector store\n",
        "vector_store.add_documents(word_documents)\n",
        "\n",
        "# \"save\" the new vector store back to the file system\n",
        "vector_store.persist()"
      ]
    },
    {
      "cell_type": "code",
      "execution_count": null,
      "metadata": {},
      "outputs": [],
      "source": [
        "# ❗ TODO: replicate the code above to add more documents to the vector store.."
      ]
    },
    {
      "attachments": {},
      "cell_type": "markdown",
      "metadata": {
        "id": "Mkpb3xkq4nmu"
      },
      "source": [
        "**➡️ Your task:** Relaunch the GradIO GUI and try asking questions using knowledge from your newly added documents.\n",
        "\n",
        "**❗ Note:** The following cell will run until manually stopped. Remember to halt it before moving onto the next task."
      ]
    },
    {
      "cell_type": "code",
      "execution_count": null,
      "metadata": {
        "id": "IwUgYAAT4j-6"
      },
      "outputs": [],
      "source": [
        "demo = app()\n",
        "\n",
        "# Create a queue system so multiple users can access the page at once\n",
        "demo.queue()\n",
        "# Launch the webserver locally\n",
        "demo.launch(share=True, debug=True)"
      ]
    },
    {
      "attachments": {},
      "cell_type": "markdown",
      "metadata": {
        "id": "WOkmXLdT31yE"
      },
      "source": [
        "**🎉 Congratulations! 🎉** You've extended your knowledge to creating text embedding from a variety of sources - whether it's public data from your company's website or unstructured documents!"
      ]
    },
    {
      "attachments": {},
      "cell_type": "markdown",
      "metadata": {
        "id": "bsGLS0Xw2BKg"
      },
      "source": [
        "## Task 3: Generating text over a vector index\n",
        "\n",
        "We can utilise our embedded documents for more than just Q&A.\n",
        "In tasks 1 and 2, we used the embedded documents as context for answering user queries, but in this task we will use it to generate original content using this knowledge base as a source of information and style.\n",
        "\n",
        "The concept of this use case is to generate ideas for new blogs, utilising knowledge and style information contained in the existing company website data.\n",
        "We can use Generative AI for creative ideation, too!\n",
        "Let's demonstrates the possibilities for human-computer interaction (HCI) apps in this task."
      ]
    },
    {
      "cell_type": "code",
      "execution_count": null,
      "metadata": {
        "id": "0PzurMaEs3R-"
      },
      "outputs": [],
      "source": [
        "from langchain.chains import LLMChain\n",
        "\n",
        "prompt_template = \"\"\"\\\n",
        "Using the provided context, write the outline of a company blog post.\n",
        "Include a bullet-point list of the main talking points, and a brief summary of the overall blog.\n",
        "Context: {context}\n",
        "Topic: {topic}\n",
        "\"\"\"\n",
        "\n",
        "PROMPT = PromptTemplate(template=prompt_template, input_variables=[\"context\", \"topic\"])\n",
        "\n",
        "model = VertexAI(temperature=0.7)\n",
        "\n",
        "chain = LLMChain(llm=model, prompt=PROMPT)"
      ]
    },
    {
      "cell_type": "code",
      "execution_count": null,
      "metadata": {
        "id": "5kVmZBg-s3R-"
      },
      "outputs": [],
      "source": [
        "def generate_blog_outline(topic: str, k: int):\n",
        "    # search for 'k' nearest documents related to our topic.\n",
        "    docs = vector_store.similarity_search(topic, k=k)\n",
        "\n",
        "    # associate topic with the content of each document to generate inputs\n",
        "    inputs = [{\"context\": doc.page_content, \"topic\": topic} for doc in docs]\n",
        "\n",
        "    # generate blog outline\n",
        "    output = chain.apply(inputs)\n",
        "\n",
        "    return output"
      ]
    },
    {
      "attachments": {},
      "cell_type": "markdown",
      "metadata": {
        "id": "JJc3FB8WLs2-"
      },
      "source": [
        "**➡️ Your task:** Create ideas for a new blog post.\n",
        "Try adjusting the title of the post to generate new ideas!"
      ]
    },
    {
      "cell_type": "code",
      "execution_count": null,
      "metadata": {
        "id": "10THi9L2Kvzv"
      },
      "outputs": [],
      "source": [
        "BLOG_TITLE = \"How we're making our business more sustainable\"  # @param {type:\"string\"}"
      ]
    },
    {
      "cell_type": "code",
      "execution_count": null,
      "metadata": {
        "id": "ho7Euwhks3R-"
      },
      "outputs": [],
      "source": [
        "from IPython.display import display, Markdown\n",
        "\n",
        "# generate variations of blog posts on the topic provided, based on the 4 most relevant documents\n",
        "output = generate_blog_outline(BLOG_TITLE, k=4)\n",
        "markdown = \"\"\n",
        "\n",
        "for i, blog in enumerate(output):\n",
        "    markdown += f\"# #{i} {BLOG_TITLE}\\n{blog['text']}\\n\\n\"\n",
        "\n",
        "display(Markdown(markdown))"
      ]
    },
    {
      "attachments": {},
      "cell_type": "markdown",
      "metadata": {
        "id": "Rt6qQQwELhm8"
      },
      "source": [
        "**➡️ Your task:** Now it's time to change the prompt template to create new content based on your liking.\n",
        "For that update the `prompt_template` and `temperature`."
      ]
    },
    {
      "cell_type": "code",
      "execution_count": null,
      "metadata": {
        "id": "6hBV3zbLMDfg"
      },
      "outputs": [],
      "source": [
        "# ❗ TODO: setup the prompt, model, and chain to create new types of content."
      ]
    },
    {
      "attachments": {},
      "cell_type": "markdown",
      "metadata": {
        "id": "wIlaipnMMOMk"
      },
      "source": [
        "**🎉 Congratulations! 🎉** You've completed task 3 and generated ideas for future blog posts!\n",
        "Continue with the next section to explore more possibilities and ideas using LangChain."
      ]
    },
    {
      "attachments": {},
      "cell_type": "markdown",
      "metadata": {
        "id": "xooDGVw_Jwlg"
      },
      "source": [
        "## Task 4: Extending the chain\n",
        "\n",
        "So far you've created two types of chains:\n",
        "\n",
        "### LLMChain\n",
        "\n",
        "The `LLMChain` is a simple chain that adds some functionality around language models.\n",
        "It is used widely throughout LangChain, including in other chains and agents.\n",
        "\n",
        "An LLMChain consists of a **PromptTemplate** and a **language model** (either an LLM or chat model).\n",
        "It formats the prompt template using the input key values provided (and also memory key values, if available), passes the formatted string to LLM and returns the LLM output.\n",
        "\n",
        "```python\n",
        "chain = LLMChain(llm=model, prompt=PROMPT)\n",
        "```\n",
        "\n",
        "### ConversationalRetrievalChain\n",
        "\n",
        "The `ConversationalRetrievalQA` chain builds on RetrievalQAChain to provide a chat history component.\n",
        "\n",
        "It first combines the chat history (either explicitly passed in or retrieved from the provided memory) and the question into a standalone question, then looks up relevant documents from the retriever, and finally passes those documents and the question to a question answering chain to return a response.\n",
        "\n",
        "To create one, you will need a retriever.\n",
        "In the below example, we will create one from a vector store, which can be created from embeddings.\n",
        "\n",
        "```python\n",
        "retriever = vector_store.as_retriever(k=k)\n",
        "model = VertexAI(temperature=temperature)\n",
        "chain = ConversationalRetrievalChain.from_llm(\n",
        "    llm=model,\n",
        "    retriever=retriever,\n",
        "    return_source_documents=True,\n",
        "    condense_question_prompt=SYSTEM_PROMPT,\n",
        ")\n",
        "```\n",
        "\n",
        "### Explore more chains\n",
        "\n",
        "**➡️ Your task:** Firm up your knowledge about the two chains used in this notebook [here](https://python.langchain.com/docs/modules/chains/foundational/llm_chain) and [here](https://python.langchain.com/docs/modules/chains/popular/chat_vector_db).\n",
        "In which scenarios should you apply either of them?\n",
        "What are their limitations?\n",
        "\n",
        "*The **LLMChain** is useful when ...*\n",
        "\n",
        "*It's limitations are ...*\n",
        "\n",
        "*The **ConversationalRetrievalChain** is useful when ...*\n",
        "\n",
        "*It's limitations are ...*\n",
        "\n",
        "**➡️ Your task:** Read about more types of chains in the [official LangChain documentation](https://python.langchain.com/docs/modules/chains/additional/).\n",
        "We recommend the **Sequential chain** and **Self-critique chain with constitutional AI**.\n",
        "How can you extend your conversational knowledge worker which is currently based on the `ConversationalRetrievalChain`?\n",
        "Summarise your idea either using pseudo code or actual code if you've time!\n",
        "Overall we would like to you to consider:\n",
        "\n",
        "**Idea + idea description:**\n",
        "\n",
        "- *The idea is ...*\n",
        "- *What it is ...*\n",
        "\n",
        "**Problem it solves + impact:**\n",
        "\n",
        "- *It would solve the following challenge ...*\n",
        "- *The volume or value of the impact would be ...*\n",
        "\n",
        "**Approach + Next steps:**\n",
        "\n",
        "- *Next steps would be ...*\n",
        "\n",
        "**❗ Note:** Do you have any other ideas (even outside of implementing a knowledge worker)?\n",
        "Feel free to ideate about another use case which is relevant to your industry or company!"
      ]
    },
    {
      "cell_type": "code",
      "execution_count": null,
      "metadata": {
        "id": "Jq_fu6wXKFNf"
      },
      "outputs": [],
      "source": [
        "# ❗ TODO: create pseudo code"
      ]
    },
    {
      "attachments": {},
      "cell_type": "markdown",
      "metadata": {
        "id": "jy_oGwjBKFi2"
      },
      "source": [
        "**🎉 Congratulations! 🎉** You've completed the last task of this hackathon!\n",
        "Continue with the next section to explore next steps for *your* Generative AI journey on Google Cloud."
      ]
    },
    {
      "attachments": {},
      "cell_type": "markdown",
      "metadata": {},
      "source": [
        "# Bonus Track - Using Gen App Builder Within your Knowledge Worker"
      ]
    },
    {
      "attachments": {},
      "cell_type": "markdown",
      "metadata": {},
      "source": [
        "Google Cloud has released a tool called Enterprise Search within the Gen App Builder service. Using Enterprise Search, you can ingest and retrieve websites, internal structured and unstructured data in a search engine and then use a Knowledge Worker to retrieve information in natural language. This is analogous to an internal Google search engine for your documents."
      ]
    },
    {
      "attachments": {},
      "cell_type": "markdown",
      "metadata": {},
      "source": [
        "Using a custom implementation of a Knowledge Worker, you can combine the power of Gen App Builder with the customisation ability of a Knowledge Worker and build applications simpler, faster and more robustly. "
      ]
    },
    {
      "attachments": {},
      "cell_type": "markdown",
      "metadata": {},
      "source": [
        "Let's have a sneak peak at how to do this. \n",
        "\n",
        "*Note* : This is not publicly availabble so you will need a whitelisted Google Cloud project. We have already created an Enterprise Search for you, so you can just go ahead and use it. It contains the following websites:\n",
        "* www.wpp.com\n",
        "* wwww.essencemediacom.com\n",
        "* www.www.choreograph.com\n",
        "* www.datatonic.com"
      ]
    },
    {
      "cell_type": "code",
      "execution_count": null,
      "metadata": {},
      "outputs": [],
      "source": [
        "# Define new environment variables\n",
        "import os\n",
        "\n",
        "# These credentials are for a different project, so you will need to ask for them again\n",
        "GOOGLE_APPLICATION_CREDENTIALS = \"/content/es_credentials.json\"  # @param {type:\"string\"}\n",
        "os.environ[\"GOOGLE_APPLICATION_CREDENTIALS\"] = GOOGLE_APPLICATION_CREDENTIALS\n",
        "\n",
        "SEARCH_ENGINE_PROJECT_ID = \"dt-vertex-gen-ai-dev\" # @param {type:\"string\"}\n",
        "SEARCH_ENGINE_ID = \"wpp-genai-day_1689017718091\"  # @param {type:\"string\"}"
      ]
    },
    {
      "attachments": {},
      "cell_type": "markdown",
      "metadata": {},
      "source": [
        "### Create the Enterpise Search Retriever"
      ]
    },
    {
      "cell_type": "code",
      "execution_count": null,
      "metadata": {},
      "outputs": [],
      "source": [
        "\"\"\"Retriever wrapper for Google Cloud Enterprise Search.\"\"\"\n",
        "# pylint: disable=no-self-argument\n",
        "from __future__ import annotations\n",
        "\n",
        "from typing import Any, Dict, List\n",
        "\n",
        "from google.cloud import discoveryengine_v1beta\n",
        "from google.cloud.discoveryengine_v1beta.services.search_service import pagers\n",
        "from langchain.schema import BaseRetriever, Document\n",
        "from langchain.utils import get_from_dict_or_env\n",
        "from pydantic import BaseModel, Extra, root_validator\n",
        "\n",
        "class EnterpriseSearchRetriever(BaseRetriever, BaseModel):\n",
        "    \"\"\"Wrapper around Google Cloud Enterprise Search.\n",
        "    This code has bene copied from a Google-owned repository here:\n",
        "    https://github.com/GoogleCloudPlatform/generative-ai/blob/main/gen-app-builder/retrieval-augmented-generation/utils/retriever.py\n",
        "    But we have added the k attribute (max num documents).\n",
        "    \"\"\"\n",
        "\n",
        "    client: Any = None  #: :meta private:\n",
        "    serving_config: Any = None  #: :meta private:Any\n",
        "    content_search_spec: Any = None  #: :meta private:Any\n",
        "    project_id: str = \"\"\n",
        "    search_engine_id: str = \"\"\n",
        "    serving_config_id: str = \"default_config\"\n",
        "    location_id: str = \"global\"\n",
        "    max_snippet_count: int = 3\n",
        "    credentials: Any = None\n",
        "    \"The default custom credentials (google.auth.credentials.Credentials) to use \"\n",
        "    \"when making API calls. If not provided, credentials will be ascertained from \"\n",
        "    \"the environment.\"\n",
        "    k: int = 100  # The maximum number of documents to return.\n",
        "\n",
        "    class Config:\n",
        "        \"\"\"Configuration for this pydantic object.\"\"\"\n",
        "\n",
        "        extra = Extra.forbid\n",
        "        arbitrary_types_allowed = True\n",
        "\n",
        "    @root_validator()\n",
        "    def validate_environment(cls, values: Dict) -> Dict:\n",
        "        try:\n",
        "            from google.cloud import discoveryengine_v1beta\n",
        "        except ImportError:\n",
        "            raise ImportError(\n",
        "                \"google.cloud.discoveryengine is not installed. \"\n",
        "                \"Please install it with pip install google-cloud-discoveryengine\"\n",
        "            )\n",
        "\n",
        "        project_id = get_from_dict_or_env(values, \"project_id\", \"SEARCH_ENGINE_PROJECT_ID\")\n",
        "        values[\"project_id\"] = project_id\n",
        "        search_engine_id = get_from_dict_or_env(\n",
        "            values, \"search_engine_id\", \"SEARCH_ENGINE_ID\"\n",
        "        )\n",
        "        values[\"search_engine_id\"] = search_engine_id\n",
        "        location_id = get_from_dict_or_env(\n",
        "            values, \"location_id\", \"LOCATION_ID\")\n",
        "        values[\"location_id\"] = location_id\n",
        "        max_snippet_count = get_from_dict_or_env(\n",
        "            values, \"max_snippet_count\", \"MAX_SNIPPET_COUNT\"\n",
        "        )\n",
        "        values[\"max_snippet_count\"] = max_snippet_count\n",
        "\n",
        "        client = discoveryengine_v1beta.SearchServiceClient(\n",
        "            credentials=values[\"credentials\"]\n",
        "        )\n",
        "        values[\"client\"] = client\n",
        "\n",
        "        serving_config = client.serving_config_path(\n",
        "            project=project_id,\n",
        "            location=location_id,\n",
        "            data_store=search_engine_id,\n",
        "            serving_config=values[\"serving_config_id\"],\n",
        "        )\n",
        "        values[\"serving_config\"] = serving_config\n",
        "\n",
        "        content_search_spec = {\n",
        "            \"snippet_spec\": {\n",
        "                \"max_snippet_count\": max_snippet_count,\n",
        "            }\n",
        "        }\n",
        "        values[\"content_search_spec\"] = content_search_spec\n",
        "\n",
        "        return values\n",
        "\n",
        "    def _convert_search_response(\n",
        "        self, search_results: pagers.SearchPager\n",
        "    ) -> List[Document]:\n",
        "        \"\"\"Converts search response to a list of LangChain documents.\"\"\"\n",
        "        documents = []\n",
        "        for result in search_results:\n",
        "            if hasattr(result.document, \"derived_struct_data\"):\n",
        "                doc_data = result.document.derived_struct_data\n",
        "                for snippet in doc_data.get(\"snippets\", []):\n",
        "                    documents.append(\n",
        "                        Document(\n",
        "                            page_content=snippet.get(\"snippet\", \"\"),\n",
        "                            metadata={\n",
        "                                \"source\": f\"{doc_data.get('link', '')}:{snippet.get('pageNumber', '')}\",\n",
        "                                \"id\": result.document.id,\n",
        "                            },\n",
        "                        )\n",
        "                    )\n",
        "        return documents\n",
        "\n",
        "    def get_relevant_documents(self, query: str) -> List[Document]:\n",
        "        \"\"\"Get documents relevant for a query.\"\"\"\n",
        "        request = discoveryengine_v1beta.SearchRequest(\n",
        "            query=query,\n",
        "            serving_config=self.serving_config,\n",
        "            content_search_spec=self.content_search_spec,\n",
        "            page_size=self.k,\n",
        "        )\n",
        "        response = self.client.search(request)\n",
        "        documents = self._convert_search_response(response.results)\n",
        "\n",
        "        return documents\n",
        "\n",
        "    async def aget_relevant_documents(self, query: str) -> List[Document]:\n",
        "        raise NotImplementedError(\"Async interface not implemented\")\n"
      ]
    },
    {
      "attachments": {},
      "cell_type": "markdown",
      "metadata": {},
      "source": [
        "### Replace the existing Q&A Chain with the new retriever"
      ]
    },
    {
      "cell_type": "code",
      "execution_count": null,
      "metadata": {},
      "outputs": [],
      "source": [
        "from langchain.chains import ConversationalRetrievalChain\n",
        "from langchain.llms import VertexAI\n",
        "\n",
        "\n",
        "def qa_chain():\n",
        "    # Using Enterprise Search as a retriever\n",
        "    retriever = EnterpriseSearchRetriever(\n",
        "        project_id=SEARCH_ENGINE_PROJECT_ID,\n",
        "        search_engine_id=SEARCH_ENGINE_ID,\n",
        "        k=4\n",
        "        )\n",
        "\n",
        "    # The selected GoogleLLM model uses embedded documents related to the query\n",
        "    # It parses these documents in order to answer the user question.\n",
        "    # We use the GoogleLLM LLM, however other models can be substituted here\n",
        "    model = VertexAI(temperature=temperature)\n",
        "\n",
        "    # A conversation retrieval chain keeps a history of Q&A / conversation\n",
        "    # This allows for contextual questions such as \"give an example of that (previous response)\".\n",
        "    # The chain is also set to return the source documents used in generating an output\n",
        "    # This allows for explainability behind model output.\n",
        "    chain = ConversationalRetrievalChain.from_llm(\n",
        "        llm=model,\n",
        "        retriever=retriever,\n",
        "        return_source_documents=True,\n",
        "        condense_question_prompt=SYSTEM_PROMPT,\n",
        "    )\n",
        "\n",
        "    return chain"
      ]
    },
    {
      "attachments": {},
      "cell_type": "markdown",
      "metadata": {},
      "source": [
        "### Running the app with the new retriever"
      ]
    },
    {
      "cell_type": "code",
      "execution_count": null,
      "metadata": {},
      "outputs": [],
      "source": [
        "def q_a(question: str, history: list):\n",
        "    # map history (list of lists) to expected format of chat_history (list of tuples)\n",
        "    chat_history = map(tuple, history)\n",
        "\n",
        "    # Query the LLM to get a response\n",
        "    # First the Q&A chain will collect documents semantically similar to the question\n",
        "    # Then it will ask the LLM to use this data to answer the user question\n",
        "    # We also provide chat history as further context\n",
        "    response = qa_chain()(\n",
        "        {\n",
        "            \"question\": question,\n",
        "            \"chat_history\": chat_history,\n",
        "        }\n",
        "    )\n",
        "\n",
        "    # Format source documents (sources of excerpts passed to the LLM) into links the user can validate\n",
        "    sources = [\n",
        "        \"[https://{0}](https://{0})\".format(doc.metadata[\"source\"].replace(\"index.html\", \"\"))\n",
        "        for doc in response[\"source_documents\"]\n",
        "    ]\n",
        "\n",
        "    # Return the LLM answer, and list of sources used (formatted as a string)\n",
        "    return response[\"answer\"], \"\\n\\n\".join(sources)"
      ]
    },
    {
      "cell_type": "code",
      "execution_count": null,
      "metadata": {},
      "outputs": [],
      "source": [
        "def submit(msg, chatbot):\n",
        "    # First create a new entry in the conversation log\n",
        "    msg, chatbot = user(msg, chatbot)\n",
        "    # Then get the chatbot response to the user question\n",
        "    chatbot = bot(chatbot)\n",
        "    return msg, chatbot\n",
        "\n",
        "\n",
        "def user(user_message, history):\n",
        "    # Return \"\" to clear the user input, and add the user question to the conversation history\n",
        "    return \"\", history + [[user_message, None]]\n",
        "\n",
        "\n",
        "def bot(history):\n",
        "    # Get the user question from conversation history\n",
        "    user_message = history[-1][0]\n",
        "    # Get the response and sources used to answer the user question\n",
        "    bot_message, bot_sources = q_a(user_message, history[:-1])\n",
        "\n",
        "    # Using a template, format the response and sources together\n",
        "    bot_template = \"{0}\\n\\n<details><summary><b>Sources</b></summary>\\n\\n{1}</details>\"\n",
        "    # Place the response into the conversation history and return\n",
        "    history[-1][1] = bot_template.format(bot_message, bot_sources)\n",
        "    return history"
      ]
    },
    {
      "cell_type": "code",
      "execution_count": null,
      "metadata": {},
      "outputs": [],
      "source": [
        "import gradio as gr\n",
        "\n",
        "\n",
        "def app():\n",
        "    # Build a simple GradIO app that accepts user input and queries the LLM\n",
        "    # Then displays the response in a ChatBot interface, with markdown support.\n",
        "    with gr.Blocks(theme=gr.themes.Base()) as demo:\n",
        "        # Set a page title\n",
        "        gr.Markdown(\"# Custom knowledge worker\")\n",
        "        # Create a chatbot conversation log\n",
        "        chatbot = gr.Chatbot(label=\"🤖 knowledge worker\")\n",
        "        # Create a textbox for user questions\n",
        "        msg = gr.Textbox(\n",
        "            label=\"👩‍💻 user input\",\n",
        "            info=\"Query information from the custom knowledge base.\",\n",
        "        )\n",
        "\n",
        "        # Align both buttons on the same row\n",
        "        with gr.Row():\n",
        "            send = gr.Button(value=\"Send\", variant=\"primary\", size=\"sm\")\n",
        "            clear = gr.Button(value=\"Clear History\", variant=\"secondary\", size=\"sm\")\n",
        "\n",
        "        # Submit message on <enter> or clicking \"Send\" button\n",
        "        msg.submit(submit, [msg, chatbot], [msg, chatbot], queue=False)\n",
        "        send.click(submit, [msg, chatbot], [msg, chatbot], queue=False)\n",
        "\n",
        "        # Clear chatbot history on clicking \"Clear History\" button\n",
        "        clear.click(lambda: None, None, chatbot, queue=False)\n",
        "\n",
        "    return demo"
      ]
    },
    {
      "cell_type": "code",
      "execution_count": null,
      "metadata": {},
      "outputs": [],
      "source": [
        "demo = app()\n",
        "\n",
        "# Create a queue system so multiple users can access the page at once\n",
        "demo.queue()\n",
        "# Launch the webserver locally\n",
        "demo.launch(share=True, debug=True)"
      ]
    },
    {
      "attachments": {},
      "cell_type": "markdown",
      "metadata": {
        "id": "tXCL6Ri6s3R-"
      },
      "source": [
        "# Conclusion\n",
        "\n",
        "## What have we built?\n",
        "\n",
        "In this session, we have built a knowledge worker use-case for accessing your complex information using Generative AI.\n",
        "This concept can be extended into a fully-fledged tool that can unlock the value of your data for customers or internal use.\n",
        "\n",
        "## Going further..\n",
        "\n",
        "This workshop has introduced all the LangChain knowledge required to create a knowledge worker.\n",
        "The next steps for moving this project from development to production are discussed below.\n",
        "\n",
        "## Decoupling LangChain from Gradio\n",
        "\n",
        "It is not necessary to run LangChain within a GradI/O app.\n",
        "Decoupling LangChain into a separate API has several benefits:\n",
        "1. We can deploy scalable servers / Docker containers\n",
        "2. Simplified code - a frontend-backend loose coupling can lead to simpler code, which is ease to update and maintain.\n",
        "3. If a more professional user interface is needed, such as a native React app.\n",
        "Replacing GradI/O is a straightforward process - FastAPI can be called from javascript, etc., allowing you to move beyond Python frontend frameworks.\n",
        "\n",
        "An example of this separation can be found on the GitHub repository, using FastAPI to create a simple LangChain API server and Poetry to manage separate server environments.\n",
        "\n",
        "## Deploying on Google Cloud\n",
        "\n",
        "Once we have decoupled our frontend and backend code, we can deploy the project onto Google Cloud.\n",
        "\n",
        "This reference architecture diagrams mirror the flow diagrams we first introducted in the workshop introduction. Using Google Cloud, we can create production pipelines for creating / updating vector databases, and deploy a knowledge worker API (which can be connected to a web UI, Slack bot, etc.).\n",
        "\n",
        "**Example architecture: Ingestion**\n",
        "![A typical ingestion chain](https://github.com/teamdatatonic/gen-ai-hackathon/blob/7f37d477b18ace5912d34b0574512559d7a457ed/assets/knowledge-worker-gcp-ingestion-pipeline.png?raw=true)\n",
        "\n",
        "By creating a pipeline for data ingestion, we can continue to extend the knowledge base of our knowledge worker as you produce new documents and documentation.\n",
        "\n",
        "**Example architecture: Inference**\n",
        "![A typical ingestion chain](https://github.com/teamdatatonic/gen-ai-hackathon/blob/7f37d477b18ace5912d34b0574512559d7a457ed/assets/knowledge-worker-gcp-inference-pipeline.png?raw=true)\n",
        "\n",
        "By creating a pipeline for inference, we can leverage the power of Google Cloud to provide a highly reliable and scalable API that can power a variety of applications.\n",
        "\n"
      ]
    },
    {
      "attachments": {},
      "cell_type": "markdown",
      "metadata": {
        "id": "TehVT3X_OelY"
      },
      "source": [
        "**🎉 Congratulations! 🎉** You've completed this notebook!\n",
        "Now it's time to embark your Generative AI journey and ideate about use cases which can benefit your company in conjunction or in addition to your first knowledge worker."
      ]
    }
  ],
  "metadata": {
    "colab": {
      "provenance": [],
      "toc_visible": true
    },
    "kernelspec": {
      "display_name": "Python 3 (ipykernel)",
      "language": "python",
      "name": "python3"
    },
    "language_info": {
      "codemirror_mode": {
        "name": "ipython",
        "version": 3
      },
      "file_extension": ".py",
      "mimetype": "text/x-python",
      "name": "python",
      "nbconvert_exporter": "python",
      "pygments_lexer": "ipython3",
      "version": "3.11.2"
    }
  },
  "nbformat": 4,
  "nbformat_minor": 0
}
