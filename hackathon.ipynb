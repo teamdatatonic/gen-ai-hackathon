{
 "cells": [
  {
   "attachments": {},
   "cell_type": "markdown",
   "metadata": {},
   "source": [
    "# Intro to LangChain (CoLab version)\n",
    "\n",
    "LangChain is a Python framework for developing applications using language models. It abstracts the connection between applications and LLMs, allowing a loose coupling between code and specific providers like Google PaLM.\n",
    "\n",
    "This guide details how to get started with LangChain, and walks-through setting up a knowledge worker. The files for this guide can be found here.\n",
    "\n",
    "## Creating a knowledge worker\n",
    "Instead of training LLMs using your own data (ie. fine-tuning), it is far easier and more effective to adapt the LLM to your use-case by prompt engineering only (ie. tuning).\n",
    "\n",
    "A custom knowledge worker (an LLM app which only has access to specific knowledge, such as technical documentation), is described in two stages: \n",
    "\n",
    "1. Knowledge embedding.\n",
    "2. LLM Query & Answer (with sources).\n",
    "\n",
    "![A typical ingestion chain](assets/typical-ingestion-chain.png)\n",
    "\n",
    "First, documents (websites, Word documents, databases, Powerpoints, PDFs, etc.) are loaded and split into chunks. Fragmenting is important for three reasons -\n",
    "\n",
    "1. There are technical restrictions on how much data (tokens) can be fed into an LLM at once, meaning the context + system prompt + chat history + user prompt must fit within the token limit.\n",
    "2. Most LLM APIs operate on a per-token pricing model, meaning it is cost-effective to limit the size / amount of data provided to the LLM per query. \n",
    "3. Contextual information should be relevant to the user query, meaning it is optimial to provide only relevant snippets from documents, making the answer more relevant whilst saving costs as per (1) and (2).\n",
    "\n",
    "Next, these document shards are embedded within a vector store. Embedding a document means to align it within a mutli-dimension space, which can then be searched according to user queries to find relevant documents. Document relevancy scoring can be as simple as a K-neighbours search, since embedded documents with similarity (as percieved by the LLM embedding model) will be proximate within the search space.\n",
    "\n",
    "![A typical query chain](assets/typical-query-chain.png)\n",
    "\n",
    "Once the vector store is created, a user can query the knowledge base using natural language questions. Relevant documents related to the query are found in the vector store by embedding the user query and finding local documents. These snippets of text are provided to the LLM (alongside the user query, chat history, prompt engineering, etc.) which parses the information to generate an answer.\n",
    "\n",
    "## Prerequisites\n",
    "### Authenticate with Google and install dependencies"
   ]
  },
  {
   "cell_type": "code",
   "execution_count": null,
   "metadata": {},
   "outputs": [],
   "source": [
    "from google.colab import auth as google_auth\n",
    "google_auth.authenticate_user()\n"
   ]
  },
  {
   "cell_type": "code",
   "execution_count": null,
   "metadata": {},
   "outputs": [],
   "source": [
    "%pip install langchain chromadb tiktoken gradio unstructured tqdm google-cloud-aiplatform google-cloud-core"
   ]
  },
  {
   "cell_type": "code",
   "execution_count": null,
   "metadata": {},
   "outputs": [],
   "source": [
    "# Automatically restart kernel after installs so that your environment can access the new packages\n",
    "import IPython\n",
    "\n",
    "app = IPython.Application.instance()\n",
    "app.kernel.do_shutdown(True)\n"
   ]
  },
  {
   "attachments": {},
   "cell_type": "markdown",
   "metadata": {},
   "source": [
    "#### NOTE: Do not forget to click the \"Restart Runtime\" button above.\n",
    "#### If you dont see a restart button, go to the \"Runtime\" toolbar tab then \"Restart Runtime\".\n",
    "#### After restarting, continue executing the project from below this cell (\"Run All\" will restart the runtime again).\n",
    "\n",
    "## Setup Projects and Region\n",
    "\n",
    "**If you don't know your project ID**, try the following:\n",
    "* Run `gcloud config list`.\n",
    "* Run `gcloud projects list`.\n",
    "* See the support page: [Locate the project ID](https://support.google.com/googleapi/answer/7014113)"
   ]
  },
  {
   "cell_type": "code",
   "execution_count": null,
   "metadata": {},
   "outputs": [],
   "source": [
    "PROJECT_ID = \"dt-langchain-apps-dev\" # @param {type:\"string\"}\n",
    "LOCATION = \"europe-west2\"  # @param {type:\"string\"}"
   ]
  },
  {
   "cell_type": "code",
   "execution_count": null,
   "metadata": {},
   "outputs": [],
   "source": [
    "!gcloud config set project {PROJECT_ID}"
   ]
  },
  {
   "cell_type": "code",
   "execution_count": null,
   "metadata": {},
   "outputs": [],
   "source": [
    "from google.cloud import aiplatform\n",
    "aiplatform.init(project=PROJECT_ID, location=LOCATION)\n"
   ]
  },
  {
   "attachments": {},
   "cell_type": "markdown",
   "metadata": {},
   "source": [
    "## Task 01: Q&A over Documentation with GoogleLLM\n",
    "\n",
    "Creating a custom knowledge worker is the “Hello World!” of LLMOps. Loading documents, creating embeddings, storing in a vector database and using an LLM to answer queries with knowledge from that database can be achieved in a few lines of Python."
   ]
  },
  {
   "attachments": {},
   "cell_type": "markdown",
   "metadata": {},
   "source": [
    "### Document loading\n",
    "First, we need to select our documentation. LangChain supports [numerous methods](https://python.langchain.com/en/latest/modules/indexes/document_loaders.html) for loading documents. As we will be constructing our knowledge worker using website data, we first download the files locally using `wget`. Note: replace `https://datatonic.com/` with any domain to build a knowledge worker specific to your use-case."
   ]
  },
  {
   "cell_type": "code",
   "execution_count": null,
   "metadata": {},
   "outputs": [],
   "source": [
    "!wget -r -A.html https://datatonic.com/"
   ]
  },
  {
   "attachments": {},
   "cell_type": "markdown",
   "metadata": {},
   "source": [
    "Note how filepaths to the `.html` files form proper URL paths, we'll use this later to reference our answers with proper hyperlinks.\n",
    "\n",
    "The downloaded website can then be loaded as documents using the LangChain [`DirectoryLoader`](https://python.langchain.com/en/latest/modules/indexes/document_loaders/examples/directory_loader.html) and [`UnstructuredHTMLLoader`](https://python.langchain.com/en/latest/modules/indexes/document_loaders/examples/html.html) loaders."
   ]
  },
  {
   "cell_type": "code",
   "execution_count": 2,
   "metadata": {},
   "outputs": [],
   "source": [
    "from langchain.document_loaders import DirectoryLoader, UnstructuredHTMLLoader\n",
    "\n",
    "def load_documents(source_dir):\n",
    "    # Load the documentation using a HTML parser\n",
    "    loader = DirectoryLoader(\n",
    "        source_dir,\n",
    "        glob=\"**/*.html\",\n",
    "        loader_cls=UnstructuredHTMLLoader,\n",
    "        show_progress=True,\n",
    "    )\n",
    "    documents = loader.load()\n",
    "\n",
    "    return documents\n"
   ]
  },
  {
   "attachments": {},
   "cell_type": "markdown",
   "metadata": {},
   "source": [
    "If you wanted to build a knowledge worker with another document type, for instance [Microsoft Word](https://python.langchain.com/en/latest/modules/indexes/document_loaders/examples/microsoft_word.html) documents, you would update the `load_documents()` function according to the documentation for that document type loader.\n",
    "\n",
    "E.g.:\n",
    "```python\n",
    "from langchain.document_loaders import Docx2txtLoader\n",
    "\n",
    "def load_documents():\n",
    "    # Load the documentation using a Microsoft Word parser\n",
    "    loader = Docx2txtLoader(\"example_data/fake.docx\")\n",
    "    documents = loader.load()\n",
    "\n",
    "    return documents\n",
    "```\n",
    "\n",
    "### Creating or loading embeddings\n",
    "Creating embeddings each time we use our app is time-consuming and expensive. By persisting the vector store database after embedding, we can load the saved embeddings for use in another session.\n",
    "\n",
    "Also note the use of the `GoogleLLMEmbeddings()` model. There are [multiple](https://python.langchain.com/en/latest/modules/models/text_embedding.html?highlight=embedding) text embedding models available, many of which can be directly substituted here. Remember to add additional environment variables for different API keys, as per each model's documentation."
   ]
  },
  {
   "cell_type": "code",
   "execution_count": null,
   "metadata": {},
   "outputs": [],
   "source": [
    "PERSIST_DIR = \"chromadb\""
   ]
  },
  {
   "cell_type": "code",
   "execution_count": null,
   "metadata": {},
   "outputs": [],
   "source": [
    "from langchain.vectorstores import Chroma\n",
    "from langchain.embeddings import VertexAIEmbeddings\n",
    "\n",
    "def load_embeddings():\n",
    "    # We use GoogleLLM embeddings model, however other models can be substituted here\n",
    "    embeddings = VertexAIEmbeddings()\n",
    "\n",
    "    # Creating embeddings with each re-run is highly inefficient and costly.\n",
    "    # We instead aim to embed once, then load these embeddings from storage.\n",
    "    vector_store = Chroma(\n",
    "        embedding_function=embeddings,\n",
    "        persist_directory=PERSIST_DIR,\n",
    "    )\n",
    "\n",
    "    return vector_store\n"
   ]
  },
  {
   "cell_type": "code",
   "execution_count": 8,
   "metadata": {},
   "outputs": [],
   "source": [
    "from langchain.text_splitter import RecursiveCharacterTextSplitter\n",
    "\n",
    "BATCH_SIZE = 5\n",
    "\n",
    "def embed_documents(vector_store, documents):\n",
    "    # Individual documents will often exceed the token limit.\n",
    "    # By splitting documents into chunks of 1000 token\n",
    "    # These chunks fit into the token limit alongside the user prompt\n",
    "    text_splitter = RecursiveCharacterTextSplitter(chunk_size=1000, chunk_overlap=0)\n",
    "    texts = text_splitter.split_documents(documents)\n",
    "\n",
    "    # batch documents and iteratively embed\n",
    "    texts_batched = [\n",
    "        texts[i: i + BATCH_SIZE] for i in range(0, len(texts), BATCH_SIZE)\n",
    "    ]\n",
    "\n",
    "    for batch in texts_batched:\n",
    "        print(len(batch))\n",
    "        # Add our documents (split into shards) to the DB\n",
    "        # They will be embedded using the defined GooglePalmEmbeddings model\n",
    "        vector_store.add_texts(batch)\n",
    "\n",
    "    # Persist the ChromaDB locally, so we can reload the script without expensively re-embedding the database\n",
    "    vector_store.persist()\n",
    "\n",
    "    return vector_store\n"
   ]
  },
  {
   "cell_type": "code",
   "execution_count": null,
   "metadata": {},
   "outputs": [],
   "source": [
    "def create_embeddings(source_dir):\n",
    "    vector_store = load_embeddings()\n",
    "\n",
    "    documents = load_documents(source_dir=source_dir)\n",
    "    vector_store = embed_documents(vector_store, documents)\n",
    "\n",
    "    return vector_store\n"
   ]
  },
  {
   "cell_type": "code",
   "execution_count": null,
   "metadata": {},
   "outputs": [],
   "source": [
    "import os\n",
    "\n",
    "# If the vectorstore embedding database has been created, load it\n",
    "if os.path.isdir(PERSIST_DIR):\n",
    "    print(f\"Loading {PERSIST_DIR} as vector store\")\n",
    "    vector_store = load_embeddings()\n",
    "# If it exists, create it\n",
    "else:\n",
    "    print(f\"Creating new vector store in dir {PERSIST_DIR}\")\n",
    "    vector_store = create_embeddings(source_dir=\"datatonic.com\")\n"
   ]
  },
  {
   "cell_type": "code",
   "execution_count": 9,
   "metadata": {},
   "outputs": [
    {
     "name": "stderr",
     "output_type": "stream",
     "text": [
      "100%|██████████| 147/147 [00:03<00:00, 46.91it/s]\n"
     ]
    },
    {
     "name": "stdout",
     "output_type": "stream",
     "text": [
      "5\n"
     ]
    },
    {
     "ename": "NotImplementedException",
     "evalue": "Not implemented Error: Unable to transform python value of type '<class 'langchain.schema.Document'>' to DuckDB LogicalType",
     "output_type": "error",
     "traceback": [
      "\u001b[0;31m---------------------------------------------------------------------------\u001b[0m",
      "\u001b[0;31mNotImplementedException\u001b[0m                   Traceback (most recent call last)",
      "Cell \u001b[0;32mIn[9], line 14\u001b[0m\n\u001b[1;32m      8\u001b[0m vector_store \u001b[39m=\u001b[39m Chroma(\n\u001b[1;32m      9\u001b[0m     embedding_function\u001b[39m=\u001b[39membeddings,\n\u001b[1;32m     10\u001b[0m )\n\u001b[1;32m     12\u001b[0m documents \u001b[39m=\u001b[39m load_documents(source_dir\u001b[39m=\u001b[39m\u001b[39m\"\u001b[39m\u001b[39mdatatonic.com\u001b[39m\u001b[39m\"\u001b[39m)\n\u001b[0;32m---> 14\u001b[0m vector_store \u001b[39m=\u001b[39m embed_documents(vector_store, documents)\n",
      "Cell \u001b[0;32mIn[8], line 21\u001b[0m, in \u001b[0;36membed_documents\u001b[0;34m(vector_store, documents)\u001b[0m\n\u001b[1;32m     18\u001b[0m     \u001b[39mprint\u001b[39m(\u001b[39mlen\u001b[39m(batch))\n\u001b[1;32m     19\u001b[0m     \u001b[39m# Add our documents (split into shards) to the DB\u001b[39;00m\n\u001b[1;32m     20\u001b[0m     \u001b[39m# They will be embedded using the defined GooglePalmEmbeddings model\u001b[39;00m\n\u001b[0;32m---> 21\u001b[0m     vector_store\u001b[39m.\u001b[39;49madd_texts(batch)\n\u001b[1;32m     23\u001b[0m \u001b[39m# Persist the ChromaDB locally, so we can reload the script without expensively re-embedding the database\u001b[39;00m\n\u001b[1;32m     24\u001b[0m vector_store\u001b[39m.\u001b[39mpersist()\n",
      "File \u001b[0;32m~/Developer/datatonic/gen-ai-hackathon/.venv/lib/python3.11/site-packages/langchain/vectorstores/chroma.py:160\u001b[0m, in \u001b[0;36mChroma.add_texts\u001b[0;34m(self, texts, metadatas, ids, **kwargs)\u001b[0m\n\u001b[1;32m    158\u001b[0m \u001b[39mif\u001b[39;00m \u001b[39mself\u001b[39m\u001b[39m.\u001b[39m_embedding_function \u001b[39mis\u001b[39;00m \u001b[39mnot\u001b[39;00m \u001b[39mNone\u001b[39;00m:\n\u001b[1;32m    159\u001b[0m     embeddings \u001b[39m=\u001b[39m \u001b[39mself\u001b[39m\u001b[39m.\u001b[39m_embedding_function\u001b[39m.\u001b[39membed_documents(\u001b[39mlist\u001b[39m(texts))\n\u001b[0;32m--> 160\u001b[0m \u001b[39mself\u001b[39;49m\u001b[39m.\u001b[39;49m_collection\u001b[39m.\u001b[39;49madd(\n\u001b[1;32m    161\u001b[0m     metadatas\u001b[39m=\u001b[39;49mmetadatas, embeddings\u001b[39m=\u001b[39;49membeddings, documents\u001b[39m=\u001b[39;49mtexts, ids\u001b[39m=\u001b[39;49mids\n\u001b[1;32m    162\u001b[0m )\n\u001b[1;32m    163\u001b[0m \u001b[39mreturn\u001b[39;00m ids\n",
      "File \u001b[0;32m~/Developer/datatonic/gen-ai-hackathon/.venv/lib/python3.11/site-packages/chromadb/api/models/Collection.py:107\u001b[0m, in \u001b[0;36mCollection.add\u001b[0;34m(self, ids, embeddings, metadatas, documents, increment_index)\u001b[0m\n\u001b[1;32m     83\u001b[0m \u001b[39m\u001b[39m\u001b[39m\"\"\"Add embeddings to the data store.\u001b[39;00m\n\u001b[1;32m     84\u001b[0m \u001b[39mArgs:\u001b[39;00m\n\u001b[1;32m     85\u001b[0m \u001b[39m    ids: The ids of the embeddings you wish to add\u001b[39;00m\n\u001b[0;32m   (...)\u001b[0m\n\u001b[1;32m    100\u001b[0m \n\u001b[1;32m    101\u001b[0m \u001b[39m\"\"\"\u001b[39;00m\n\u001b[1;32m    103\u001b[0m ids, embeddings, metadatas, documents \u001b[39m=\u001b[39m \u001b[39mself\u001b[39m\u001b[39m.\u001b[39m_validate_embedding_set(\n\u001b[1;32m    104\u001b[0m     ids, embeddings, metadatas, documents\n\u001b[1;32m    105\u001b[0m )\n\u001b[0;32m--> 107\u001b[0m \u001b[39mself\u001b[39;49m\u001b[39m.\u001b[39;49m_client\u001b[39m.\u001b[39;49m_add(\n\u001b[1;32m    108\u001b[0m     ids, \u001b[39mself\u001b[39;49m\u001b[39m.\u001b[39;49mid, embeddings, metadatas, documents, increment_index\n\u001b[1;32m    109\u001b[0m )\n",
      "File \u001b[0;32m~/Developer/datatonic/gen-ai-hackathon/.venv/lib/python3.11/site-packages/chromadb/api/local.py:239\u001b[0m, in \u001b[0;36mLocalAPI._add\u001b[0;34m(self, ids, collection_id, embeddings, metadatas, documents, increment_index)\u001b[0m\n\u001b[1;32m    234\u001b[0m \u001b[39mif\u001b[39;00m \u001b[39mlen\u001b[39m(existing_ids) \u001b[39m>\u001b[39m \u001b[39m0\u001b[39m:\n\u001b[1;32m    235\u001b[0m     \u001b[39mraise\u001b[39;00m errors\u001b[39m.\u001b[39mIDAlreadyExistsError(\n\u001b[1;32m    236\u001b[0m         \u001b[39mf\u001b[39m\u001b[39m\"\u001b[39m\u001b[39mIDs \u001b[39m\u001b[39m{\u001b[39;00mexisting_ids\u001b[39m}\u001b[39;00m\u001b[39m already exist in collection \u001b[39m\u001b[39m{\u001b[39;00mcollection_id\u001b[39m}\u001b[39;00m\u001b[39m\"\u001b[39m\n\u001b[1;32m    237\u001b[0m     )\n\u001b[0;32m--> 239\u001b[0m added_uuids \u001b[39m=\u001b[39m \u001b[39mself\u001b[39;49m\u001b[39m.\u001b[39;49m_db\u001b[39m.\u001b[39;49madd(\n\u001b[1;32m    240\u001b[0m     collection_id,\n\u001b[1;32m    241\u001b[0m     embeddings\u001b[39m=\u001b[39;49membeddings,\n\u001b[1;32m    242\u001b[0m     metadatas\u001b[39m=\u001b[39;49mmetadatas,\n\u001b[1;32m    243\u001b[0m     documents\u001b[39m=\u001b[39;49mdocuments,\n\u001b[1;32m    244\u001b[0m     ids\u001b[39m=\u001b[39;49mids,\n\u001b[1;32m    245\u001b[0m )\n\u001b[1;32m    247\u001b[0m \u001b[39mif\u001b[39;00m increment_index:\n\u001b[1;32m    248\u001b[0m     \u001b[39mself\u001b[39m\u001b[39m.\u001b[39m_db\u001b[39m.\u001b[39madd_incremental(collection_id, added_uuids, embeddings)\n",
      "File \u001b[0;32m~/Developer/datatonic/gen-ai-hackathon/.venv/lib/python3.11/site-packages/chromadb/db/duckdb.py:171\u001b[0m, in \u001b[0;36mDuckDB.add\u001b[0;34m(self, collection_uuid, embeddings, metadatas, documents, ids)\u001b[0m\n\u001b[1;32m    157\u001b[0m data_to_insert \u001b[39m=\u001b[39m [\n\u001b[1;32m    158\u001b[0m     [\n\u001b[1;32m    159\u001b[0m         collection_uuid,\n\u001b[0;32m   (...)\u001b[0m\n\u001b[1;32m    166\u001b[0m     \u001b[39mfor\u001b[39;00m i, embedding \u001b[39min\u001b[39;00m \u001b[39menumerate\u001b[39m(embeddings)\n\u001b[1;32m    167\u001b[0m ]\n\u001b[1;32m    169\u001b[0m insert_string \u001b[39m=\u001b[39m \u001b[39m\"\u001b[39m\u001b[39mcollection_uuid, uuid, embedding, metadata, document, id\u001b[39m\u001b[39m\"\u001b[39m\n\u001b[0;32m--> 171\u001b[0m \u001b[39mself\u001b[39;49m\u001b[39m.\u001b[39;49m_conn\u001b[39m.\u001b[39;49mexecutemany(\n\u001b[1;32m    172\u001b[0m     \u001b[39mf\u001b[39;49m\u001b[39m\"\"\"\u001b[39;49m\n\u001b[1;32m    173\u001b[0m \u001b[39m INSERT INTO embeddings (\u001b[39;49m\u001b[39m{\u001b[39;49;00minsert_string\u001b[39m}\u001b[39;49;00m\u001b[39m) VALUES (?,?,?,?,?,?)\u001b[39;49m\u001b[39m\"\"\"\u001b[39;49m,\n\u001b[1;32m    174\u001b[0m     data_to_insert,\n\u001b[1;32m    175\u001b[0m )\n\u001b[1;32m    177\u001b[0m \u001b[39mreturn\u001b[39;00m [uuid\u001b[39m.\u001b[39mUUID(x[\u001b[39m1\u001b[39m]) \u001b[39mfor\u001b[39;00m x \u001b[39min\u001b[39;00m data_to_insert]\n",
      "\u001b[0;31mNotImplementedException\u001b[0m: Not implemented Error: Unable to transform python value of type '<class 'langchain.schema.Document'>' to DuckDB LogicalType"
     ]
    }
   ],
   "source": [
    "from langchain.embeddings import VertexAIEmbeddings\n",
    "from langchain.vectorstores import Chroma\n",
    "\n",
    "embeddings = VertexAIEmbeddings()\n",
    "\n",
    "# Creating embeddings with each re-run is highly inefficient and costly.\n",
    "# We instead aim to embed once, then load these embeddings from storage.\n",
    "vector_store = Chroma(\n",
    "    embedding_function=embeddings,\n",
    ")\n",
    "\n",
    "documents = load_documents(source_dir=\"datatonic.com\")\n",
    "\n",
    "vector_store = embed_documents(vector_store, documents)\n"
   ]
  },
  {
   "attachments": {},
   "cell_type": "markdown",
   "metadata": {},
   "source": [
    "### Creating the Conversational Q&A Chain"
   ]
  },
  {
   "cell_type": "code",
   "execution_count": null,
   "metadata": {},
   "outputs": [],
   "source": [
    "# The 'k' value indicates the number of sources to use per query.\n",
    "# 'k' as in 'k-nearest-neighbours' to the query in the embedding space.\n",
    "# 'temperature' is the degree of randomness introduced into the LLM response.\n",
    "k = 2\n",
    "temperature = 0.0\n"
   ]
  },
  {
   "attachments": {},
   "cell_type": "markdown",
   "metadata": {},
   "source": [
    "#### Prompt engineering\n",
    "Prompt engineering is a method of zero-shot fine-tuning for large language models. By prompting a LLM with contextual information about its purpose, the model can simulate a variety of situations, such as a customer assistant chatbot, a document summariser, a translator, etc.\n",
    "\n",
    "In this use-case, we prompt our model to respond as a conversational Q&A chatbot. Prompt engineering can be especially useful for introducing guard rails to an application - in this template we tell the model to not respond to queries it lacks the information to answer, as users will trust the application to provide factual replies, so rejecting a query is preferable to outputting false information."
   ]
  },
  {
   "cell_type": "code",
   "execution_count": null,
   "metadata": {},
   "outputs": [],
   "source": [
    "from langchain.prompts import PromptTemplate\n",
    "\n",
    "template = \"\"\"\\\n",
    "You are a helpful chatbot designed to perform Q&A on a set of documents.\n",
    "Always respond to users with friendly and helpful messages.\n",
    "Your goal is to answer user questions using relevant sources.\n",
    "\n",
    "You were developed by Datatonic, and are powered by Google's PaLM-2 model.\n",
    "\n",
    "In addition to your implicit model world knowledge, you have access to the following data sources:\n",
    "- Company documentation.\n",
    "\n",
    "If a user query is too vague, ask for more information.\n",
    "If insufficient information exists to answer a query, respond with \"I don't know\".\n",
    "NEVER make up information.\n",
    "\n",
    "Chat History:\n",
    "{chat_history}\n",
    "Question: {question}\n",
    "\"\"\"\n",
    "\n",
    "# The PromptTemplate reads input variables (i.e.: 'chat_history', 'question') from the template\n",
    "SYSTEM_PROMPT = PromptTemplate.from_template(template)\n"
   ]
  },
  {
   "cell_type": "code",
   "execution_count": null,
   "metadata": {},
   "outputs": [],
   "source": [
    "from langchain.chains import ConversationalRetrievalChain\n",
    "from langchain.llms import VertexAI\n",
    "\n",
    "def qa_chain():\n",
    "    # A vector store retriever relates queries to embedded documents\n",
    "    retriever = vector_store.as_retriever(k=k)\n",
    "\n",
    "    # The selected GoogleLLM model uses embedded documents related to the query\n",
    "    # It parses these documents in order to answer the user question.\n",
    "    # We use the GoogleLLM LLM, however other models can be substituted here\n",
    "    model = VertexAI(temperature=temperature)\n",
    "\n",
    "    # A conversation retrieval chain keeps a history of Q&A / conversation\n",
    "    # This allows for contextual questions such as \"give an example of that (previous response)\".\n",
    "    # The chain is also set to return the source documents used in generating an output\n",
    "    # This allows for explainability behind model output.\n",
    "    chain = ConversationalRetrievalChain.from_llm(\n",
    "        llm=model,\n",
    "        retriever=retriever,\n",
    "        return_source_documents=True,\n",
    "        condense_question_prompt=SYSTEM_PROMPT,\n",
    "    )\n",
    "\n",
    "    return chain\n"
   ]
  },
  {
   "cell_type": "code",
   "execution_count": null,
   "metadata": {},
   "outputs": [],
   "source": [
    "def q_a(question: str, history: list):\n",
    "    # map history (list of lists) to expected format of chat_history (list of tuples)\n",
    "    chat_history = map(tuple, history)\n",
    "    \n",
    "    # Query the LLM to get a response\n",
    "    # First the Q&A chain will collect documents semantically similar to the question\n",
    "    # Then it will ask the LLM to use this data to answer the user question\n",
    "    # We also provide chat history as further context\n",
    "    response = qa_chain()(\n",
    "        {\n",
    "            \"question\": question,\n",
    "            \"chat_history\": chat_history,\n",
    "        }\n",
    "    )\n",
    "\n",
    "    # Format source documents (sources of excerpts passed to the LLM) into links the user can validate\n",
    "    sources = [\n",
    "        \"[{0}]({0})\".format(doc.metadata[\"source\"])\n",
    "        for doc in response[\"source_documents\"]\n",
    "    ]\n",
    "\n",
    "    # Return the LLM answer, and list of sources used (formatted as a string)\n",
    "    return response[\"answer\"], \"\\n\\n\".join(sources)\n"
   ]
  },
  {
   "attachments": {},
   "cell_type": "markdown",
   "metadata": {},
   "source": [
    "### Building a simple GradI/O UI\n",
    "As building with GradI/O is outside the scope of this workshop, a template GradI/O app has been provided."
   ]
  },
  {
   "cell_type": "code",
   "execution_count": null,
   "metadata": {},
   "outputs": [],
   "source": [
    "def submit(msg, chatbot):\n",
    "    # First create a new entry in the conversation log\n",
    "    msg, chatbot = user(msg, chatbot)\n",
    "    # Then get the chatbot response to the user question\n",
    "    chatbot = bot(chatbot)\n",
    "    return msg, chatbot\n",
    "\n",
    "\n",
    "def user(user_message, history):\n",
    "    # Return \"\" to clear the user input, and add the user question to the conversation history\n",
    "    return \"\", history + [[user_message, None]]\n",
    "\n",
    "\n",
    "def bot(history):\n",
    "    # Get the user question from conversation history\n",
    "    user_message = history[-1][0]\n",
    "    # Get the response and sources used to answer the user question\n",
    "    bot_message, bot_sources = q_a(user_message, history[:-1])\n",
    "\n",
    "    # Using a template, format the response and sources together\n",
    "    bot_template = (\n",
    "        \"{0}\\n\\n<details><summary><b>Sources</b></summary>\\n\\n{1}</details>\"\n",
    "    )\n",
    "    # Place the response into the conversation history and return\n",
    "    history[-1][1] = bot_template.format(bot_message, bot_sources)\n",
    "    return history\n"
   ]
  },
  {
   "cell_type": "code",
   "execution_count": null,
   "metadata": {},
   "outputs": [],
   "source": [
    "import gradio as gr\n",
    "\n",
    "# Build a simple GradIO app that accepts user input and queries the LLM\n",
    "# Then displays the response in a ChatBot interface, with markdown support.\n",
    "with gr.Blocks(theme=gr.themes.Base()) as demo:\n",
    "    # Set a page title\n",
    "    gr.Markdown(\"# Custom knowledge worker\")\n",
    "    # Create a chatbot conversation log\n",
    "    chatbot = gr.Chatbot(label=\"🤖 knowledge worker\")\n",
    "    # Create a textbox for user questions\n",
    "    msg = gr.Textbox(\n",
    "        label=\"👩‍💻 user input\", info=\"Query information from the custom knowledge base.\"\n",
    "    )\n",
    "\n",
    "    # Align both buttons on the same row\n",
    "    with gr.Row():\n",
    "        send = gr.Button(value=\"Send\", variant=\"primary\").style(size=\"sm\")\n",
    "        clear = gr.Button(value=\"Clear History\", variant=\"secondary\").style(size=\"sm\")\n",
    "\n",
    "    # Submit message on <enter> or clicking \"Send\" button\n",
    "    msg.submit(submit, [msg, chatbot], [msg, chatbot], queue=False)\n",
    "    send.click(submit, [msg, chatbot], [msg, chatbot], queue=False)\n",
    "\n",
    "    # Clear chatbot history on clicking \"Clear History\" button\n",
    "    clear.click(lambda: None, None, chatbot, queue=False)\n",
    "\n",
    "# Create a queue system so multiple users can access the page at once\n",
    "demo.queue()\n",
    "# Launch the webserver locally\n",
    "demo.launch()\n"
   ]
  },
  {
   "attachments": {},
   "cell_type": "markdown",
   "metadata": {},
   "source": [
    "Testing our demo, we can query our knowledge base for answers (code emphasis added). Since we used a `ConversationalRetrievalChain`, we can also correct the model when it gives the wrong response and prompt it to fix it’s mistake, or ask for further detail on a previous response.\n",
    "\n",
    "> 👩‍💻: how to install the gcloud cli\n",
    "> \n",
    "> 🦜:  You can install the gcloud CLI by running the command `$ gcloud components update`.\n",
    "> \n",
    "> 👩‍💻: that command requires gcloud to be installed, how can I install gcloud initially?\n",
    "> \n",
    "> 🦜:  You can install gcloud initially by running the command '`pip install google-cloud`' in your terminal.\n",
    "> \n",
    "> 👩‍💻: how can I set the target project\n",
    "> \n",
    "> 🦜:  You can set the target project for the gcloud CLI by using the command `$ gcloud config set project my-new-default-project`.\n",
    "> \n",
    "> 👩‍💻: what is the gcloud cli?\n",
    "> \n",
    "> 🦜:  The gcloud CLI is a command line interface for Google Cloud Platform services.\n",
    "> \n",
    "> 👩‍💻: explain the above in more detail\n",
    "> \n",
    "> 🦜:  The gcloud CLI is a tool used to authenticate and configure credentials for Google Cloud services. It can be used to change the default project ID, update components, and authenticate the CLI itself.\n",
    "\n",
    "## Task 02: Extending the knowledge base\n",
    "As mentioned, it is possible to extend a knowledge base with additional documents. This is useful for updating a knowledge base with new information without having to re-embed established knowledge from scratch.\n",
    "\n",
    "Try extending the `create_embeddings()` function to load multiple knowledge sources. Update the `source_dir` to `source_dirs`, which accepts a list of folder paths, then iteratively load these folders as documents and embed them in the database.\n",
    "\n",
    "**Solution:**\n",
    "```python\n",
    "def create_embeddings(source_dirs):\n",
    "    vector_store = load_embeddings()\n",
    "\n",
    "    for dir in source_dirs:\n",
    "        documents = load_documents(source_dir=dir)\n",
    "        vector_store = embed_documents(vector_store, documents)\n",
    "\n",
    "    return vector_store\n",
    "```\n",
    "\n",
    "Also experiment with loading different document types - update the `load_documents` function to load `.pdf` or `.pptx` files, or write some logic to load any of these file types depending on an argument `document_type` (try using an `if-elif-else` switch to change which document loader is used) and embed multiple document types within the same vector store.\n",
    "\n",
    "Note: if you're looking to deploy a knowledge worker with several knowledge bases, a [Router Chain](https://python.langchain.com/en/latest/modules/chains/examples/multi_retrieval_qa_router.html), which combines several knowledge workers with discrete knowledge bases into a single chain which selects the best worker for the query.\n",
    "\n",
    "## Task 03: Text generation over a vector index\n",
    "We can utilise our embedded documents for more than just Q&A. In tasks 1 and 2, we used the embedded documents as context for answering user queries, but in this task we will use it to generate original content using this knowledge base as a source of information and style.\n",
    "\n"
   ]
  },
  {
   "cell_type": "code",
   "execution_count": null,
   "metadata": {},
   "outputs": [],
   "source": [
    "from langchain.chains import LLMChain\n"
   ]
  },
  {
   "cell_type": "code",
   "execution_count": null,
   "metadata": {},
   "outputs": [],
   "source": [
    "prompt_template = \"\"\"\\\n",
    "Use the context below to write a 400 word blog post about the topic below:\n",
    "Context: {context}\n",
    "Topic: {topic}\n",
    "Blog post:\n",
    "\"\"\"\n",
    "\n",
    "PROMPT = PromptTemplate(\n",
    "    template=prompt_template, input_variables=[\"context\", \"topic\"]\n",
    ")\n",
    "\n",
    "llm = GoogleLLM(temperature=0)\n",
    "\n",
    "chain = LLMChain(llm=llm, prompt=PROMPT)\n"
   ]
  },
  {
   "cell_type": "code",
   "execution_count": null,
   "metadata": {},
   "outputs": [],
   "source": [
    "def generate_blog_post(topic: str, k: int):\n",
    "    # search for 'k' nearest documents related to our topic.\n",
    "    docs = vector_store.similarity_search(topic, k=k)\n",
    "\n",
    "    # associate topic with the content of each document to generate inputs\n",
    "    inputs = [{\"context\": doc.page_content, \"topic\": topic} for doc in docs]\n",
    "    # generate blog posts for each context-topic pair\n",
    "    output = chain.apply(inputs)\n",
    "\n",
    "    return output\n"
   ]
  },
  {
   "cell_type": "code",
   "execution_count": null,
   "metadata": {},
   "outputs": [],
   "source": [
    "# generate variations of blog posts on the topic \"Greentonic initiative\" based on the 4 most relevant documents\n",
    "output = generate_blog_post(\"Greentonic initiative\", k=4)\n",
    "for blog in output:\n",
    "    print(blog['text'])\n"
   ]
  },
  {
   "attachments": {},
   "cell_type": "markdown",
   "metadata": {},
   "source": [
    "# Conclusions\n",
    "## What have we built?\n",
    "In this session, we have built a knowledge worker use-case for accessing your complex information using Generative AI. This concept can be extended into a fully-fledged tool that can unlock the value of your data for customers or internal use.\n",
    "\n",
    "# Going further..\n",
    "This workshop has introduced all the LangChain knowledge required to create a knowledge worker. The next steps for moving this project from development to production are discussed below.\n",
    "\n",
    "## Decoupling LangChain from GradI/O\n",
    "It is not necessary to run LangChain within a GradI/O app. Decoupling LangChain into a separate API has several benefits:\n",
    "1. We can deploy scalable servers / Docker containers\n",
    "2. Simplified code - a frontend-backend loose coupling can lead to simpler code, which is ease to update and maintain.\n",
    "3. If a more professional user interface is needed, such as a native React app. Replacing GradI/O is a straightforward process - FastAPI can be called from javascript, etc., allowing you to move beyond Python frontend frameworks.\n",
    "\n",
    "An example of this separation can be found on the GitHub repository, using FastAPI to create a simple LangChain API server and Poetry to manage separate server environments.\n",
    "\n",
    "## Deploying on Google Cloud\n",
    "Once we have decoupled our frontend and backend code, we can deploy the project onto Google Cloud.\n",
    "\n",
    "This reference architecture diagrams mirror the flow diagrams we first introducted in the workshop introduction. Using Google Cloud, we can create production pipelines for creating / updating vector databases, and deploy a knowledge worker API (which can be connected to a web UI, Slack bot, etc.).\n",
    "\n",
    "**Example architecture: Ingestion**\n",
    "![A typical ingestion chain](assets/knowledge-worker-gcp-ingestion-pipeline.png)\n",
    "\n",
    "By creating a pipeline for data ingestion, we can continue to extend the knowledge base of our knowledge worker as you produce new documents and documentation.\n",
    "\n",
    "**Example architecture: Inference**\n",
    "![A typical ingestion chain](assets/knowledge-worker-gcp-inference-pipeline.png)\n",
    "\n",
    "By creating a pipeline for inference, we can leverage the power of Google Cloud to provide a highly reliable and scalable API that can power a variety of applications."
   ]
  }
 ],
 "metadata": {
  "kernelspec": {
   "display_name": "Python 3 (ipykernel)",
   "language": "python",
   "name": "python3"
  },
  "language_info": {
   "codemirror_mode": {
    "name": "ipython",
    "version": 3
   },
   "file_extension": ".py",
   "mimetype": "text/x-python",
   "name": "python",
   "nbconvert_exporter": "python",
   "pygments_lexer": "ipython3",
   "version": "3.11.2"
  }
 },
 "nbformat": 4,
 "nbformat_minor": 2
}
