{
 "cells": [
  {
   "cell_type": "markdown",
   "metadata": {},
   "source": [
    "<h1 align=\"center\"> Generative AI Hackathon</h1>\n",
    "<table align=\"center\">\n",
    "    <td>\n",
    "        <a href=\"https://colab.research.google.com/github/teamdatatonic/gen-ai-hackathon/blob/main/knowledge_worker/hackathon_answers.ipynb\">\n",
    "            <img src=\"https://cloud.google.com/ml-engine/images/colab-logo-32px.png\" alt=\"Colab logo\">\n",
    "            <span style=\"vertical-align: middle;\">Run in Colab</span>\n",
    "        </a>\n",
    "    </td>\n",
    "    <td>\n",
    "        <a href=\"https://github.com/teamdatatonic/gen-ai-hackathon/blob/main/knowledge_worker/hackathon_answers.ipynb\">\n",
    "            <img src=\"https://cloud.google.com/ml-engine/images/github-logo-32px.png\" alt=\"GitHub logo\">\n",
    "            <span style=\"vertical-align: middle;\">View on GitHub</span>\n",
    "        </a>\n",
    "    </td>\n",
    "    <td>\n",
    "        <a href=\"https://console.cloud.google.com/vertex-ai/workbench/deploy-notebook?download_url=https://raw.githubusercontent.com/teamdatatonic/gen-ai-hackathon/main/knowledge_worker/hackathon_answers.ipynb\">\n",
    "            <img src=\"https://lh3.googleusercontent.com/UiNooY4LUgW_oTvpsNhPpQzsstV5W8F7rYgxgGBD85cWJoLmrOzhVs_ksK_vgx40SHs7jCqkTkCk=e14-rj-sc0xffffff-h130-w32\" alt=\"Vertex AI logo\"> \n",
    "            <span style=\"vertical-align: middle;\">Open in Vertex AI Workbench</span>\n",
    "        </a>\n",
    "    </td>\n",
    "</table>\n",
    "<hr>\n",
    "\n",
    " **🔵 Your main goal with this notebook:** Learn about Generative AI by building your own Knowledge Worker using Python and LangChain!\n",
    "\n"
   ]
  },
  {
   "cell_type": "markdown",
   "metadata": {
    "id": "ScHDNga8s3Rw"
   },
   "source": [
    "# Introduction\n",
    "\n",
    "This notebook walks you through the challenge of implementing a **Knowledge Worker** for your organisation using **Generative AI**!\n",
    "\n",
    "**Why a knowledge worker?** Decentralized data across internal and external databases results in time wasted as workforce tries to find required information and transform into insights. A knowledge worker can consolidate this information, then answer queries in natural language providing summarisation and sources.\n",
    "\n",
    "![Q&A Chain intro](https://github.com/teamdatatonic/gen-ai-hackathon/blob/bca8120f1408be1895309517a7a4d693035b940b/assets/qa_intro.png?raw=true)\n",
    "\n",
    "🔵 **Definition of your main goal:** Implement a knowledge worker to enable users in your company to perform Q&A, in natural language, upon a knowledge base.\n",
    "In this way, you'll centralise company data for easy access in a user-friendly manner, boosting productivity.\n",
    "As such, you'll create a knowledge worker fine-tuned to your data domain.\n",
    "This app will only have access to specific knowledge such as public data about your company available on your company's website and unstructured documents (websites, PDF, Word, text ...).\n",
    "\n",
    "While solving the tasks as instructed in this notebook, you'll familiarise yourself with common concepts and tools for Generative AI including:\n",
    "\n",
    "* The Open-Source tool LangChain\n",
    "* Large Language Models (LLMs)\n",
    "* Vertex AI Search (a.k.a Enterprise Search)\n",
    "* Prompts and Prompt Engineering\n",
    "* Text Embeddings and Vector Databases\n",
    "\n",
    "\n",
    "Ultimately, this notebook details how to get started with LangChain and Vertex AI to do Retrieval Augmented Generation (RAG), and walks through setting up a knowledge worker on Google Cloud and Vertex AI.\n",
    "\n",
    "## Implementing a knowledge worker\n",
    "\n",
    "When creating a knowledge worker, you'll recall that Large Language Models (LLMs) can be tuned for a variety of tasks such as text summarization, answering questions, and generating new content (and many more!).\n",
    "When it comes to tuning approaches, you'll have the choice between:\n",
    "\n",
    "**A) Zero-shot learning:** Use LLMs directly without providing additional data or fine-tuning the model.\n",
    "\n",
    "**B) Few-shot learning:** Provide a select number of input examples when using LLM to improve the quality of outputs.\n",
    "\n",
    "**C) Model Fine-tuning:** Fine-tune certain (or additional) layers in the LLM by training the model on provided training data.\n",
    "\n",
    "Instead of training LLMs using your own data (ie. fine-tuning), it is far easier and more effective to adapt the LLM to your use-case by prompt engineering only (ie. tuning).\n",
    "Thus, methods A) and B) are more applicable for creating your first knowledge worker.\n",
    "\n",
    "A knowledge worker can be approached in two stages:\n",
    "\n",
    "1. Embedding knowledge from diverse sources.\n",
    "    * Load our dataset.\n",
    "    * Shard our documents (e.g.: by paragraph, per 1000 tokens, etc.)\n",
    "    * Embed the documents in Vertex AI Search or a vector store.\n",
    "2. Querying a LLM which is aware of your relevant knowledge to answer questions.\n",
    "    * Locating relevant documents from Vertex AI Search or a vector store.\n",
    "    * Asking the LLM our query, providing relevant knowledge as context to generate an answer.\n",
    "\n",
    "![Q&A Chain Flow](https://github.com/teamdatatonic/gen-ai-hackathon/blob/bca8120f1408be1895309517a7a4d693035b940b/assets/qa_flow.jpeg?raw=true)\n",
    "First, documents (websites, Word documents, databases, Powerpoints, PDFs, etc.) are loaded and split into chunks. Fragmenting is important for three reasons:\n",
    "\n",
    "1. There are technical restrictions on how much data (tokens) can be fed into an LLM at once, meaning the context + system prompt + chat history + user prompt must fit within the token limit.\n",
    "2. Most LLM APIs operate on a per-token pricing model, meaning it is cost-effective to limit the size / amount of data provided to the LLM per query.\n",
    "3. Contextual information should be relevant to the user query, meaning it is optimal to provide only relevant snippets from documents, making the answer more relevant whilst saving costs as per (1) and (2).\n",
    "\n",
    "Next, these document shards are embedded within a vector store. Embedding a document means to align it within a multi-dimension space, which can then be searched according to user queries to find relevant documents. Document relevancy scoring can be as simple as a K-neighbours search, since embedded documents with similarity (as percieved by the LLM embedding model) will be proximate within the search space.\n",
    "\n",
    "![A typical ingestion chain](https://github.com/teamdatatonic/gen-ai-hackathon/blob/7f37d477b18ace5912d34b0574512559d7a457ed/assets/typical-ingestion-chain.png?raw=true)\n",
    "\n",
    "Once the vector store is created, a user can query the knowledge base using natural language questions. Relevant documents related to the query are found in the vector store by embedding the user query and finding local documents. These snippets of text are provided to the LLM (alongside the user query, chat history, prompt engineering, etc.) which parses the information to generate an answer.\n",
    "\n",
    "![A typical query chain](https://github.com/teamdatatonic/gen-ai-hackathon/blob/7f37d477b18ace5912d34b0574512559d7a457ed/assets/typical-query-chain.png?raw=true)\n",
    "\n",
    "## Running this workshop\n",
    "* Execute each code snippet sequentially. This lab is designed so certain steps (like defining functions or importing modules) are performed once, so each new code cell builds upon previous cells.\n",
    "* If the notebook crashes or you want to restart the notebook later, make sure you execute all cells prior to where you left off.\n",
    "* Executing cells out of order can lead to errors, so your first step when debugging should be to ensure all previous code cells have been run.\n",
    "* This workshop can be completed independently, but Datatonic workshop leaders are available to discuss tasks, debug issues, or have a chat about generative AI!\n",
    "\n",
    "## Prerequisites\n",
    "### Install Python dependencies\n",
    "We've developed a python module specifically for this workshop. Installing this one package also installs other dependencies, such as LangChain (a LLM framework) and GradIO (a web UI framework). Please, feel free to explore this package and its documentation at https://github.com/teamdatatonic/gen-ai-hackathon"
   ]
  },
  {
   "cell_type": "code",
   "execution_count": null,
   "metadata": {
    "id": "02VnG-Zhs3R2"
   },
   "outputs": [],
   "source": [
    "%pip install --quiet \"git+https://github.com/teamdatatonic/gen-ai-hackathon.git@main#subdirectory=knowledge_worker/dt_gen_ai_hackathon_helper\""
   ]
  },
  {
   "cell_type": "markdown",
   "metadata": {
    "id": "saLQmyJeqSM3"
   },
   "source": [
    "**❗ Restart the Python kernel:** Ensure that your environment can access the newly installed dependencies. Continue after the restart from the `Setup cloud project` step. "
   ]
  },
  {
   "cell_type": "code",
   "execution_count": null,
   "metadata": {
    "id": "sVJ8C3zws3R3"
   },
   "outputs": [],
   "source": [
    "import IPython\n",
    "\n",
    "app = IPython.Application.instance()\n",
    "app.kernel.do_shutdown(True)"
   ]
  },
  {
   "cell_type": "markdown",
   "metadata": {
    "id": "Lo3B7BfIs3R3"
   },
   "source": [
    "**❗ Note:** If your kernel doesn't restart automatically, click the \"Restart Runtime\" button above your notebook.\n",
    "If you dont see a restart button, go to the \"Runtime\" toolbar tab then \"Restart Runtime\". After restarting, continue executing the project from below this cell.\n",
    "\n",
    "## Accessing the Vertex AI Endpoint\n",
    "\n",
    "Currently, Vertex AI LLMs are accessible via Google Cloud projects. We will access the Vertex AI endpoint via a service account.\n",
    "\n",
    "1. Upload the Google Application Credentials `.json` file sent to your email to the notebook filesystem.\n",
    "2. Set the variable `GOOGLE_APPLICATION_CREDENTIALS` with the filepath (**❗ Note:** the `/content/` folder is where uploaded files are stored by default)."
   ]
  },
  {
   "cell_type": "code",
   "execution_count": null,
   "metadata": {
    "id": "RxkFX1ies3R3"
   },
   "outputs": [],
   "source": [
    "import os\n",
    "\n",
    "# @title Set project credentials. { run: \"auto\", display-mode: \"form\" }\n",
    "# @markdown Set the filepath to the `.json` credentials file.\n",
    "GOOGLE_APPLICATION_CREDENTIALS = \"secrets/credentials.json\"  # @param {type:\"string\"}\n",
    "os.environ[\"GOOGLE_APPLICATION_CREDENTIALS\"] = GOOGLE_APPLICATION_CREDENTIALS\n",
    "\n",
    "!gcloud auth activate-service-account --key-file={GOOGLE_APPLICATION_CREDENTIALS}"
   ]
  },
  {
   "cell_type": "code",
   "execution_count": 3,
   "metadata": {
    "ExecuteTime": {
     "end_time": "2023-10-18T14:56:17.132478Z",
     "start_time": "2023-10-18T14:56:13.504079Z"
    }
   },
   "outputs": [
    {
     "name": "stdout",
     "output_type": "stream",
     "text": [
      "Updated property [core/project].\r\n",
      "\r\n",
      "\r\n",
      "Updates are available for some Google Cloud CLI components.  To install them,\r\n",
      "please run:\r\n",
      "  $ gcloud components update\r\n",
      "\r\n"
     ]
    }
   ],
   "source": [
    "# @markdown Set the Google Cloud project ID.\n",
    "from google.cloud import aiplatform\n",
    "\n",
    "PROJECT_ID = \"dt-gen-ai-hackathon-dev\"  # @param {type:\"string\"}\n",
    "aiplatform.init(project=PROJECT_ID)\n",
    "\n",
    "!gcloud config set project {PROJECT_ID}"
   ]
  },
  {
   "cell_type": "markdown",
   "metadata": {},
   "source": [
    "# Section 1: Implementing a knowledge worker with Vertex AI Search\n",
    "\n",
    "Creating a custom knowledge worker is similar to your first step when learning a new programming language.\n",
    "As such your first challenge is to create a “Hello World” program, however, adapted to LLMs which is way more exciting!\n",
    "\n",
    "With a few lines of code, you'll:\n",
    "* Load documents with information about a/your company\n",
    "* Store documents in Vertex AI Search\n",
    "* Use an LLM to answer queries about Alphabet's investors reports\n",
    "\n",
    "**❗ All of these steps can be achieved in a few lines of Python, or can be equally achieved through the UI.**"
   ]
  },
  {
   "cell_type": "markdown",
   "metadata": {
    "collapsed": false
   },
   "source": [
    "#### **➡️ Your task:**\n",
    "Do the following steps in the Vertex AI Search UI to create a data store and an application."
   ]
  },
  {
   "cell_type": "markdown",
   "metadata": {},
   "source": [
    "## 1.1 Setting up Vertex AI Search\n",
    "\n",
    "Vertex AI Search and Conversation is a comprehensive platform aimed at simplifying the development of search and conversational applications for enterprises. Key features include:\n",
    "\n",
    "**Rapid Development:** The platform's out-of-the-box capabilities eliminate the need for tasks like data chunking and generating embeddings, allowing developers to create apps within hours or days, even without prior machine learning experience.\n",
    "\n",
    "**Flexible Integration:** Whether you're a beginner or an advanced developer, the platform caters to varying needs. It offers direct API integration and allows for deep customizations via specialized offerings like Vector Search or Enterprise Knowledge Graph.\n",
    "\n",
    "**Personalized Interactions:** Applications developed using Vertex AI support multi-modal (text, images, voice) and multi-turn conversations. This enables more personalized and efficient user experiences, supported by Google’s foundation models.\n",
    "\n",
    "**Actionable Insights:** Vertex AI extensions enable chatbots to access and interact with both internal and third-party applications, allowing for real-time actions like booking a calendar or purchasing a flight.\n",
    "\n",
    "**Data Control and Compliance:** Enterprises have full control over their data and user interactions, which are stored in their own cloud instance. The platform also adheres to industry compliance standards like HIPAA, DRZ, and CMEK.\n",
    "\n",
    "\n",
    "\n",
    "![vertex_ai_search](https://github.com/teamdatatonic/gen-ai-hackathon/blob/9ef675fa333cd2de48a084780940e2cc5e08c0ed/assets/vertex_ai_search.png?raw=true)\n"
   ]
  },
  {
   "cell_type": "markdown",
   "metadata": {},
   "source": [
    "### Create a Vertex AI Search data store with documents\n",
    "Create a Vertex AI Search data store to host unstructured data (pdf documents)\n",
    "\n",
    "1 - On the Search & Conversation page, click `NEW DATA STORE`.\n",
    "\n",
    "\n",
    "![Select NEW DATA STORE](https://github.com/teamdatatonic/gen-ai-hackathon/blob/cc33b4034411d494815e65797f21ebc51a28e046/assets/new_data_store.png?raw=true)\n",
    "\n",
    "2 - Select a data source of type Cloud Storage. \n",
    "\n",
    "3 - Add the folder path `dt-gen-ai-hackathon-pdf-datasets/alphabet_investor_pdfs_2004_2021`and select the data kind `Unstructured documents`. gs:// is not required.\n",
    "\n",
    "![Select kind of data](https://github.com/teamdatatonic/gen-ai-hackathon/blob/b0d89b56d4e6063d7a7de8c590ca6e886c9a0883/assets/select_kind_of_data.png?raw=true)\n",
    "\n",
    "4 - Location should be `global (Global)` and the data store name `dt-gen-ai-hackathon-<TEAM NUMBER>`.e.g. `dt-gen-ai-hackathon-t1`.\n"
   ]
  },
  {
   "cell_type": "markdown",
   "metadata": {},
   "source": [
    "### Create a Vertex AI Search application\n",
    "Create a Vertex AI Search application to host your knowledge worker.\n",
    "\n",
    "1 - On the Search & Conversation page, click `NEW APP`.\n",
    "\n",
    "2 - **Type**: Select app type Search.\n",
    "\n",
    "3 - **Configuration**: Maintain the default values with `gobal (Global)` and both features activated. Add the app name `app_<TEAM NUMBER>`.e.g. `app_t1` and click `CONTINUE`.\n",
    "\n",
    "![App configuration](https://github.com/teamdatatonic/gen-ai-hackathon/blob/fc930a5159026ff7ee7ecd8d9440cd1bde0f4a22/assets/app_configuration.png?raw=true)\n",
    "\n",
    "4 - **Data**: Select the data store created in the previous step and click `CREATE`."
   ]
  },
  {
   "cell_type": "markdown",
   "metadata": {
    "collapsed": false
   },
   "source": [
    "🎉 Congratulations! 🎉 You've created a Vertex AI Search data store and application. Now, you can use the Vertex AI Search UI to query your data store and see the results. Let's check how to do this."
   ]
  },
  {
   "cell_type": "markdown",
   "source": [
    "Go to the Preview tab and start questioning your data store. You can use the following questions as examples:\n",
    "> \n",
    "> 👩‍💻: What is Alphabet ? \n",
    "> \n",
    "> 👩‍💻: What is the name of the CEO of DeepMind in 2021? \n",
    "> \n",
    "> 👩‍💻: What were Alphabet revenues in 2021? \n",
    ">\n",
    "> 👩‍💻: What is the name of the CEO of Alphabet in 2021? "
   ],
   "metadata": {
    "collapsed": false
   }
  },
  {
   "cell_type": "markdown",
   "source": [
    "![Preview tab](https://github.com/teamdatatonic/gen-ai-hackathon/blob/89155c8e37cc85a716c81db25cc681756257a7fc/assets/preview_tab.png?raw=true)"
   ],
   "metadata": {
    "collapsed": false
   }
  },
  {
   "cell_type": "markdown",
   "metadata": {},
   "source": [
    "## 1.2 LangChain retrieval Q&A chains\n",
    "\n",
    "LangChain is a Python framework for developing applications using language models.\n",
    "It abstracts the connection between applications and LLMs, allowing a loose coupling between code and specific providers like Google PaLM.\n",
    "\n",
    "We will demonstrate the use of three types of LangChain retrieval Q&A chains:\n",
    "\n",
    "- RetrievalQA\n",
    "- RetrievalQAWithSourcesChain\n",
    "- ConversationalRetrievalChain\n",
    "\n",
    "First, we initialize a Vertex AI Language Model (LLM) and a LangChain `retriever` to fetch documents from our Vertex AI Search engine.\n",
    "\n",
    "In the case of Q&A chains, our retriever is directly passed to the chain, enabling it to function automatically without requiring any additional configuration.\n",
    "\n",
    "Behind the scenes, the search query is initially passed to the retriever. The retriever performs a search and returns relevant document snippets. These snippets are then used as context for the prompt executed by the LLM."
   ]
  },
  {
   "cell_type": "code",
   "execution_count": 2,
   "metadata": {
    "ExecuteTime": {
     "end_time": "2023-10-18T14:56:13.484525Z",
     "start_time": "2023-10-18T14:55:56.253950Z"
    }
   },
   "outputs": [],
   "source": [
    "from langchain.llms import VertexAI\n",
    "from langchain.retrievers import GoogleCloudEnterpriseSearchRetriever\n",
    "\n",
    "# Get this value from the Vertex AI Search UI\n",
    "# Here add your data store id\n",
    "data_store_id = \"juan-data-store_1697542319999\"\n",
    "MODEL = \"text-bison@001\"\n",
    "\n",
    "llm = VertexAI(model_name=MODEL, temperature=0.0)\n",
    "\n",
    "retriever = GoogleCloudEnterpriseSearchRetriever(\n",
    "    project_id=PROJECT_ID, search_engine_id=data_store_id\n",
    ")"
   ]
  },
  {
   "cell_type": "markdown",
   "metadata": {},
   "source": [
    "### RetrievalQA Chain\n",
    "This is the simplest document Q&A chain offered by LangChain.\n",
    "\n",
    "Several different chain types are available, as listed [here](https://docs.langchain.com/docs/components/chains/index_related_chains).\n",
    "\n",
    "In these examples, we use the 'stuff' type, which simply inserts all the document snippets into the prompt. This approach has the advantage of requiring only a single LLM call, making it faster and more cost-efficient.\n",
    "\n",
    "However, this method comes with a drawback: if we have a large number of search results, we run the risk of exceeding the token limit for our prompt or truncating useful information.\n",
    "\n",
    "Other chain types, such as 'map_reduce' and 'refine,' employ an iterative process. These types make multiple LLM calls, taking individual document snippets one at a time and refining the answer iteratively."
   ]
  },
  {
   "cell_type": "code",
   "execution_count": 12,
   "metadata": {
    "ExecuteTime": {
     "end_time": "2023-10-18T17:06:52.412691Z",
     "start_time": "2023-10-18T17:06:51.398444Z"
    }
   },
   "outputs": [
    {
     "data": {
      "text/plain": "'The CEO of DeepMind in 2021 was Demis Hassabis.'"
     },
     "execution_count": 12,
     "metadata": {},
     "output_type": "execute_result"
    }
   ],
   "source": [
    "from langchain.chains import RetrievalQA\n",
    "\n",
    "search_query = \"Who was the CEO of DeepMind in 2021?\"\n",
    "\n",
    "retrieval_qa = RetrievalQA.from_chain_type(\n",
    "    llm=llm, chain_type=\"stuff\", retriever=retriever\n",
    ")\n",
    "retrieval_qa.run(search_query)"
   ]
  },
  {
   "cell_type": "markdown",
   "metadata": {},
   "source": [
    "If we set `return_source_documents=True` as an optional parameter when constructing the chain, we can examine the document snippets returned by the retriever. This feature is particularly useful for debugging, as the relevance of these snippets to the answer may not always be immediately obvious."
   ]
  },
  {
   "cell_type": "code",
   "execution_count": null,
   "metadata": {},
   "outputs": [],
   "source": [
    "from dt_gen_ai_hackathon_helper.formatter_helper import formatter_helper\n",
    "\n",
    "retrieval_qa = RetrievalQA.from_chain_type(\n",
    "    llm=llm, chain_type=\"stuff\", retriever=retriever, return_source_documents=True\n",
    ")\n",
    "\n",
    "results = retrieval_qa({\"query\": search_query})\n",
    "formatter_helper.format_results(results)"
   ]
  },
  {
   "cell_type": "markdown",
   "metadata": {},
   "source": [
    "#### **➡️ Your task:**\n",
    "Find another and more direct way to access the source documents returned by the retriever."
   ]
  },
  {
   "cell_type": "code",
   "execution_count": 13,
   "metadata": {
    "ExecuteTime": {
     "end_time": "2023-10-18T17:06:57.020747Z",
     "start_time": "2023-10-18T17:06:55.467766Z"
    }
   },
   "outputs": [
    {
     "data": {
      "text/plain": "{'answer': 'DeepMind is a subsidiary of Alphabet.\\n',\n 'sources': 'gs://dt-gen-ai-hackathon-pdf-datasets/alphabet_investor_pdfs_2004_2021/2021_alphabet_annual_report.pdf'}"
     },
     "execution_count": 13,
     "metadata": {},
     "output_type": "execute_result"
    }
   ],
   "source": [
    "# ANSWER\n",
    "from langchain.chains import RetrievalQAWithSourcesChain\n",
    "\n",
    "retrieval_qa_with_sources = RetrievalQAWithSourcesChain.from_chain_type(\n",
    "    llm=llm, chain_type=\"stuff\", retriever=retriever\n",
    ")\n",
    "\n",
    "retrieval_qa_with_sources({\"question\": search_query}, return_only_outputs=True)"
   ]
  },
  {
   "cell_type": "markdown",
   "metadata": {
    "collapsed": false
   },
   "source": [
    "This variant delivers both the answer to the question and the source documents used for generating that answer, doing so in a simpler manner than using `return_source_documents=True`."
   ]
  },
  {
   "cell_type": "markdown",
   "metadata": {},
   "source": [
    "### ConversationalRetrievalChain\n",
    "The ConversationalRetrievalChain remembers and uses previous questions to enable a chat-like discovery process. To utilize this chain, we need to provide a memory class that stores and passes the previous messages to the LLM as context. For this purpose, we use the ConversationBufferMemory class that comes with Langchain."
   ]
  },
  {
   "cell_type": "code",
   "execution_count": 15,
   "metadata": {
    "ExecuteTime": {
     "end_time": "2023-10-18T17:13:11.045050Z",
     "start_time": "2023-10-18T17:13:08.978482Z"
    }
   },
   "outputs": [
    {
     "name": "stdout",
     "output_type": "stream",
     "text": [
      "Alphabet's revenues in 2021 were $257,637 million.\n"
     ]
    }
   ],
   "source": [
    "from langchain.chains import ConversationalRetrievalChain\n",
    "from langchain.memory import ConversationBufferMemory\n",
    "\n",
    "memory = ConversationBufferMemory(memory_key=\"chat_history\", return_messages=True)\n",
    "conversational_retrieval = ConversationalRetrievalChain.from_llm(\n",
    "    llm=llm, retriever=retriever, memory=memory\n",
    ")\n",
    "\n",
    "search_query = \"What were alphabet revenues in 2021?\"\n",
    "\n",
    "result = conversational_retrieval({\"question\": search_query})\n",
    "print(result[\"answer\"])"
   ]
  },
  {
   "cell_type": "code",
   "execution_count": 18,
   "metadata": {
    "ExecuteTime": {
     "end_time": "2023-10-18T17:13:55.300960Z",
     "start_time": "2023-10-18T17:13:53.767432Z"
    }
   },
   "outputs": [
    {
     "name": "stdout",
     "output_type": "stream",
     "text": [
      "I don't know your name.\n"
     ]
    }
   ],
   "source": [
    "new_query = \"What about costs and expenses?\"\n",
    "result = conversational_retrieval({\"question\": new_query})\n",
    "print(result[\"answer\"])"
   ]
  },
  {
   "cell_type": "code",
   "execution_count": 19,
   "metadata": {
    "ExecuteTime": {
     "end_time": "2023-10-18T17:14:04.951612Z",
     "start_time": "2023-10-18T17:14:03.226523Z"
    }
   },
   "outputs": [
    {
     "name": "stdout",
     "output_type": "stream",
     "text": [
      "I don't know your name.\n"
     ]
    }
   ],
   "source": [
    "new_query = \"Is this more than in 2020?\"\n",
    "\n",
    "result = conversational_retrieval({\"question\": new_query})\n",
    "print(result[\"answer\"])"
   ]
  },
  {
   "cell_type": "markdown",
   "metadata": {},
   "source": [
    "## 1.3 Prompt engineering\n",
    "\n",
    "![Q&A Chain](https://github.com/teamdatatonic/gen-ai-hackathon/blob/bca8120f1408be1895309517a7a4d693035b940b/assets/stuff-chain.jpeg?raw=true)\n",
    "\n",
    "As outlined before, the creation of prompts is essential to adapt LLMs for your given use case.\n",
    "**Prompt engineering** is a method of zero-shot fine-tuning for large language models.\n",
    "By prompting a LLM with contextual information about its purpose, the model can simulate a variety of situations, such as a customer assistant chatbot, a document summariser, a translator, etc.\n",
    "\n",
    "In this use case, we prompt our model to respond as a conversational Q&A chatbot.\n",
    "Prompt engineering can be especially useful for introducing guard rails to an application - in this template we tell the model to not respond to queries it lacks the information to answer, as users will trust the application to provide factual replies, so rejecting a query is preferable to outputting false information.\n",
    "\n",
    "You can use the prompt and code cells below for your knowledge worker."
   ]
  },
  {
   "cell_type": "markdown",
   "metadata": {},
   "source": [
    "#### **➡️ Your task:**\n",
    "Execute and study the code cell below. Pay attention to the prompt being defined. \n",
    "What elements do you notice in the prompt?\n",
    "How is the prompt used in the chain? Once you have a good understanding of the code, try defining your own prompt."
   ]
  },
  {
   "cell_type": "code",
   "execution_count": null,
   "metadata": {
    "collapsed": false
   },
   "outputs": [],
   "source": [
    "SECTION_01_BASIC_TEMPLATE = \"\"\"\\\n",
    "You are a helpful chatbot designed to perform Q&A on a set of documents.\n",
    "Always respond to users with friendly and helpful messages.\n",
    "Your goal is to answer user questions using relevant sources.\n",
    "\n",
    "You were developed by Datatonic, and are powered by Google's PaLM-2 model.\n",
    "\n",
    "In addition to your implicit model world knowledge, you have access to the following data sources:\n",
    "- Company documentation.\n",
    "\n",
    "If a user query is too vague, ask for more information.\n",
    "If insufficient information exists to answer a query, respond with \"I don't know\".\n",
    "NEVER make up information.\n",
    "\"\"\"\n"
   ]
  },
  {
   "cell_type": "markdown",
   "metadata": {},
   "source": [
    "Once we have connected our Vertex AI Search data store and prompt, we can define our LangChain."
   ]
  },
  {
   "cell_type": "markdown",
   "metadata": {},
   "source": [
    "In all of the previous examples we used the default prompt that comes with langchain.\n",
    "\n",
    "We can inspect our chain object to discover the wording of the prompt template being used.\n",
    "\n",
    "We may find that this is not suitable for our purposes, and we may wish to customise the prompt, for example to present our results in a different format, or to specify additional constraints."
   ]
  },
  {
   "cell_type": "code",
   "execution_count": null,
   "metadata": {},
   "outputs": [],
   "source": [
    "# Check LangChain's default prompt\n",
    "qa = RetrievalQA.from_chain_type(\n",
    "    llm=llm, chain_type=\"stuff\", retriever=retriever, return_source_documents=True\n",
    ")\n",
    "\n",
    "print(qa.combine_documents_chain.llm_chain.prompt.template)"
   ]
  },
  {
   "cell_type": "markdown",
   "metadata": {},
   "source": [
    "#### **➡️ Your task:**\n",
    " Create a yes or no question prompt. Let's modify the prompt to return an answer in a single word (useful for yes/no questions). We will constrain the LLM to say 'I don't know' if it cannot answer.\n",
    "\n",
    "We want to create a new prompt_template and pass it in using the template argument. Extra points for creating the prompt as a two-string template, maintaining the BASIC_TEMPLATE and adding a second part to it.\n",
    "\n",
    "We want the answer to provide two things:\n",
    "```\n",
    "short_answer: Just one word\n",
    "details: One sentence with short explanation\n",
    "```"
   ]
  },
  {
   "cell_type": "markdown",
   "metadata": {
    "collapsed": false
   },
   "source": []
  },
  {
   "cell_type": "code",
   "execution_count": null,
   "metadata": {},
   "outputs": [],
   "source": [
    "# ANSWER\n",
    "SECTION_01_A_TEMPLATE = \"\"\"\\\n",
    "The answer should consist of:\n",
    "Short answer: 1 word. Just a yes or no answer. Prefixed with Short answer:.\n",
    "Details: 1 sentence. A short explanation of the answer. Prefixed with Details:.\n",
    "\n",
    "Context: {context}\n",
    "\n",
    "Question: {question}\n",
    "Helpful Answer:\n",
    "\"\"\""
   ]
  },
  {
   "cell_type": "code",
   "execution_count": null,
   "metadata": {},
   "outputs": [],
   "source": [
    "from langchain.prompts import PromptTemplate\n",
    "\n",
    "prompt_a = PromptTemplate(\n",
    "    template=SECTION_01_BASIC_TEMPLATE + \"\\n\" + SECTION_01_A_TEMPLATE\n",
    "    , input_variables=[\"context\", \"question\"]\n",
    ")\n",
    "qa_chain = RetrievalQA.from_llm(\n",
    "    llm=llm, prompt=prompt_a, retriever=retriever, return_source_documents=True\n",
    ")"
   ]
  },
  {
   "cell_type": "code",
   "execution_count": null,
   "metadata": {},
   "outputs": [],
   "source": [
    "print(qa_chain.combine_documents_chain.llm_chain.prompt.template)"
   ]
  },
  {
   "cell_type": "code",
   "execution_count": null,
   "metadata": {},
   "outputs": [],
   "source": [
    "search_query = \"Were 2020 EMEA revenues higher than 2020 APAC revenues?\"\n",
    "\n",
    "results = qa_chain({\"query\": search_query})\n",
    "formatter_helper.format_results(results)"
   ]
  },
  {
   "cell_type": "markdown",
   "metadata": {},
   "source": [
    "## 1.4 Ingesting documents to Vertex AI Search\n",
    "\n",
    "Now, we are going to test querying our knowledge worker with a new set of documents. First, we will perform a query without the new documents to see what the results look like. Then, we will ingest the new documents and perform the same query again to see how the results change with the ingested data related to the query, which is from the year 2022."
   ]
  },
  {
   "cell_type": "code",
   "execution_count": null,
   "metadata": {},
   "outputs": [],
   "source": [
    "search_query = \"Were 2022 EMEA revenues higher than 2022 APAC revenues?\"\n",
    "\n",
    "results = qa_chain({\"query\": search_query})\n",
    "formatter_helper.format_results(results)"
   ]
  },
  {
   "cell_type": "markdown",
   "metadata": {},
   "source": [
    "Run the cell below and then go to the Vertex Search UI to see the original data store. Check in `Activity` to see how new data has been added to the store.\n",
    "\n",
    "Then, use the cells below to query this new data."
   ]
  },
  {
   "cell_type": "code",
   "execution_count": null,
   "metadata": {},
   "outputs": [],
   "source": [
    "from dt_gen_ai_hackathon_helper.vertex_ai_search import vertex_ai_search\n",
    "location = \"global\"\n",
    "gcs_uri = \"gs://dt-gen-ai-hackathon-pdf-datasets/alphabet_investor_pdfs_2022_2023/*.pdf\"\n",
    "\n",
    "vertex_ai_search.ingest_documents(project_id=PROJECT_ID, location=location, data_store_id=data_store_id, gcs_uri=gcs_uri,\n",
    "                 data_schema=\"content\")"
   ]
  },
  {
   "cell_type": "code",
   "execution_count": null,
   "metadata": {},
   "outputs": [],
   "source": [
    "search_query = \"Were 2022 EMEA revenues higher than 2022 APAC revenues?\"\n",
    "\n",
    "results = qa_chain({\"query\": search_query})\n",
    "formatter_helper.format_results(results)"
   ]
  },
  {
   "cell_type": "markdown",
   "metadata": {},
   "source": [
    "## 1.5 Building the user interface\n",
    "\n",
    "As building a UI is outside of the scope for this hackathon, a templated GUI using [Gradio](https://gradio.app/) is provided for your knowledge worker.\n",
    "\n",
    "#### **➡️ Your task:**\n",
    "Execute the cells below to launch the user interface.\n",
    "\n",
    "**❗ Note:** The following cell will run until manually stopped. Remember to halt it before moving onto the next task."
   ]
  },
  {
   "cell_type": "code",
   "execution_count": 4,
   "metadata": {
    "ExecuteTime": {
     "end_time": "2023-10-18T14:56:42.164266Z",
     "start_time": "2023-10-18T14:56:41.996346Z"
    }
   },
   "outputs": [],
   "source": [
    "def create_qa_vertex_ai_search_chain(k=10, temperature=0.0):\n",
    "    \"\"\"Create a Q&A conversation chain using the VertexAI LLM.\n",
    "\n",
    "    Arguments:\n",
    "        vector_store (object): The vectorstore containing our knowledge.\n",
    "        condense_question_prompt (PromptTemplate): The prompt template used to prompt engineer our LLM to respond in a certain tone, etc.\n",
    "        k (int): the 'k' value indicates the number of sources to use per query. 'k' as in 'k-nearest-neighbours' to the query in the embedding space.\n",
    "        temperature (float): the degree of randomness introduced into the LLM response.\n",
    "    \"\"\"\n",
    "    retriever = GoogleCloudEnterpriseSearchRetriever(\n",
    "        project_id=PROJECT_ID, search_engine_id=data_store_id, max_documents=k\n",
    "    )\n",
    "\n",
    "    # The selected Google model uses embedded documents related to the query\n",
    "    # It parses these documents in order to answer the user question.\n",
    "    # We use the VertexAI LLM, however other models can be substituted here\n",
    "    llm = VertexAI(model_name=MODEL, k=k, temperature=temperature)\n",
    "\n",
    "    # A conversation retrieval chain keeps a history of Q&A / conversation\n",
    "    # This allows for contextual questions such as \"give an example of that (previous response)\".\n",
    "    # The chain is also set to return the source documents used in generating an output\n",
    "    # This allows for explainability behind model output.\n",
    "    conversational_retrieval = ConversationalRetrievalChain.from_llm(\n",
    "        llm=llm, retriever=retriever,\n",
    "        return_source_documents=True\n",
    "    )\n",
    "    return conversational_retrieval"
   ]
  },
  {
   "cell_type": "code",
   "execution_count": 22,
   "metadata": {
    "ExecuteTime": {
     "end_time": "2023-10-19T08:54:15.718101Z",
     "start_time": "2023-10-19T08:42:57.788431Z"
    }
   },
   "outputs": [
    {
     "name": "stdout",
     "output_type": "stream",
     "text": [
      "Running on local URL:  http://127.0.0.1:7860\n",
      "Running on public URL: https://3d8ff2e1d41dc3ffaf.gradio.live\n",
      "\n",
      "This share link expires in 72 hours. For free permanent hosting and GPU upgrades, run `gradio deploy` from Terminal to deploy to Spaces (https://huggingface.co/spaces)\n"
     ]
    },
    {
     "data": {
      "text/plain": "<IPython.core.display.HTML object>",
      "text/html": "<div><iframe src=\"https://3d8ff2e1d41dc3ffaf.gradio.live\" width=\"100%\" height=\"500\" allow=\"autoplay; camera; microphone; clipboard-read; clipboard-write;\" frameborder=\"0\" allowfullscreen></iframe></div>"
     },
     "metadata": {},
     "output_type": "display_data"
    },
    {
     "name": "stdout",
     "output_type": "stream",
     "text": [
      "Keyboard interruption in main thread... closing server.\n",
      "Killing tunnel 127.0.0.1:7860 <> https://3d8ff2e1d41dc3ffaf.gradio.live\n"
     ]
    }
   ],
   "source": [
    "from dt_gen_ai_hackathon_helper.view import view\n",
    " \n",
    "qa_chain_ui = create_qa_vertex_ai_search_chain()\n",
    "demo = view.View(qa_chain=qa_chain_ui)\n",
    "demo.launch_interface()"
   ]
  },
  {
   "cell_type": "markdown",
   "metadata": {
    "collapsed": false
   },
   "source": [
    "#### **➡️ Your task:**\n",
    " Use the user interface above (which you can also open in a separate tab given the shareable link above) to query your knowledge base.\n",
    "\n",
    "Try out a few questions from this example Q&A (using the Datatonic web archive):\n",
    "\n",
    "> 👩‍💻: What is Alphabet?\n",
    "> \n",
    "> 🦜: Alphabet is a holding company that owns Google and other businesses.\n",
    "> \n",
    "> 👩‍💻: Who is the CEO?\n",
    "> \n",
    "> 🦜: The CEO of Alphabet is Sundar Pichai.\n",
    "> \n",
    "> 👩‍💻: What were alphabet revenues in 2021?\n",
    ">  \n",
    "> 🦜: Alphabet's revenues in 2021 were $257,637 million.\n",
    "> \n",
    "> 👩‍💻: And in 2022?\n",
    "> \n",
    "> 🦜: Alphabet's revenues in 2022 were $282,836 million.\n",
    "\n",
    "Since we used a `ConversationalRetrievalChain`, we can also correct the model when it gives the wrong response and prompt it to fix it’s mistake, or ask for further detail on a previous response.\n",
    "\n",
    "**🎉 Congratulations! 🎉** You've created your first Knowledge Worker using LangChain and Vertex AI Search!\n",
    "Let's continue extending your knowledge by creating a custom knowledge worker in the next task."
   ]
  },
  {
   "cell_type": "markdown",
   "metadata": {},
   "source": [
    "# Section 2: Build your own custom knowledge worker end-to-end\n",
    "\n",
    "We are now going to build a custom knowledge worker end-to-end using the Datatonic website as a knowledge source.\n",
    "\n",
    "In the previous section, you have learned how to use Vertex AI Search. This is Vertex AI's managed service version of a vector store. As such, Vertex AI manages the document loading, indexing, splitting, embedding and retrieval.\n",
    "\n",
    "However, in some cases, it is also beneficial to know how to do these steps yourself, using a fully custom solution. Therefore in this next section we are going to learn how to:\n",
    "* Load documents\n",
    "* Split documents\n",
    "* Embed documents\n",
    "* Ingest them in a vector store\n",
    "* Use an LLM to answer queries about a/your company knowledge\n",
    "* Retrieve them based on similarity search"
   ]
  },
  {
   "cell_type": "markdown",
   "metadata": {},
   "source": [
    "### 2.1 Collecting documents\n",
    "First, we need to collect our data. To get started fast, we've already downloaded some sample website data upfront. Let's copy the website data from a public Cloud Storage bucket to your local file system\n",
    "\n",
    "**❗ Note:** Although PaLM supports multiple languages, text embeddings currently work best with English documents."
   ]
  },
  {
   "cell_type": "code",
   "execution_count": null,
   "metadata": {},
   "outputs": [],
   "source": [
    "BUCKET = \"dt-gen-ai-hackathon-webarchive\"  \n",
    "LOCAL_FOLDER = \"www.datatonic.com.tar.gz\""
   ]
  },
  {
   "cell_type": "code",
   "execution_count": null,
   "metadata": {},
   "outputs": [],
   "source": [
    "!gsutil cp gs://{BUCKET}/{LOCAL_FOLDER} . && tar -xzf {LOCAL_FOLDER}"
   ]
  },
  {
   "cell_type": "markdown",
   "metadata": {},
   "source": [
    "If we browse the files we just downloaded, we can see the file structure contains folders and `HTML` files. This is because it is a local replica of the target website, meaning the file paths correlate with real webpages.\n",
    "\n",
    "#### **➡️ Your task:** \n",
    "\n",
    "LangChain supports [numerous methods](https://python.langchain.com/en/latest/modules/indexes/document_loaders.html) for loading documents.\n",
    "\n",
    "We will be using the `DirectoryLoader` and `UnstructuredHTMLLoader` in order to load a pre-compiled archive of your website. This method is similar to the [`RecursiveUrlLoader`](https://python.langchain.com/docs/modules/data_connection/document_loaders/integrations/recursive_url_loader). This document loader searches for subpages of a website and loads each pages content as a document. Additionally, if we only wanted to download a list of URLs without searching for subpages, we could use a [`UnstructuredURLLoader`](https://python.langchain.com/docs/modules/data_connection/document_loaders/integrations/url).\n",
    "\n",
    "**❗ Note:** We're using pre-compiled archives to avoid hitting rate limits during this session, however this content can also be programatically gathered routinely to collect new blog posts / press releases.\n",
    "\n",
    "#### **➡️ Your task:**\n",
    " Read the linked resources in the `Introduction to LangChain` step and study the following code cells as they provide reusable LangChain code for your knowledge worker.\n",
    "\n",
    "In the code cell below, we parse the directory to find `HTML` files and load their contents using `UnstructuredHTMLLoader`."
   ]
  },
  {
   "cell_type": "code",
   "execution_count": null,
   "metadata": {
    "id": "kjaBy8CSs3R5"
   },
   "outputs": [],
   "source": [
    "from langchain.document_loaders import DirectoryLoader, UnstructuredHTMLLoader\n",
    "\n",
    "\n",
    "def load_documents(source_dir):\n",
    "    # Load the documentation using a HTML parser\n",
    "    loader = DirectoryLoader(\n",
    "        source_dir,\n",
    "        glob=\"**/*.html\",\n",
    "        loader_cls=UnstructuredHTMLLoader,\n",
    "        show_progress=True,\n",
    "    )\n",
    "    documents = loader.load()\n",
    "\n",
    "    print(f\"Loaded: {len(documents)} documents from {source_dir}.\")\n",
    "\n",
    "    return documents"
   ]
  },
  {
   "cell_type": "markdown",
   "metadata": {
    "id": "kXhTVS9ws3R5"
   },
   "source": [
    "### 2.2 Creating or loading embeddings\n",
    "\n",
    "Creating embeddings each time we use our app is time-consuming and expensive.\n",
    "By persisting the vector store database after embedding, we can load the saved embeddings for use in another session.\n",
    "\n",
    "#### **➡️ Your task:** \n",
    "Study and execute the following code cells. Note that after the documents have been loaded, they are split into shards using the `RecursiveCharacterTextSplitter` function. "
   ]
  },
  {
   "cell_type": "code",
   "execution_count": null,
   "metadata": {
    "id": "Njknbfazs3R6"
   },
   "outputs": [],
   "source": [
    "# @title Set the name of your vectorstore { run: \"auto\", display-mode: \"form\" }\n",
    "# @markdown This variable can be left as default for this task.\n",
    "PERSIST_DIR = \"chromadb\"  # @param {type:\"string\"}"
   ]
  },
  {
   "cell_type": "code",
   "execution_count": null,
   "metadata": {
    "id": "XkO3NV73s3R6"
   },
   "outputs": [],
   "source": [
    "from langchain.text_splitter import RecursiveCharacterTextSplitter\n",
    "from langchain.vectorstores import Chroma\n",
    "from langchain.embeddings import VertexAIEmbeddings\n",
    "\n",
    "\n",
    "def create_embeddings(source_dir):\n",
    "    documents = load_documents(source_dir=source_dir)\n",
    "\n",
    "    # We use Google embeddings model, however other models can be substituted here\n",
    "    embeddings = VertexAIEmbeddings(model_name='textembedding-gecko@001')\n",
    "\n",
    "    # Individual documents will often exceed the token limit.\n",
    "    # By splitting documents into chunks of 1000 token\n",
    "    # These chunks fit into the token limit alongside the user prompt\n",
    "    text_splitter = RecursiveCharacterTextSplitter(chunk_size=1000, chunk_overlap=0)\n",
    "    texts = text_splitter.split_documents(documents)\n",
    "\n",
    "    vector_store = Chroma.from_documents(\n",
    "        documents=texts, embedding=embeddings, persist_directory=PERSIST_DIR\n",
    "    )\n",
    "\n",
    "    # Persist the ChromaDB locally, so we can reload the script without expensively re-embedding the database\n",
    "    vector_store.persist()"
   ]
  },
  {
   "cell_type": "code",
   "execution_count": null,
   "metadata": {},
   "outputs": [],
   "source": [
    "# Note: This will take a few minutes to run\n",
    "\n",
    "create_embeddings(\n",
    "    source_dir=LOCAL_FOLDER.rstrip('.tar.gz')\n",
    ")  # creates the vector DB and saves it locally. Be patient, this may take a few minutes.\n",
    "print(f\"Created new vectorstore in dir {PERSIST_DIR}.\")"
   ]
  },
  {
   "cell_type": "markdown",
   "metadata": {},
   "source": [
    "#### **➡️ Your task:** \n",
    "Run the following cells to *load* the text embeddings."
   ]
  },
  {
   "cell_type": "code",
   "execution_count": null,
   "metadata": {
    "id": "fy4mX1JCs3R6"
   },
   "outputs": [],
   "source": [
    "def load_embeddings(persist_directory):\n",
    "    # We use VertexAI embeddings model, however other models can be substituted here\n",
    "    embeddings = VertexAIEmbeddings(model_name='textembedding-gecko@001')\n",
    "\n",
    "    # Creating embeddings with each re-run is highly inefficient and costly.\n",
    "    # We instead aim to embed once, then load these embeddings from storage.\n",
    "    vector_store = Chroma(\n",
    "        embedding_function=embeddings,\n",
    "        persist_directory=persist_directory,\n",
    "    )\n",
    "\n",
    "    return vector_store"
   ]
  },
  {
   "cell_type": "code",
   "execution_count": null,
   "metadata": {
    "id": "z2r7APATs3R6"
   },
   "outputs": [],
   "source": [
    "vector_store = load_embeddings(\n",
    "    PERSIST_DIR\n",
    ")  # loads the vector DB from the local file system.\n",
    "print(f\"Loaded {PERSIST_DIR} as vectorstore.\")"
   ]
  },
  {
   "cell_type": "markdown",
   "metadata": {
    "id": "9mXJKt22xc6N"
   },
   "source": [
    "**🎉 Congratulations! 🎉** You've created text embeddings from your company data and stored them successfully in a local vector database.\n",
    "Now, you'll shift your focus to implementing the actual LLM by creating a chain using LangChain."
   ]
  },
  {
   "cell_type": "markdown",
   "metadata": {
    "id": "QSsi93lgs3R7"
   },
   "source": [
    "## 2.3 Creating the Conversational Q&A Chain\n",
    "\n",
    "In this section, you'll create a chain which will be able to provide an answer given a question from a user.\n",
    "To understand the purpose of chains, you can read about chains in the [LangChain documentation](https://docs.langchain.com/docs/).\n",
    "\n",
    "#### **➡️ Your task:**\n",
    "Fill in the `create_qa_chain` below to use the new vector store you just created as a retriever. *HINT*: Use inspiration from the Section 1 chain.\n"
   ]
  },
  {
   "cell_type": "code",
   "execution_count": null,
   "metadata": {},
   "outputs": [],
   "source": [
    "from langchain.chains import ConversationalRetrievalChain\n",
    "from langchain.llms import VertexAI\n",
    "\n",
    "\n",
    "def create_qa_chain(vector_store, k=4, temperature=0.0):\n",
    "    \"\"\" Create a Q&A conversation chain using the VertexAI LLM.\n",
    "\n",
    "    Arguments:\n",
    "        vector_store (object): The vectorstore containing our knowledge.\n",
    "        condense_question_prompt (PromptTemplate): The prompt template used to prompt engineer our LLM to respond in a certain tone, etc.\n",
    "        k (int): the 'k' value indicates the number of sources to use per query. 'k' as in 'k-nearest-neighbours' to the query in the embedding space.\n",
    "        temperature (float): the degree of randomness introduced into the LLM response.\n",
    "    \"\"\"\n",
    "\n",
    "    # A vector store retriever relates queries to embedded documents\n",
    "    retriever = vector_store.as_retriever(k=k)\n",
    "\n",
    "    # The selected Google model uses embedded documents related to the query\n",
    "    # It parses these documents in order to answer the user question.\n",
    "    # We use the VertexAI LLM, however other models can be substituted here\n",
    "    model = VertexAI(model_name='text-bison@001', temperature=temperature)\n",
    "\n",
    "    # A conversation retrieval chain keeps a history of Q&A / conversation\n",
    "    # This allows for contextual questions such as \"give an example of that (previous response)\".\n",
    "    # The chain is also set to return the source documents used in generating an output\n",
    "    # This allows for explainability behind model output.\n",
    "    chain = ConversationalRetrievalChain.from_llm(\n",
    "        llm=model,\n",
    "        retriever=retriever,\n",
    "        return_source_documents=True\n",
    "    )\n",
    "\n",
    "    return chain"
   ]
  },
  {
   "cell_type": "markdown",
   "metadata": {},
   "source": [
    "## 2.4 Building the user interface\n",
    "\n",
    "As building a UI is outside of the scope for this hackathon, a templated GUI using [Gradio](https://gradio.app/) is provided for your knowledge worker. This is the same UI as in the previous section.\n",
    "\n",
    "#### **➡️ Your task:** Execute the cells below to launch the user interface.\n",
    "\n",
    "**❗ Note:** The following cell will run until manually stopped. Remember to halt it before moving onto the next task."
   ]
  },
  {
   "cell_type": "code",
   "execution_count": null,
   "metadata": {},
   "outputs": [],
   "source": [
    "qa_chain = create_qa_chain(\n",
    "    vector_store=vector_store\n",
    ")\n",
    "\n",
    "demo = view.View(qa_chain=qa_chain)\n",
    "demo.launch_interface()"
   ]
  },
  {
   "cell_type": "markdown",
   "metadata": {
    "id": "qrsqbDyOs3R9"
   },
   "source": [
    "#### **➡️ Your task:**\n",
    " Use the user interface above (which you can also open in a separate tab given the shareable link above) to query your knowledge base.\n",
    "\n",
    "Try out a few questions from this example Q&A (using the Datatonic web archive):\n",
    "\n",
    "> 👩‍💻: What is Datatonic?\n",
    "> \n",
    "> 🦜: Datatonic is a data consultancy enabling companies to make better business decisions with the power of Modern Data Stack and MLOps.\n",
    "> \n",
    "> 👩‍💻: What’s Greentonic?.\n",
    "> \n",
    "> 🦜: Greentonic is Datatonic's sustainability initiative.\n",
    "> \n",
    "> 👩‍💻: How is Datatonic being sustainable?\n",
    "> \n",
    "> 🦜: Datatonic is committed to sustainability and has a number of initiatives in place to reduce its environmental impact. These include:\n",
    ">    * Using renewable energy sources\n",
    ">    * Reducing our carbon footprint\n",
    ">    * Promoting sustainable practices in our supply chain\n",
    ">    * Supporting environmental charities\n",
    ">\n",
    "> We believe that sustainability is essential for the future of our planet and we are committed to doing our part to make a difference.\n",
    "\n",
    "Again, since we used a `ConversationalRetrievalChain`, we can also correct the model when it gives the wrong response and prompt it to fix it’s mistake, or ask for further detail on a previous response."
   ]
  },
  {
   "cell_type": "markdown",
   "metadata": {
    "id": "3Ua3ttLS1_sO"
   },
   "source": [
    "## 2.5: Extending the knowledge base\n",
    "\n",
    "As mentioned, it is possible to extend the knowledge base with additional documents.\n",
    "This is useful for updating a knowledge base with new information without having to re-embed established knowledge from scratch.\n",
    "\n",
    "If you wanted to build a knowledge worker with another document type, for instance [Microsoft Word](https://python.langchain.com/en/latest/modules/indexes/document_loaders/examples/microsoft_word.html) documents, you would update the `load_documents()` function according to the documentation for that document type loader.\n",
    "\n",
    "**❗ Note:** if you're looking to deploy a knowledge worker with several knowledge bases, an [Embedding Router Chain](https://python.langchain.com/docs/modules/chains/foundational/router#embeddingrouterchain), which combines several knowledge workers with discrete knowledge bases into a single chain which selects the best worker for the query.\n",
    "\n",
    "#### **➡️ Your task:**\n",
    "Extend the knowledge worker with new PDFs documents.\n",
    "1. Download some PDFs locally.\n",
    "2. Load the new documents.\n",
    "3. Add new documents to the existing vector store using the `.add_documents(documents=...)` method.\n"
   ]
  },
  {
   "cell_type": "code",
   "execution_count": null,
   "metadata": {},
   "outputs": [],
   "source": [
    "# Downloading documents locally\n",
    "!gsutil -m cp -r \"gs://dt-gen-ai-hackathon-pdf-datasets/alphabet_investor_pdfs_2004_2021\" ."
   ]
  },
  {
   "cell_type": "markdown",
   "metadata": {},
   "source": [
    "Use LangChains's support for `PyPDFLoader` to load a few new PDFs into the same vector store. We suggest using these two:\n",
    "* `alphabet-investor-pdfs/2004_google_annual_report.pdf`\n",
    "* `alphabet-investor-pdfs/2010Q1_earnings_google.pdf`"
   ]
  },
  {
   "cell_type": "code",
   "execution_count": null,
   "metadata": {
    "collapsed": false
   },
   "outputs": [],
   "source": [
    "# ANSWER\n",
    "from langchain.document_loaders import PyPDFLoader\n",
    "\n",
    "def load_pdf_documents(filepath):\n",
    "    loader = PyPDFLoader(filepath)\n",
    "    pages = loader.load_and_split()\n",
    "\n",
    "    # add this document(s) to the vector store\n",
    "    vector_store.add_documents(pages)\n",
    "\n",
    "    # \"save\" the new vector store back to the file system\n",
    "    vector_store.persist()\n",
    "\n",
    "    print(\"Finished adding new documents to the vectorstore.\")"
   ]
  },
  {
   "cell_type": "code",
   "execution_count": null,
   "metadata": {
    "collapsed": false
   },
   "outputs": [],
   "source": [
    "load_pdf_documents(\n",
    "    filepath=\"alphabet_investor_pdfs_2004_2021/2004_google_annual_report.pdf\"\n",
    ")"
   ]
  },
  {
   "cell_type": "markdown",
   "metadata": {
    "id": "Mkpb3xkq4nmu"
   },
   "source": [
    "#### **➡️ Your task:**\n",
    "Rerun the app and try asking questions using knowledge from your newly added documents.\n",
    "\n",
    "**❗ Note:** The following cell will run until manually stopped. Remember to halt it before moving onto the next task.\n",
    "\n",
    "Try asking questions about different topics coming from different sources. With this you will see the value of a custom vector store where you can ingest multiple data types and sources. For example, try asking:\n",
    "* About Datatonic's sustainability initiative\n",
    "* About Alphabet's revenue performance in 2004 and 2010\n",
    "* Then about some of Datatonic's case studies again"
   ]
  },
  {
   "cell_type": "code",
   "execution_count": null,
   "metadata": {
    "id": "IwUgYAAT4j-6"
   },
   "outputs": [],
   "source": [
    "qa_chain = create_qa_chain(\n",
    "    vector_store=vector_store\n",
    ")\n",
    "\n",
    "demo = view.View(qa_chain=qa_chain)\n",
    "demo.launch_interface()"
   ]
  },
  {
   "cell_type": "markdown",
   "metadata": {
    "id": "WOkmXLdT31yE"
   },
   "source": [
    "**🎉 Congratulations! 🎉** You've extended your knowledge to creating text embedding from a variety of sources - whether it's public data from your company's website or unstructured documents!"
   ]
  },
  {
   "cell_type": "markdown",
   "metadata": {
    "id": "bsGLS0Xw2BKg"
   },
   "source": [
    "## 2.6 Generating text over a vector index\n",
    "\n",
    "We can utilise our embedded documents for more than just Q&A.\n",
    "In tasks 1 and 2, we used the embedded documents as context for answering user queries, but in this task we will use it to generate original content using this knowledge base as a source of information and style.\n",
    "\n",
    "The concept of this use case is to generate ideas for new blogs, utilising knowledge and style information contained in the existing company website data.\n",
    "We can use Generative AI for creative ideation, too!\n",
    "Let's demonstrates the possibilities for human-computer interaction (HCI) apps in this task."
   ]
  },
  {
   "cell_type": "code",
   "execution_count": null,
   "metadata": {},
   "outputs": [],
   "source": [
    "# @title Set LLM temperature { run: \"auto\", display-mode: \"form\" }\n",
    "# @markdown Temperature controls the degree of creativity / randomness introduced into the LLM.\n",
    "temperature = 0.7  # @param {type:\"slider\", min:0, max:1, step:0.01}"
   ]
  },
  {
   "cell_type": "code",
   "execution_count": null,
   "metadata": {},
   "outputs": [],
   "source": [
    "SECTION_02_TEMPLATE = \"\"\"\\\n",
    "Using the provided context, write the outline of a company blog post.\n",
    "Include a bullet-point list of the main talking points, and a brief summary of the overall blog.\n",
    "\n",
    "Context: {context}\n",
    "Topic: {topic}\n",
    "\"\"\"\n",
    "\n",
    "SECTION_02_PROMPT = PromptTemplate.from_template(SECTION_02_TEMPLATE)"
   ]
  },
  {
   "cell_type": "code",
   "execution_count": null,
   "metadata": {
    "id": "0PzurMaEs3R-"
   },
   "outputs": [],
   "source": [
    "from langchain.chains import LLMChain\n",
    "\n",
    "model = VertexAI(model_name='text-bison@001', temperature=temperature)\n",
    "\n",
    "chain = LLMChain(llm=model, prompt=SECTION_02_PROMPT)"
   ]
  },
  {
   "cell_type": "code",
   "execution_count": null,
   "metadata": {
    "id": "5kVmZBg-s3R-"
   },
   "outputs": [],
   "source": [
    "def generate_blog_outline(topic: str, k: int):\n",
    "    # search for 'k' nearest documents related to our topic.\n",
    "    docs = vector_store.similarity_search(topic, k=k)\n",
    "\n",
    "    # associate topic with the content of each document to generate inputs\n",
    "    inputs = [{\"context\": doc.page_content, \"topic\": topic} for doc in docs]\n",
    "\n",
    "    # generate blog outline\n",
    "    output = chain.apply(inputs)\n",
    "\n",
    "    return output"
   ]
  },
  {
   "cell_type": "markdown",
   "metadata": {
    "id": "JJc3FB8WLs2-"
   },
   "source": [
    "#### **➡️ Your task:** \n",
    "Create ideas for a new blog post.\n",
    "Try adjusting the title of the post to generate new ideas!"
   ]
  },
  {
   "cell_type": "code",
   "execution_count": null,
   "metadata": {
    "id": "10THi9L2Kvzv"
   },
   "outputs": [],
   "source": [
    "# @title Set blog prompt / title { run: \"auto\", display-mode: \"form\" }\n",
    "# @markdown Be descriptive, as the LLM will collect semantically similar sources as inspiration.\n",
    "BLOG_TITLE = \"How we're making our business more sustainable\"  # @param {type:\"string\"}"
   ]
  },
  {
   "cell_type": "code",
   "execution_count": null,
   "metadata": {
    "id": "ho7Euwhks3R-"
   },
   "outputs": [],
   "source": [
    "from IPython.display import display, Markdown\n",
    "\n",
    "# generate variations of blog posts on the topic provided, based on the 4 most relevant documents\n",
    "output = generate_blog_outline(BLOG_TITLE, k=4)\n",
    "markdown = \"\"\n",
    "\n",
    "for i, blog in enumerate(output):\n",
    "    markdown += f\"# #{i} {BLOG_TITLE}\\n{blog['text']}\\n\\n\"\n",
    "\n",
    "display(Markdown(markdown))"
   ]
  },
  {
   "cell_type": "markdown",
   "metadata": {
    "id": "Rt6qQQwELhm8"
   },
   "source": [
    "#### **➡️ Your task:**\n",
    "Update the `SECTION_02_PROMPT`, `temperature` and `BLOG_TITLE` variables to create new types of content."
   ]
  },
  {
   "cell_type": "markdown",
   "metadata": {
    "id": "wIlaipnMMOMk"
   },
   "source": [
    "**🎉 Congratulations! 🎉** You've completed task 3 and generated ideas for future blog posts!\n",
    "Continue with the next section to explore more possibilities and ideas using LangChain."
   ]
  },
  {
   "cell_type": "markdown",
   "metadata": {
    "id": "xooDGVw_Jwlg"
   },
   "source": [
    "# Bonus Track: Extending the chain\n",
    "\n",
    "So far you've created two types of chains:\n",
    "\n",
    "### LLMChain\n",
    "\n",
    "The `LLMChain` is a simple chain that adds some functionality around language models.\n",
    "It is used widely throughout LangChain, including in other chains and agents.\n",
    "\n",
    "An LLMChain consists of a **PromptTemplate** and a **language model** (either an LLM or chat model).\n",
    "It formats the prompt template using the input key values provided (and also memory key values, if available), passes the formatted string to LLM and returns the LLM output.\n",
    "\n",
    "```python\n",
    "chain = LLMChain(llm=model, prompt=PROMPT)\n",
    "```\n",
    "\n",
    "### ConversationalRetrievalChain\n",
    "\n",
    "The `ConversationalRetrievalQA` chain builds on RetrievalQAChain to provide a chat history component.\n",
    "\n",
    "It first combines the chat history (either explicitly passed in or retrieved from the provided memory) and the question into a standalone question, then looks up relevant documents from the retriever, and finally passes those documents and the question to a question answering chain to return a response.\n",
    "\n",
    "To create one, you will need a retriever.\n",
    "In the below example, we will create one from a vector store, which can be created from embeddings.\n",
    "\n",
    "```python\n",
    "retriever = vector_store.as_retriever(k=k)\n",
    "model = VertexAI(temperature=temperature)\n",
    "chain = ConversationalRetrievalChain.from_llm(\n",
    "    llm=model,\n",
    "    retriever=retriever,\n",
    "    return_source_documents=True,\n",
    "    condense_question_prompt=TASK_01_PROMPT,\n",
    ")\n",
    "```\n",
    "\n",
    "### Explore more chains\n",
    "\n",
    "**➡️ Your task:** Firm up your knowledge about the two chains used in this notebook [here](https://python.langchain.com/docs/modules/chains/foundational/llm_chain) and [here](https://python.langchain.com/docs/modules/chains/popular/chat_vector_db).\n",
    "In which scenarios should you apply either of them?\n",
    "What are their limitations?\n",
    "\n",
    "*The LLMChain is useful when ...*\n",
    "\n",
    "*It's limitations are ...*\n",
    "\n",
    "*The ConversationalRetrievalChain is useful when ...*\n",
    "\n",
    "*It's limitations are ...*\n",
    "\n",
    "**➡️ Your task:** Read about more types of chains in the [official LangChain documentation](https://python.langchain.com/docs/modules/chains/additional/).\n",
    "We recommend the **Sequential chain** and **Self-critique chain with constitutional AI**.\n",
    "How can you extend your conversational knowledge worker which is currently based on the `ConversationalRetrievalChain`?\n",
    "Summarise your idea either using pseudo code or actual code if you've time!\n",
    "Overall we would like to you to consider:\n",
    "\n",
    "**Idea + idea description:**\n",
    "\n",
    "- *The idea is ...*\n",
    "- *What it is ...*\n",
    "\n",
    "**Problem it solves + impact:**\n",
    "\n",
    "- *It would solve the following challenge ...*\n",
    "- *The volume or value of the impact would be ...*\n",
    "\n",
    "**Approach + Next steps:**\n",
    "\n",
    "- *Next steps would be ...*\n",
    "\n",
    "**❗ Note:** Do you have any other ideas (even outside of implementing a knowledge worker)?\n",
    "Feel free to ideate about another use case which is relevant to your industry or company!"
   ]
  },
  {
   "cell_type": "code",
   "execution_count": null,
   "metadata": {
    "id": "Jq_fu6wXKFNf"
   },
   "outputs": [],
   "source": [
    "# Write your ideas/code here"
   ]
  },
  {
   "cell_type": "markdown",
   "metadata": {
    "id": "tXCL6Ri6s3R-"
   },
   "source": [
    "Try asking the same questions you used to query your knowledge worker. Does it answer the question in the same way? Does it give more or less detail? What are the immediate differences between solutions?\n",
    "\n",
    "**🎉 Congratulations! 🎉** You've gotten started with Enterprise Search. \n",
    "\n",
    "# Conclusion\n",
    "\n",
    "## What have we built?\n",
    "\n",
    "In this session, we have built a knowledge worker use-case for accessing your complex information using Generative AI.\n",
    "This concept can be extended into a fully-fledged tool that can unlock the value of your data for customers or internal use.\n",
    "\n",
    "## Going further...\n",
    "\n",
    "This workshop has introduced all the LangChain knowledge required to create a knowledge worker.\n",
    "The next steps for moving this project from development to production are discussed below.\n",
    "\n",
    "## Decoupling LangChain from Gradio\n",
    "\n",
    "It is not necessary to run LangChain within a GradI/O app.\n",
    "Decoupling LangChain into a separate API has several benefits:\n",
    "1. We can deploy scalable servers / Docker containers\n",
    "2. Simplified code - a frontend-backend loose coupling can lead to simpler code, which is ease to update and maintain.\n",
    "3. If a more professional user interface is needed, such as a native React app.\n",
    "Replacing GradI/O is a straightforward process - FastAPI can be called from javascript, etc., allowing you to move beyond Python frontend frameworks.\n",
    "\n",
    "An example of this separation can be found on the GitHub repository, using FastAPI to create a simple LangChain API server and Poetry to manage separate server environments.\n",
    "\n",
    "## Deploying on Google Cloud\n",
    "\n",
    "Once we have decoupled our frontend and backend code, we can deploy the project onto Google Cloud.\n",
    "\n",
    "This reference architecture diagrams mirror the flow diagrams we first introducted in the workshop introduction. Using Google Cloud, we can create production pipelines for creating / updating vector databases, and deploy a knowledge worker API (which can be connected to a web UI, Slack bot, etc.).\n",
    "\n",
    "**Example architecture: Ingestion**\n",
    "![A typical ingestion chain](https://github.com/teamdatatonic/gen-ai-hackathon/blob/7f37d477b18ace5912d34b0574512559d7a457ed/assets/knowledge-worker-gcp-ingestion-pipeline.png?raw=true)\n",
    "\n",
    "By creating a pipeline for data ingestion, we can continue to extend the knowledge base of our knowledge worker as you produce new documents and documentation.\n",
    "\n",
    "**Example architecture: Inference**\n",
    "![A typical ingestion chain](https://github.com/teamdatatonic/gen-ai-hackathon/blob/7f37d477b18ace5912d34b0574512559d7a457ed/assets/knowledge-worker-gcp-inference-pipeline.png?raw=true)\n",
    "\n",
    "By creating a pipeline for inference, we can leverage the power of Google Cloud to provide a highly reliable and scalable API that can power a variety of applications.\n",
    "\n",
    "**🎉 Congratulations! 🎉** You've completed this notebook!\n",
    "Now it's time to embark your Generative AI journey and ideate about use cases which can benefit your company in conjunction or in addition to your first knowledge worker."
   ]
  }
 ],
 "metadata": {
  "colab": {
   "provenance": [],
   "toc_visible": true
  },
  "kernelspec": {
   "display_name": "Python 3 (ipykernel)",
   "language": "python",
   "name": "python3"
  },
  "language_info": {
   "codemirror_mode": {
    "name": "ipython",
    "version": 3
   },
   "file_extension": ".py",
   "mimetype": "text/x-python",
   "name": "python",
   "nbconvert_exporter": "python",
   "pygments_lexer": "ipython3",
   "version": "3.10.11"
  }
 },
 "nbformat": 4,
 "nbformat_minor": 1
}
