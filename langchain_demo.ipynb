{
 "cells": [
  {
   "attachments": {},
   "cell_type": "markdown",
   "metadata": {},
   "source": [
    "# Intro to LangChain (CoLab version)\n",
    "\n",
    "LangChain is a Python framework for developing applications using language models. It abstracts the connection between applications and LLMs, allowing a loose coupling between code and specific providers like OpenAI, Anthropic, etc.\n",
    "\n",
    "This guide details how to get started with LangChain, and walks-through setting up a Q&A over Documentation example. The files for this guide can be found here.\n",
    "\n",
    "## Creating a knowledge worker\n",
    "Instead of training LLMs using your own data (ie. fine-tuning), it is far easier and more effective to adapt the LLM to your use-case by prompt engineering only (ie. tuning).\n",
    "\n",
    "A custom knowledge worker (an LLM app which only has access to specific knowledge, such as technical documentation), is described in two stages: 1. knowledge embedding and 2. LLM Q&A.\n",
    "\n",
    "![A typical ingestion chain](assets/typical-ingestion-chain.png)\n",
    "\n",
    "First, documents (website pages, Word documents, databases, Powerpoints, etc.) are loaded and split into chunks. Fragmenting is important for three reasons - first, there are technical restrictions on how much data (tokens) can be fed into an LLM at once, meaning all context + prompt engineering + chat history + new query must fit within the token limit (e.g.: ~4096 tokens for OpenAI). Second, even if it was possible to provide entire documents as context for a query, most LLM APIs operate on a per-token pricing model, meaning it is cost-effective to limit the size / amount of data provided to the LLM per query. Third, contextually information should be relevant to the user query, meaning it is optimial to provide only relevant snippets from documents, making the answer more relevant whilst saving costs as per (1) and (2).\n",
    "\n",
    "Next, these document shards are embedded within a vector store. Embedding a document means to align it within a mutli-dimension space, which can then be searched according to user queries to find relevant documents. Document relevancy scoring can be as simple as a K-neighbours search, since embedded documents with similarity (as percieved by the LLM embedding model) will be proximate within the search space.\n",
    "\n",
    "![A typical query chain](assets/typical-query-chain.png)\n",
    "\n",
    "Once the vector store is created, a user can query the knowledge base using natural language questions. Relevant documents related to the query are found in the vector store by embedding the user query and finding local documents. These snippets of text are provided to the LLM (alongside the user query, chat history, prompt engineering, etc.) which parses the information to generate an answer.\n",
    "\n",
    "## Prerequisites\n",
    "\n",
    "### Running the program\n",
    "\n",
    "Run this notebook using poetry:\n",
    "```bash\n",
    "poetry shell\n",
    "poetry run jupyter notebook langchain_demo.ipynb\n",
    "```\n",
    "\n",
    "### Install dependencies"
   ]
  },
  {
   "cell_type": "code",
   "execution_count": null,
   "metadata": {},
   "outputs": [],
   "source": [
    "%pip install langchain openai chromadb tiktoken gradio unstructured tqdm getpass"
   ]
  },
  {
   "attachments": {},
   "cell_type": "markdown",
   "metadata": {},
   "source": [
    "### Setup LLM API Token\n",
    "To complete this demo you will need an [OpenAI API Key](https://platform.openai.com/account/api-keys).\n",
    "Run the code block below to set a temporary environment variable containing your API token."
   ]
  },
  {
   "cell_type": "code",
   "execution_count": null,
   "metadata": {},
   "outputs": [
    {
     "ename": "",
     "evalue": "",
     "output_type": "error",
     "traceback": [
      "\u001b[1;31mRunning cells with '/Users/zacharysmith/.pyenv/versions/3.10.10/bin/python' requires the ipykernel package.\n",
      "\u001b[1;31mRun the following command to install 'ipykernel' into the Python environment. \n",
      "\u001b[1;31mCommand: '/Users/zacharysmith/.pyenv/versions/3.10.10/bin/python -m pip install ipykernel -U --force-reinstall'"
     ]
    }
   ],
   "source": [
    "import os\n",
    "from getpass import getpass\n",
    "\n",
    "# Prompt notebook user for their API key\n",
    "OPENAI_API_KEY = getpass(\"OpenAI API Key:\")\n",
    "# Save that key as an environment variable for later use.\n",
    "os.environ[\"OPENAI_API_KEY\"] = OPENAI_API_KEY\n"
   ]
  },
  {
   "attachments": {},
   "cell_type": "markdown",
   "metadata": {},
   "source": [
    "## Task 01: Q&A over Documentation with OpenAI\n",
    "\n",
    "Creating a custom knowledge worker is the “Hello World!” of LLMOps. Loading documents, creating embeddings, storing in a vector database and using an LLM to answer queries with knowledge from that database can be achieved in a few lines of Python."
   ]
  },
  {
   "cell_type": "code",
   "execution_count": null,
   "metadata": {},
   "outputs": [],
   "source": [
    "import gradio as gr\n",
    "from langchain.chains import ConversationalRetrievalChain\n",
    "from langchain.document_loaders import DirectoryLoader\n",
    "from langchain.document_loaders import UnstructuredHTMLLoader\n",
    "from langchain.embeddings import OpenAIEmbeddings\n",
    "from langchain.llms import OpenAI\n",
    "from langchain.text_splitter import RecursiveCharacterTextSplitter\n",
    "from langchain.vectorstores import Chroma\n"
   ]
  },
  {
   "attachments": {},
   "cell_type": "markdown",
   "metadata": {},
   "source": [
    "### Document loading\n",
    "First, we need to select our documentation. LangChain supports [numerous methods](https://python.langchain.com/en/latest/modules/indexes/document_loaders.html) for loading documents. As we will be constructing our knowledge worker using website data, we first download the files locally using `wget`. Note: replace `https://datatonic.com/` with any domain to build a knowledge worker specific to your use-case."
   ]
  },
  {
   "cell_type": "code",
   "execution_count": null,
   "metadata": {},
   "outputs": [],
   "source": [
    "!wget -r -A.html https://datatonic.com/"
   ]
  },
  {
   "attachments": {},
   "cell_type": "markdown",
   "metadata": {},
   "source": [
    "Note how filepaths to the `.html` files form proper URL paths, we'll use this later to reference our answers with proper hyperlinks.\n",
    "\n",
    "The downloaded website can then be loaded as documents using the LangChain [`DirectoryLoader`](https://python.langchain.com/en/latest/modules/indexes/document_loaders/examples/directory_loader.html) and [`UnstructuredHTMLLoader`](https://python.langchain.com/en/latest/modules/indexes/document_loaders/examples/html.html) loaders.\n",
    "\n",
    "We load the entire collection of documents at once using this method, but it is also possible to load and embed documents iteratively, as we will do in task 2."
   ]
  },
  {
   "cell_type": "code",
   "execution_count": null,
   "metadata": {},
   "outputs": [],
   "source": [
    "def load_documents(source_dir):\n",
    "    # Load the documentation using a HTML parser\n",
    "    loader = DirectoryLoader(\n",
    "        source_dir,\n",
    "        glob=\"**/*.html\",\n",
    "        loader_cls=UnstructuredHTMLLoader,\n",
    "        show_progress=True,\n",
    "    )\n",
    "    documents = loader.load()\n",
    "\n",
    "    return documents\n"
   ]
  },
  {
   "attachments": {},
   "cell_type": "markdown",
   "metadata": {},
   "source": [
    "If you wanted to build a knowledge worker with another document type, for instance [Microsoft Word](https://python.langchain.com/en/latest/modules/indexes/document_loaders/examples/microsoft_word.html) documents, you would update the `load_documents()` function according to the documentation for that document type loader.\n",
    "\n",
    "E.g.:\n",
    "```python\n",
    "from langchain.document_loaders import Docx2txtLoader\n",
    "\n",
    "def load_documents():\n",
    "    # Load the documentation using a Microsoft Word parser\n",
    "    loader = Docx2txtLoader(\"example_data/fake.docx\")\n",
    "    documents = loader.load()\n",
    "\n",
    "    return documents\n",
    "```\n",
    "\n",
    "### Creating or loading embeddings\n",
    "Creating embeddings each time we use our app is time-consuming and expensive. By persisting the vector store database after embedding, we can load the saved embeddings for use in another session.\n",
    "\n",
    "Also note the use of the `OpenAIEmbeddings()` model. There are [multiple](https://python.langchain.com/en/latest/modules/models/text_embedding.html?highlight=embedding) text embedding models available, many of which can be directly substituted here. Remember to add additional environment variables for different API keys, as per each model's documentation."
   ]
  },
  {
   "cell_type": "code",
   "execution_count": null,
   "metadata": {},
   "outputs": [],
   "source": [
    "def embed_documents(persist_dir, texts):\n",
    "    # We use OpenAI embeddings model, however other models can be substituted here\n",
    "    embeddings = OpenAIEmbeddings()\n",
    "    # We create a vector store database relating documents to embeddings\n",
    "    # This embedding database is used to relate user queries to relevant documentation\n",
    "    vector_store = Chroma.from_documents(\n",
    "        persist_directory=persist_dir,\n",
    "        documents=texts,\n",
    "        embedding=embeddings,\n",
    "    )\n",
    "\n",
    "    vector_store.persist()\n",
    "\n",
    "    return vector_store\n"
   ]
  },
  {
   "cell_type": "code",
   "execution_count": null,
   "metadata": {},
   "outputs": [],
   "source": [
    "def load_embeddings(persist_dir):\n",
    "    # We use OpenAI embeddings model, however other models can be substituted here\n",
    "    embeddings = OpenAIEmbeddings()\n",
    "\n",
    "    # Creating embeddings with each re-run is highly inefficient and costly.\n",
    "    # We instead aim to embed once, then load these embeddings from storage.\n",
    "    vector_store = Chroma(\n",
    "        embedding_function=embeddings,\n",
    "        persist_directory=persist_dir,\n",
    "    )\n",
    "\n",
    "    return vector_store\n"
   ]
  },
  {
   "attachments": {},
   "cell_type": "markdown",
   "metadata": {},
   "source": [
    "### Creating the Conversational Q&A Chain"
   ]
  },
  {
   "cell_type": "code",
   "execution_count": null,
   "metadata": {},
   "outputs": [],
   "source": [
    "# The 'k' value indicates the number of sources to use per query.\n",
    "# 'k' as in 'k-nearest-neighbours' to the query in the embedding space.\n",
    "# 'temperature' is the degree of randomness introduced into the LLM response.\n",
    "k = 2\n",
    "temperature = 0.0\n"
   ]
  },
  {
   "cell_type": "code",
   "execution_count": null,
   "metadata": {},
   "outputs": [],
   "source": [
    "# If the vectorstore embedding database has been created, load it\n",
    "persist_dir = \"chromadb\"\n",
    "if os.path.isdir(persist_dir):\n",
    "    print(f\"Loading {persist_dir} as vector store\")\n",
    "    vector_store = load_embeddings(persist_dir=persist_dir)\n",
    "# If it exists, create it\n",
    "else:\n",
    "    print(f\"Creating new vector store in dir {persist_dir}\")\n",
    "    documents = load_documents(source_dir=\"datatonic.com\")\n",
    "\n",
    "    # Individual documents will often exceed the 4096 token limit for GPT-3.\n",
    "    # By splitting documents into chunks of 1000 token\n",
    "    # These chunks fit into the token limit alongside the user prompt\n",
    "    text_splitter = RecursiveCharacterTextSplitter(chunk_size=1000, chunk_overlap=0)\n",
    "    texts = text_splitter.split_documents(documents)\n",
    "\n",
    "    vector_store = embed_documents(persist_dir=persist_dir, texts=texts)"
   ]
  },
  {
   "cell_type": "code",
   "execution_count": null,
   "metadata": {},
   "outputs": [],
   "source": [
    "# A vector store retriever relates queries to embedded documents\n",
    "retriever = vector_store.as_retriever(k=k)\n",
    "# The selected OpenAI model uses embedded documents related to the query\n",
    "# It parses these documents in order to answer the user question.\n",
    "# We use the OpenAI LLM, however other models can be substituted here\n",
    "model = OpenAI(temperature=temperature)\n",
    "\n",
    "# A conversation retrieval chain keeps a history of Q&A / conversation\n",
    "# This allows for contextual questions such as \"give an example of that (previous response)\".\n",
    "# The chain is also set to return the source documents used in generating an output\n",
    "# This allows for explainability behind model output.\n",
    "qa_chain = ConversationalRetrievalChain.from_llm(\n",
    "    llm=model,\n",
    "    retriever=retriever,\n",
    "    return_source_documents=True,\n",
    ")"
   ]
  },
  {
   "attachments": {},
   "cell_type": "markdown",
   "metadata": {},
   "source": [
    "### Prompt engineering and Chat History"
   ]
  },
  {
   "cell_type": "code",
   "execution_count": null,
   "metadata": {},
   "outputs": [],
   "source": [
    "def q_a(question: str, history: list):\n",
    "    # map history (list of lists) to expected format of chat_history (list of tuples)\n",
    "    chat_history = map(tuple, history)\n",
    "    # Engineer the prompt to respond in markdown format, to display nicely in the chat log\n",
    "    prompt = f\"Respond to the following sentence using markdown format, wrap all code examples in ``. {question}\"\n",
    "    # Query the LLM to get a response\n",
    "    # First the Q&A chain will collect documents semantically similar to the question\n",
    "    # Then it will ask the LLM to use this data to answer the user question\n",
    "    # We also provide chat history as further context\n",
    "    response = qa_chain(\n",
    "        {\n",
    "            \"question\": prompt,\n",
    "            \"chat_history\": chat_history,\n",
    "        }\n",
    "    )\n",
    "\n",
    "    # Format source documents (sources of excerpts passed to the LLM) into links the user can validate\n",
    "    sources = [\n",
    "        \"[{0}]({0})\".format(doc.metadata[\"source\"])\n",
    "        for doc in response[\"source_documents\"]\n",
    "    ]\n",
    "\n",
    "    # Return the LLM answer, and list of sources used (formatted as a string)\n",
    "    return response[\"answer\"], \"\\n\\n\".join(sources)\n"
   ]
  },
  {
   "attachments": {},
   "cell_type": "markdown",
   "metadata": {},
   "source": [
    "### Building a simple GradI/O UI\n",
    "As building with GradI/O is outside the scope of this workshop, a template GradI/O app has been provided."
   ]
  },
  {
   "cell_type": "code",
   "execution_count": null,
   "metadata": {},
   "outputs": [],
   "source": [
    "# Build a simple GradIO app that accepts user input and queries the LLM\n",
    "# Then displays the response in a ChatBot interface, with markdown support.\n",
    "with gr.Blocks(theme=gr.themes.Base()) as demo:\n",
    "\n",
    "    def submit(msg, chatbot):\n",
    "        # First create a new entry in the conversation log\n",
    "        msg, chatbot = user(msg, chatbot)\n",
    "        # Then get the chatbot response to the user question\n",
    "        chatbot = bot(chatbot)\n",
    "        return msg, chatbot\n",
    "\n",
    "    def user(user_message, history):\n",
    "        # Return \"\" to clear the user input, and add the user question to the conversation history\n",
    "        return \"\", history + [[user_message, None]]\n",
    "\n",
    "    def bot(history):\n",
    "        # Get the user question from conversation history\n",
    "        user_message = history[-1][0]\n",
    "        # Get the response and sources used to answer the user question\n",
    "        bot_message, bot_sources = q_a(user_message, history[:-1])\n",
    "\n",
    "        # Using a template, format the response and sources together\n",
    "        bot_template = (\n",
    "            \"{0}\\n\\n<details><summary><b>Sources</b></summary>\\n\\n{1}</details>\"\n",
    "        )\n",
    "        # Place the response into the conversation history and return\n",
    "        history[-1][1] = bot_template.format(bot_message, bot_sources)\n",
    "        return history\n",
    "\n",
    "    # Set a page title\n",
    "    gr.Markdown(\"# Custom knowledge worker\")\n",
    "    # Create a chatbot conversation log\n",
    "    chatbot = gr.Chatbot(label=\"🤖 knowledge worker\")\n",
    "    # Create a textbox for user questions\n",
    "    msg = gr.Textbox(\n",
    "        label=\"👩‍💻 user input\", info=\"Query information from the custom knowledge base.\"\n",
    "    )\n",
    "\n",
    "    # Align both buttons on the same row\n",
    "    with gr.Row():\n",
    "        send = gr.Button(value=\"Send\", variant=\"primary\").style(size=\"sm\")\n",
    "        clear = gr.Button(value=\"Clear History\", variant=\"secondary\").style(size=\"sm\")\n",
    "\n",
    "    # Submit message on <enter> or clicking \"Send\" button\n",
    "    msg.submit(submit, [msg, chatbot], [msg, chatbot], queue=False)\n",
    "    send.click(submit, [msg, chatbot], [msg, chatbot], queue=False)\n",
    "\n",
    "    # Clear chatbot history on clicking \"Clear History\" button\n",
    "    clear.click(lambda: None, None, chatbot, queue=False)\n",
    "\n",
    "# Create a queue system so multiple users can access the page at once\n",
    "demo.queue()\n",
    "# Launch the webserver locally\n",
    "demo.launch()\n"
   ]
  },
  {
   "attachments": {},
   "cell_type": "markdown",
   "metadata": {},
   "source": [
    "Testing our demo, we can query our knowledge base for answers (code emphasis added). Since we used a `ConversationalRetrievalChain`, we can also correct the model when it gives the wrong response and prompt it to fix it’s mistake, or ask for further detail on a previous response.\n",
    "\n",
    "> 👩‍💻: how to install the gcloud cli\n",
    "> \n",
    "> 🦜:  You can install the gcloud CLI by running the command `$ gcloud components update`.\n",
    "> \n",
    "> 👩‍💻: that command requires gcloud to be installed, how can I install gcloud initially?\n",
    "> \n",
    "> 🦜:  You can install gcloud initially by running the command '`pip install google-cloud`' in your terminal.\n",
    "> \n",
    "> 👩‍💻: how can I set the target project\n",
    "> \n",
    "> 🦜:  You can set the target project for the gcloud CLI by using the command `$ gcloud config set project my-new-default-project`.\n",
    "> \n",
    "> 👩‍💻: what is the gcloud cli?\n",
    "> \n",
    "> 🦜:  The gcloud CLI is a command line interface for Google Cloud Platform services.\n",
    "> \n",
    "> 👩‍💻: explain the above in more detail\n",
    "> \n",
    "> 🦜:  The gcloud CLI is a tool used to authenticate and configure credentials for Google Cloud services. It can be used to change the default project ID, update components, and authenticate the CLI itself.\n",
    ">\n",
    "\n",
    "## Task 02: Extending the knowledge base\n",
    "As mentioned, it is possible to extend a knowledge base with additional documents. This is useful for updating a knowledge base with new information without having to re-embed established knowledge from scratch.\n",
    "\n",
    "In this example, we will add an additional knowledge source to our worker, allowing it to answer queries on multiple domains. \n"
   ]
  },
  {
   "cell_type": "code",
   "execution_count": null,
   "metadata": {},
   "outputs": [],
   "source": [
    "# Load another set of documents\n",
    "documents = load_documents(source_dir=\"datatonic.com\")\n",
    "\n",
    "# Individual documents will often exceed the 4096 token limit for GPT-3.\n",
    "# By splitting documents into chunks of 1000 token\n",
    "# These chunks fit into the token limit alongside the user prompt\n",
    "text_splitter = RecursiveCharacterTextSplitter(chunk_size=1000, chunk_overlap=0)\n",
    "texts = text_splitter.split_documents(documents)\n",
    "\n",
    "# Add new texts to the embedding vector store\n",
    "vector_store.add_texts(texts=texts)"
   ]
  },
  {
   "cell_type": "code",
   "execution_count": null,
   "metadata": {},
   "outputs": [],
   "source": [
    "# Rebuild the Q&A chain\n",
    "\n",
    "# A vector store retriever relates queries to embedded documents\n",
    "retriever = vector_store.as_retriever(k=k)\n",
    "# The selected OpenAI model uses embedded documents related to the query\n",
    "# It parses these documents in order to answer the user question.\n",
    "# We use the OpenAI LLM, however other models can be substituted here\n",
    "model = OpenAI(temperature=temperature)\n",
    "\n",
    "# A conversation retrieval chain keeps a history of Q&A / conversation\n",
    "# This allows for contextual questions such as \"give an example of that (previous response)\".\n",
    "# The chain is also set to return the source documents used in generating an output\n",
    "# This allows for explainability behind model output.\n",
    "qa_chain = ConversationalRetrievalChain.from_llm(\n",
    "    llm=model,\n",
    "    retriever=retriever,\n",
    "    return_source_documents=True,\n",
    ")"
   ]
  },
  {
   "attachments": {},
   "cell_type": "markdown",
   "metadata": {},
   "source": [
    "Note: if you're looking to deploy a knowledge worker with several knowledge bases, a [Router Chain](https://python.langchain.com/en/latest/modules/chains/examples/multi_retrieval_qa_router.html), which combines several knowledge workers with discrete knowledge bases into a single chain which selects the best worker for the query."
   ]
  }
 ],
 "metadata": {
  "kernelspec": {
   "display_name": "Python 3 (ipykernel)",
   "language": "python",
   "name": "python3"
  },
  "language_info": {
   "codemirror_mode": {
    "name": "ipython",
    "version": 3
   },
   "file_extension": ".py",
   "mimetype": "text/x-python",
   "name": "python",
   "nbconvert_exporter": "python",
   "pygments_lexer": "ipython3",
   "version": "3.10.10"
  }
 },
 "nbformat": 4,
 "nbformat_minor": 2
}
