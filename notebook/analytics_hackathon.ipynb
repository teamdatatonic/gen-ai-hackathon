{
 "cells": [
  {
   "cell_type": "code",
   "execution_count": null,
   "metadata": {},
   "outputs": [],
   "source": []
  },
  {
   "attachments": {},
   "cell_type": "markdown",
   "metadata": {},
   "source": [
    "<h1 align=\"center\"> Generative AI Hackathon</h1>\n",
    "<table align=\"center\">\n",
    "    <td>\n",
    "        <a href=\"https://colab.research.google.com/github/teamdatatonic/gen-ai-hackathon/blob/feature%2FDBA-hackathon/analytics_hackathon.ipynb\">\n",
    "            <img src=\"https://cloud.google.com/ml-engine/images/colab-logo-32px.png\" alt=\"Colab logo\">\n",
    "            <span style=\"vertical-align: middle;\">Run in Colab</span>\n",
    "        </a>\n",
    "    </td>\n",
    "    <!-- <td>\n",
    "        <a href=\"https://github.com/teamdatatonic/gen-ai-hackathon/blob/DBA-hackathon/analytics_hackathon.ipynb\">\n",
    "            <img src=\"https://cloud.google.com/ml-engine/images/github-logo-32px.png\" alt=\"GitHub logo\">\n",
    "            <span style=\"vertical-align: middle;\">View on GitHub</span>\n",
    "        </a>\n",
    "    </td> -->\n",
    "    <!-- <td>\n",
    "        <a href=\"https://console.cloud.google.com/vertex-ai/workbench/deploy-notebook?download_url=https://raw.githubusercontent.com/teamdatatonic/gen-ai-hackathon/main/analytics_hackathon.ipynb\">\n",
    "            <img src=\"https://lh3.googleusercontent.com/UiNooY4LUgW_oTvpsNhPpQzsstV5W8F7rYgxgGBD85cWJoLmrOzhVs_ksK_vgx40SHs7jCqkTkCk=e14-rj-sc0xffffff-h130-w32\" alt=\"Vertex AI logo\"> \n",
    "            <span style=\"vertical-align: middle;\">Open in Vertex AI Workbench</span>\n",
    "        </a>\n",
    "    </td> -->\n",
    "</table>\n",
    "<hr>\n",
    "\n",
    "**➡️ Your task:** Learn about Generative AI by building your own Database Analytics using Python and LangChain!\n",
    "\n",
    "**❗ Note:** This workshop has been designed to be run in Google CoLab. Support for running the workshop locally or using VertexAI Workbench is provided, but we heavily recommend CoLab for the best experience.\n",
    "\n",
    "**❗ Note:** If your kernel doesn't restart automatically, click the \"Restart Runtime\" button above your notebook.\n",
    "If you dont see a restart button, go to the \"Runtime\" toolbar tab then \"Restart Runtime\". After restarting, continue executing the project from below this cell.\n"
   ]
  },
  {
   "attachments": {},
   "cell_type": "markdown",
   "metadata": {},
   "source": [
    "## Pip install package dependencies"
   ]
  },
  {
   "cell_type": "code",
   "execution_count": 14,
   "metadata": {},
   "outputs": [
    {
     "name": "stdout",
     "output_type": "stream",
     "text": [
      "\u001b[34mInstalling dependencies from lock file\u001b[39m\n",
      "\n",
      "No dependencies to install or update\n",
      "Ignoring colorama: markers 'python_version >= \"3.9\" and python_version < \"3.12\" and sys_platform == \"win32\"' don't match your environment\n",
      "Ignoring greenlet: markers 'python_version >= \"3.9\" and (platform_machine == \"win32\" or platform_machine == \"WIN32\" or platform_machine == \"AMD64\" or platform_machine == \"amd64\" or platform_machine == \"x86_64\" or platform_machine == \"ppc64le\" or platform_machine == \"aarch64\") and python_version < \"3.12\"' don't match your environment\n",
      "Requirement already satisfied: aiohttp==3.8.5 in /Users/roberta/.pyenv/versions/3.10.9/lib/python3.10/site-packages (from -r requirements.txt (line 1)) (3.8.5)\n",
      "Requirement already satisfied: aiosignal==1.3.1 in /Users/roberta/.pyenv/versions/3.10.9/lib/python3.10/site-packages (from -r requirements.txt (line 89)) (1.3.1)\n",
      "Requirement already satisfied: annotated-types==0.5.0 in /Users/roberta/.pyenv/versions/3.10.9/lib/python3.10/site-packages (from -r requirements.txt (line 92)) (0.5.0)\n",
      "Requirement already satisfied: appnope==0.1.3 in /Users/roberta/.pyenv/versions/3.10.9/lib/python3.10/site-packages (from -r requirements.txt (line 95)) (0.1.3)\n",
      "Requirement already satisfied: asttokens==2.4.0 in /Users/roberta/.pyenv/versions/3.10.9/lib/python3.10/site-packages (from -r requirements.txt (line 98)) (2.4.0)\n",
      "Requirement already satisfied: async-timeout==4.0.3 in /Users/roberta/.pyenv/versions/3.10.9/lib/python3.10/site-packages (from -r requirements.txt (line 101)) (4.0.3)\n",
      "Requirement already satisfied: attrs==23.1.0 in /Users/roberta/.pyenv/versions/3.10.9/lib/python3.10/site-packages (from -r requirements.txt (line 104)) (23.1.0)\n",
      "Requirement already satisfied: backcall==0.2.0 in /Users/roberta/.pyenv/versions/3.10.9/lib/python3.10/site-packages (from -r requirements.txt (line 107)) (0.2.0)\n",
      "Requirement already satisfied: cachetools==5.3.1 in /Users/roberta/.pyenv/versions/3.10.9/lib/python3.10/site-packages (from -r requirements.txt (line 110)) (5.3.1)\n",
      "Requirement already satisfied: certifi==2023.7.22 in /Users/roberta/.pyenv/versions/3.10.9/lib/python3.10/site-packages (from -r requirements.txt (line 113)) (2023.7.22)\n",
      "Requirement already satisfied: charset-normalizer==3.2.0 in /Users/roberta/.pyenv/versions/3.10.9/lib/python3.10/site-packages (from -r requirements.txt (line 116)) (3.2.0)\n",
      "Requirement already satisfied: dataclasses-json==0.5.14 in /Users/roberta/.pyenv/versions/3.10.9/lib/python3.10/site-packages (from -r requirements.txt (line 195)) (0.5.14)\n",
      "Requirement already satisfied: decorator==5.1.1 in /Users/roberta/.pyenv/versions/3.10.9/lib/python3.10/site-packages (from -r requirements.txt (line 198)) (5.1.1)\n",
      "Requirement already satisfied: exceptiongroup==1.1.3 in /Users/roberta/.pyenv/versions/3.10.9/lib/python3.10/site-packages (from -r requirements.txt (line 201)) (1.1.3)\n",
      "Requirement already satisfied: executing==1.2.0 in /Users/roberta/.pyenv/versions/3.10.9/lib/python3.10/site-packages (from -r requirements.txt (line 204)) (1.2.0)\n",
      "Requirement already satisfied: frozenlist==1.4.0 in /Users/roberta/.pyenv/versions/3.10.9/lib/python3.10/site-packages (from -r requirements.txt (line 207)) (1.4.0)\n",
      "Requirement already satisfied: google-api-core==2.11.1 in /Users/roberta/.pyenv/versions/3.10.9/lib/python3.10/site-packages (from -r requirements.txt (line 269)) (2.11.1)\n",
      "Requirement already satisfied: google-auth==2.23.0 in /Users/roberta/.pyenv/versions/3.10.9/lib/python3.10/site-packages (from -r requirements.txt (line 275)) (2.23.0)\n",
      "Requirement already satisfied: google-cloud-aiplatform==1.32.0 in /Users/roberta/.pyenv/versions/3.10.9/lib/python3.10/site-packages (from -r requirements.txt (line 278)) (1.32.0)\n",
      "Requirement already satisfied: google-cloud-bigquery-storage==2.22.0 in /Users/roberta/.pyenv/versions/3.10.9/lib/python3.10/site-packages (from -r requirements.txt (line 281)) (2.22.0)\n",
      "Requirement already satisfied: google-cloud-bigquery==3.11.4 in /Users/roberta/.pyenv/versions/3.10.9/lib/python3.10/site-packages (from -r requirements.txt (line 284)) (3.11.4)\n",
      "Requirement already satisfied: google-cloud-core==2.3.3 in /Users/roberta/.pyenv/versions/3.10.9/lib/python3.10/site-packages (from -r requirements.txt (line 287)) (2.3.3)\n",
      "Requirement already satisfied: google-cloud-resource-manager==1.10.3 in /Users/roberta/.pyenv/versions/3.10.9/lib/python3.10/site-packages (from -r requirements.txt (line 290)) (1.10.3)\n",
      "Requirement already satisfied: google-cloud-storage==2.10.0 in /Users/roberta/.pyenv/versions/3.10.9/lib/python3.10/site-packages (from -r requirements.txt (line 293)) (2.10.0)\n",
      "Requirement already satisfied: google-crc32c==1.5.0 in /Users/roberta/.pyenv/versions/3.10.9/lib/python3.10/site-packages (from -r requirements.txt (line 296)) (1.5.0)\n",
      "Requirement already satisfied: google-resumable-media==2.6.0 in /Users/roberta/.pyenv/versions/3.10.9/lib/python3.10/site-packages (from -r requirements.txt (line 365)) (2.6.0)\n",
      "Requirement already satisfied: googleapis-common-protos==1.60.0 in /Users/roberta/.pyenv/versions/3.10.9/lib/python3.10/site-packages (from -r requirements.txt (line 368)) (1.60.0)\n",
      "Requirement already satisfied: grpc-google-iam-v1==0.12.6 in /Users/roberta/.pyenv/versions/3.10.9/lib/python3.10/site-packages (from -r requirements.txt (line 439)) (0.12.6)\n",
      "Requirement already satisfied: grpcio-status==1.58.0 in /Users/roberta/.pyenv/versions/3.10.9/lib/python3.10/site-packages (from -r requirements.txt (line 442)) (1.58.0)\n",
      "Requirement already satisfied: grpcio==1.58.0 in /Users/roberta/.pyenv/versions/3.10.9/lib/python3.10/site-packages (from -r requirements.txt (line 445)) (1.58.0)\n",
      "Requirement already satisfied: idna==3.4 in /Users/roberta/.pyenv/versions/3.10.9/lib/python3.10/site-packages (from -r requirements.txt (line 491)) (3.4)\n",
      "Requirement already satisfied: ipython==8.15.0 in /Users/roberta/.pyenv/versions/3.10.9/lib/python3.10/site-packages (from -r requirements.txt (line 494)) (8.15.0)\n",
      "Requirement already satisfied: jedi==0.19.0 in /Users/roberta/.pyenv/versions/3.10.9/lib/python3.10/site-packages (from -r requirements.txt (line 497)) (0.19.0)\n",
      "Requirement already satisfied: langchain-experimental==0.0.17 in /Users/roberta/.pyenv/versions/3.10.9/lib/python3.10/site-packages (from -r requirements.txt (line 500)) (0.0.17)\n",
      "Requirement already satisfied: langchain==0.0.288 in /Users/roberta/.pyenv/versions/3.10.9/lib/python3.10/site-packages (from -r requirements.txt (line 503)) (0.0.288)\n",
      "Requirement already satisfied: langsmith==0.0.37 in /Users/roberta/.pyenv/versions/3.10.9/lib/python3.10/site-packages (from -r requirements.txt (line 506)) (0.0.37)\n",
      "Requirement already satisfied: marshmallow==3.20.1 in /Users/roberta/.pyenv/versions/3.10.9/lib/python3.10/site-packages (from -r requirements.txt (line 509)) (3.20.1)\n",
      "Requirement already satisfied: matplotlib-inline==0.1.6 in /Users/roberta/.pyenv/versions/3.10.9/lib/python3.10/site-packages (from -r requirements.txt (line 512)) (0.1.6)\n",
      "Requirement already satisfied: multidict==6.0.4 in /Users/roberta/.pyenv/versions/3.10.9/lib/python3.10/site-packages (from -r requirements.txt (line 515)) (6.0.4)\n",
      "Requirement already satisfied: mypy-extensions==1.0.0 in /Users/roberta/.pyenv/versions/3.10.9/lib/python3.10/site-packages (from -r requirements.txt (line 590)) (1.0.0)\n",
      "Requirement already satisfied: numexpr==2.8.6 in /Users/roberta/.pyenv/versions/3.10.9/lib/python3.10/site-packages (from -r requirements.txt (line 593)) (2.8.6)\n",
      "Requirement already satisfied: numpy==1.25.2 in /Users/roberta/.pyenv/versions/3.10.9/lib/python3.10/site-packages (from -r requirements.txt (line 624)) (1.25.2)\n",
      "Requirement already satisfied: packaging==23.1 in /Users/roberta/.pyenv/versions/3.10.9/lib/python3.10/site-packages (from -r requirements.txt (line 650)) (23.1)\n",
      "Requirement already satisfied: parso==0.8.3 in /Users/roberta/.pyenv/versions/3.10.9/lib/python3.10/site-packages (from -r requirements.txt (line 653)) (0.8.3)\n",
      "Requirement already satisfied: pexpect==4.8.0 in /Users/roberta/.pyenv/versions/3.10.9/lib/python3.10/site-packages (from -r requirements.txt (line 656)) (4.8.0)\n",
      "Requirement already satisfied: pickleshare==0.7.5 in /Users/roberta/.pyenv/versions/3.10.9/lib/python3.10/site-packages (from -r requirements.txt (line 659)) (0.7.5)\n",
      "Requirement already satisfied: prompt-toolkit==3.0.39 in /Users/roberta/.pyenv/versions/3.10.9/lib/python3.10/site-packages (from -r requirements.txt (line 662)) (3.0.39)\n",
      "Requirement already satisfied: proto-plus==1.22.3 in /Users/roberta/.pyenv/versions/3.10.9/lib/python3.10/site-packages (from -r requirements.txt (line 665)) (1.22.3)\n",
      "Requirement already satisfied: protobuf==4.24.3 in /Users/roberta/.pyenv/versions/3.10.9/lib/python3.10/site-packages (from -r requirements.txt (line 668)) (4.24.3)\n",
      "Requirement already satisfied: ptyprocess==0.7.0 in /Users/roberta/.pyenv/versions/3.10.9/lib/python3.10/site-packages (from -r requirements.txt (line 682)) (0.7.0)\n",
      "Requirement already satisfied: pure-eval==0.2.2 in /Users/roberta/.pyenv/versions/3.10.9/lib/python3.10/site-packages (from -r requirements.txt (line 685)) (0.2.2)\n",
      "Requirement already satisfied: pyarrow==13.0.0 in /Users/roberta/.pyenv/versions/3.10.9/lib/python3.10/site-packages (from -r requirements.txt (line 688)) (13.0.0)\n",
      "Requirement already satisfied: pyasn1-modules==0.3.0 in /Users/roberta/.pyenv/versions/3.10.9/lib/python3.10/site-packages (from -r requirements.txt (line 718)) (0.3.0)\n",
      "Requirement already satisfied: pyasn1==0.5.0 in /Users/roberta/.pyenv/versions/3.10.9/lib/python3.10/site-packages (from -r requirements.txt (line 721)) (0.5.0)\n",
      "Requirement already satisfied: pydantic-core==2.6.3 in /Users/roberta/.pyenv/versions/3.10.9/lib/python3.10/site-packages (from -r requirements.txt (line 724)) (2.6.3)\n",
      "Requirement already satisfied: pydantic==2.3.0 in /Users/roberta/.pyenv/versions/3.10.9/lib/python3.10/site-packages (from -r requirements.txt (line 831)) (2.3.0)\n",
      "Requirement already satisfied: pygments==2.16.1 in /Users/roberta/.pyenv/versions/3.10.9/lib/python3.10/site-packages (from -r requirements.txt (line 834)) (2.16.1)\n",
      "Requirement already satisfied: python-dateutil==2.8.2 in /Users/roberta/.pyenv/versions/3.10.9/lib/python3.10/site-packages (from -r requirements.txt (line 837)) (2.8.2)\n",
      "Requirement already satisfied: pyyaml==6.0.1 in /Users/roberta/.pyenv/versions/3.10.9/lib/python3.10/site-packages (from -r requirements.txt (line 840)) (6.0.1)\n",
      "Requirement already satisfied: requests==2.31.0 in /Users/roberta/.pyenv/versions/3.10.9/lib/python3.10/site-packages (from -r requirements.txt (line 881)) (2.31.0)\n",
      "Requirement already satisfied: rsa==4.9 in /Users/roberta/.pyenv/versions/3.10.9/lib/python3.10/site-packages (from -r requirements.txt (line 884)) (4.9)\n",
      "Requirement already satisfied: shapely==1.8.5.post1 in /Users/roberta/.pyenv/versions/3.10.9/lib/python3.10/site-packages (from -r requirements.txt (line 887)) (1.8.5.post1)\n",
      "Requirement already satisfied: six==1.16.0 in /Users/roberta/.pyenv/versions/3.10.9/lib/python3.10/site-packages (from -r requirements.txt (line 930)) (1.16.0)\n",
      "Requirement already satisfied: sqlalchemy-bigquery==1.8.0 in /Users/roberta/.pyenv/versions/3.10.9/lib/python3.10/site-packages (from -r requirements.txt (line 933)) (1.8.0)\n",
      "Requirement already satisfied: sqlalchemy==1.4.49 in /Users/roberta/.pyenv/versions/3.10.9/lib/python3.10/site-packages (from -r requirements.txt (line 936)) (1.4.49)\n",
      "Requirement already satisfied: stack-data==0.6.2 in /Users/roberta/.pyenv/versions/3.10.9/lib/python3.10/site-packages (from -r requirements.txt (line 975)) (0.6.2)\n",
      "Requirement already satisfied: tenacity==8.2.3 in /Users/roberta/.pyenv/versions/3.10.9/lib/python3.10/site-packages (from -r requirements.txt (line 978)) (8.2.3)\n",
      "Requirement already satisfied: traitlets==5.9.0 in /Users/roberta/.pyenv/versions/3.10.9/lib/python3.10/site-packages (from -r requirements.txt (line 981)) (5.9.0)\n",
      "Requirement already satisfied: typing-extensions==4.7.1 in /Users/roberta/.pyenv/versions/3.10.9/lib/python3.10/site-packages (from -r requirements.txt (line 984)) (4.7.1)\n",
      "Requirement already satisfied: typing-inspect==0.9.0 in /Users/roberta/.pyenv/versions/3.10.9/lib/python3.10/site-packages (from -r requirements.txt (line 987)) (0.9.0)\n",
      "Requirement already satisfied: urllib3==1.26.16 in /Users/roberta/.pyenv/versions/3.10.9/lib/python3.10/site-packages (from -r requirements.txt (line 990)) (1.26.16)\n",
      "Requirement already satisfied: wcwidth==0.2.6 in /Users/roberta/.pyenv/versions/3.10.9/lib/python3.10/site-packages (from -r requirements.txt (line 993)) (0.2.6)\n",
      "Requirement already satisfied: yarl==1.9.2 in /Users/roberta/.pyenv/versions/3.10.9/lib/python3.10/site-packages (from -r requirements.txt (line 996)) (1.9.2)\n",
      "\n",
      "\u001b[1m[\u001b[0m\u001b[34;49mnotice\u001b[0m\u001b[1;39;49m]\u001b[0m\u001b[39;49m A new release of pip available: \u001b[0m\u001b[31;49m22.3.1\u001b[0m\u001b[39;49m -> \u001b[0m\u001b[32;49m23.2.1\u001b[0m\n",
      "\u001b[1m[\u001b[0m\u001b[34;49mnotice\u001b[0m\u001b[1;39;49m]\u001b[0m\u001b[39;49m To update, run: \u001b[0m\u001b[32;49mpip install --upgrade pip\u001b[0m\n",
      "Note: you may need to restart the kernel to use updated packages.\n"
     ]
    }
   ],
   "source": [
    "!poetry install \n",
    "!poetry export --format requirements.txt --output requirements.txt\n",
    "%pip install -r requirements.txt"
   ]
  },
  {
   "attachments": {},
   "cell_type": "markdown",
   "metadata": {},
   "source": [
    "**❗ Note:** This notebook will keep running until it is shut down manually."
   ]
  },
  {
   "cell_type": "code",
   "execution_count": 15,
   "metadata": {},
   "outputs": [
    {
     "name": "stdout",
     "output_type": "stream",
     "text": [
      "\u001b[32m[I 2023-09-14 11:41:18.923 ServerApp]\u001b[m Package notebook took 0.0000s to import\n",
      "\u001b[32m[I 2023-09-14 11:41:18.930 ServerApp]\u001b[m Package jupyter_lsp took 0.0074s to import\n",
      "\u001b[33m[W 2023-09-14 11:41:18.930 ServerApp]\u001b[m A `_jupyter_server_extension_points` function was not found in jupyter_lsp. Instead, a `_jupyter_server_extension_paths` function was found and will be used for now. This function name will be deprecated in future releases of Jupyter Server.\n",
      "\u001b[32m[I 2023-09-14 11:41:18.933 ServerApp]\u001b[m Package jupyter_server_terminals took 0.0032s to import\n",
      "\u001b[32m[I 2023-09-14 11:41:18.934 ServerApp]\u001b[m Package jupyterlab took 0.0000s to import\n",
      "\u001b[32m[I 2023-09-14 11:41:18.950 ServerApp]\u001b[m Package notebook_shim took 0.0000s to import\n",
      "\u001b[33m[W 2023-09-14 11:41:18.950 ServerApp]\u001b[m A `_jupyter_server_extension_points` function was not found in notebook_shim. Instead, a `_jupyter_server_extension_paths` function was found and will be used for now. This function name will be deprecated in future releases of Jupyter Server.\n",
      "\u001b[32m[I 2023-09-14 11:41:18.951 ServerApp]\u001b[m jupyter_lsp | extension was successfully linked.\n",
      "\u001b[32m[I 2023-09-14 11:41:18.952 ServerApp]\u001b[m jupyter_server_terminals | extension was successfully linked.\n",
      "\u001b[32m[I 2023-09-14 11:41:18.953 ServerApp]\u001b[m jupyterlab | extension was successfully linked.\n",
      "\u001b[32m[I 2023-09-14 11:41:18.955 ServerApp]\u001b[m notebook | extension was successfully linked.\n",
      "\u001b[32m[I 2023-09-14 11:41:19.083 ServerApp]\u001b[m notebook_shim | extension was successfully linked.\n",
      "\u001b[32m[I 2023-09-14 11:41:19.139 ServerApp]\u001b[m notebook_shim | extension was successfully loaded.\n",
      "\u001b[32m[I 2023-09-14 11:41:19.140 ServerApp]\u001b[m jupyter_lsp | extension was successfully loaded.\n",
      "\u001b[32m[I 2023-09-14 11:41:19.141 ServerApp]\u001b[m jupyter_server_terminals | extension was successfully loaded.\n",
      "\u001b[32m[I 2023-09-14 11:41:19.142 LabApp]\u001b[m JupyterLab extension loaded from /Users/roberta/code/gen-ai-hackathon/notebook/.venv/lib/python3.11/site-packages/jupyterlab\n",
      "\u001b[32m[I 2023-09-14 11:41:19.142 LabApp]\u001b[m JupyterLab application directory is /Users/roberta/code/gen-ai-hackathon/notebook/.venv/share/jupyter/lab\n",
      "\u001b[32m[I 2023-09-14 11:41:19.142 LabApp]\u001b[m Extension Manager is 'pypi'.\n",
      "\u001b[32m[I 2023-09-14 11:41:19.143 ServerApp]\u001b[m jupyterlab | extension was successfully loaded.\n",
      "\u001b[32m[I 2023-09-14 11:41:19.144 ServerApp]\u001b[m notebook | extension was successfully loaded.\n",
      "\u001b[32m[I 2023-09-14 11:41:19.144 ServerApp]\u001b[m The port 8888 is already in use, trying another port.\n",
      "\u001b[32m[I 2023-09-14 11:41:19.145 ServerApp]\u001b[m Serving notebooks from local directory: /Users/roberta/code/gen-ai-hackathon/notebook\n",
      "\u001b[32m[I 2023-09-14 11:41:19.145 ServerApp]\u001b[m Jupyter Server 2.7.3 is running at:\n",
      "\u001b[32m[I 2023-09-14 11:41:19.145 ServerApp]\u001b[m http://localhost:8889/tree?token=30f0873aab701a416cc3cc4be5926caa89940d3778fcef47\n",
      "\u001b[32m[I 2023-09-14 11:41:19.145 ServerApp]\u001b[m     http://127.0.0.1:8889/tree?token=30f0873aab701a416cc3cc4be5926caa89940d3778fcef47\n",
      "\u001b[32m[I 2023-09-14 11:41:19.145 ServerApp]\u001b[m Use Control-C to stop this server and shut down all kernels (twice to skip confirmation).\n",
      "\u001b[35m[C 2023-09-14 11:41:19.148 ServerApp]\u001b[m \n",
      "    \n",
      "    To access the server, open this file in a browser:\n",
      "        file:///Users/roberta/Library/Jupyter/runtime/jpserver-19645-open.html\n",
      "    Or copy and paste one of these URLs:\n",
      "        http://localhost:8889/tree?token=30f0873aab701a416cc3cc4be5926caa89940d3778fcef47\n",
      "        http://127.0.0.1:8889/tree?token=30f0873aab701a416cc3cc4be5926caa89940d3778fcef47\n",
      "\u001b[32m[I 2023-09-14 11:41:19.156 ServerApp]\u001b[m Skipped non-installed server(s): bash-language-server, dockerfile-language-server-nodejs, javascript-typescript-langserver, jedi-language-server, julia-language-server, pyright, python-language-server, python-lsp-server, r-languageserver, sql-language-server, texlab, typescript-language-server, unified-language-server, vscode-css-languageserver-bin, vscode-html-languageserver-bin, vscode-json-languageserver-bin, yaml-language-server\n",
      "0.00s - Debugger warning: It seems that frozen modules are being used, which may\n",
      "0.00s - make the debugger miss breakpoints. Please pass -Xfrozen_modules=off\n",
      "0.00s - to python to disable frozen modules.\n",
      "0.00s - Note: Debugging will proceed. Set PYDEVD_DISABLE_FILE_VALIDATION=1 to disable this validation.\n",
      "\u001b[33m[W 2023-09-14 11:41:30.550 ServerApp]\u001b[m Notebook analytics_hackathon.ipynb is not trusted\n",
      "\u001b[33m[W 2023-09-14 11:41:31.915 ServerApp]\u001b[m Notebook analytics_hackathon.ipynb is not trusted\n",
      "\u001b[32m[I 2023-09-14 11:41:32.335 ServerApp]\u001b[m Kernel started: 62a2dbaf-bf76-4ae2-96b7-51351aeafa51\n",
      "0.00s - Debugger warning: It seems that frozen modules are being used, which may\n",
      "0.00s - make the debugger miss breakpoints. Please pass -Xfrozen_modules=off\n",
      "0.00s - to python to disable frozen modules.\n",
      "0.00s - Note: Debugging will proceed. Set PYDEVD_DISABLE_FILE_VALIDATION=1 to disable this validation.\n",
      "\u001b[32m[I 2023-09-14 11:41:32.674 ServerApp]\u001b[m Connecting to kernel 62a2dbaf-bf76-4ae2-96b7-51351aeafa51.\n",
      "\u001b[32m[I 2023-09-14 11:43:31.957 ServerApp]\u001b[m Saving file at /analytics_hackathon.ipynb\n",
      "\u001b[32m[I 2023-09-14 11:45:31.984 ServerApp]\u001b[m Saving file at /analytics_hackathon.ipynb\n",
      "^C\n",
      "\u001b[32m[I 2023-09-14 11:46:40.078 ServerApp]\u001b[m interrupted\n",
      "\u001b[32m[I 2023-09-14 11:46:40.078 ServerApp]\u001b[m Serving notebooks from local directory: /Users/roberta/code/gen-ai-hackathon/notebook\n",
      "    1 active kernel\n",
      "    Jupyter Server 2.7.3 is running at:\n",
      "    http://localhost:8889/tree?token=30f0873aab701a416cc3cc4be5926caa89940d3778fcef47\n",
      "        http://127.0.0.1:8889/tree?token=30f0873aab701a416cc3cc4be5926caa89940d3778fcef47\n",
      "Shutdown this Jupyter server (y/[n])? \u001b[32m[I 2023-09-14 11:46:40.078 ServerApp]\u001b[m resuming operation...\n"
     ]
    }
   ],
   "source": [
    "!poetry run jupyter notebook"
   ]
  },
  {
   "attachments": {},
   "cell_type": "markdown",
   "metadata": {},
   "source": [
    "## Accessing the Vertex AI Endpoint\n",
    "\n",
    "Currently, Vertex AI LLMs are accessible via Google Cloud projects. \n",
    "\n",
    "1. Set the env variables `project_id` and `dataset_id` with the filepath (**❗ Note:** the `/content/` folder is where uploaded files are stored by default)."
   ]
  },
  {
   "cell_type": "code",
   "execution_count": null,
   "metadata": {},
   "outputs": [],
   "source": [
    "# Replace 'your-project-id' with your Google Cloud project ID\n",
    "project_id = 'dt-gen-ai-hackathon-dev'\n",
    "dataset_id = 'database_analytics_demo_v2'"
   ]
  },
  {
   "cell_type": "code",
   "execution_count": null,
   "metadata": {},
   "outputs": [],
   "source": [
    "import os\n",
    "\n",
    "# @title Set project credentials. { run: \"auto\", display-mode: \"form\" }\n",
    "# @markdown Set the filepath to the `.json` credentials file.\n",
    "GOOGLE_APPLICATION_CREDENTIALS = \"credentials.json\"  # @param {type:\"string\"}\n",
    "os.environ[\"GOOGLE_APPLICATION_CREDENTIALS\"] = GOOGLE_APPLICATION_CREDENTIALS"
   ]
  },
  {
   "cell_type": "code",
   "execution_count": null,
   "metadata": {},
   "outputs": [
    {
     "name": "stdout",
     "output_type": "stream",
     "text": [
      "Updated property [core/account].\n"
     ]
    }
   ],
   "source": [
    "!gcloud config set account dt-gen-ai-hackathon-sa@dt-gen-ai-hackathon-dev.iam.gserviceaccount.com"
   ]
  },
  {
   "cell_type": "code",
   "execution_count": null,
   "metadata": {},
   "outputs": [
    {
     "name": "stdout",
     "output_type": "stream",
     "text": [
      "Activated service account credentials for: [dt-gen-ai-hackathon-sa@dt-gen-ai-hackathon-dev.iam.gserviceaccount.com]\n"
     ]
    }
   ],
   "source": [
    "!gcloud auth activate-service-account --key-file={GOOGLE_APPLICATION_CREDENTIALS}"
   ]
  },
  {
   "cell_type": "code",
   "execution_count": null,
   "metadata": {},
   "outputs": [
    {
     "name": "stdout",
     "output_type": "stream",
     "text": [
      "Updated property [core/project].\n"
     ]
    }
   ],
   "source": [
    "!gcloud config set project {project_id}"
   ]
  },
  {
   "attachments": {},
   "cell_type": "markdown",
   "metadata": {},
   "source": [
    "## Setting up the BigQuery client"
   ]
  },
  {
   "cell_type": "code",
   "execution_count": null,
   "metadata": {},
   "outputs": [],
   "source": [
    "from google.cloud import bigquery, aiplatform\n",
    "\n",
    "# Initialize the BigQuery client\n",
    "client = bigquery.Client(project=project_id)\n",
    "\n",
    "# Initialise AI Platform\n",
    "aiplatform.init(project=project_id)"
   ]
  },
  {
   "attachments": {},
   "cell_type": "markdown",
   "metadata": {},
   "source": [
    "## Create SQL chain"
   ]
  },
  {
   "cell_type": "code",
   "execution_count": null,
   "metadata": {},
   "outputs": [
    {
     "name": "stdout",
     "output_type": "stream",
     "text": [
      "cloudpickle is not installed. Please call `pip install google-cloud-aiplatform[preview]`.\n",
      "\n",
      "\n",
      "\u001b[1m> Entering new SQLDatabaseChain chain...\u001b[0m\n",
      "How many customers are there?\n",
      "SQLQuery:\u001b[32;1m\u001b[1;3mSELECT COUNT(*) FROM customers\u001b[0m\n",
      "SQLResult: \u001b[33;1m\u001b[1;3m[(1000,)]\u001b[0m\n",
      "Answer:\u001b[32;1m\u001b[1;3mThere are 1000 customers.\u001b[0m\n",
      "\u001b[1m> Finished chain.\u001b[0m\n"
     ]
    },
    {
     "data": {
      "text/plain": [
       "{'query': 'How many customers are there?',\n",
       " 'result': 'There are 1000 customers.'}"
      ]
     },
     "execution_count": 8,
     "metadata": {},
     "output_type": "execute_result"
    }
   ],
   "source": [
    "from langchain_experimental.sql import SQLDatabaseChain\n",
    "from langchain.sql_database import SQLDatabase\n",
    "from langchain.llms import VertexAI\n",
    "from sqlalchemy.engine import create_engine\n",
    "\n",
    "\n",
    "\n",
    "engine = create_engine(f\"bigquery://{project_id}/{dataset_id}\")\n",
    "\n",
    "llm = VertexAI(model_name='text-bison@001',\n",
    "               temperature=0, max_output_tokens=1024)\n",
    "\n",
    "db = SQLDatabase(engine=engine)\n",
    "\n",
    "\n",
    "db_chain = SQLDatabaseChain.from_llm(\n",
    "        llm,\n",
    "        db,\n",
    "        verbose=True\n",
    "    )\n",
    "\n",
    "# Some test questions\n",
    "# db_chain(\"How many employees are there?\")\n",
    "# db_chain(\"total_revenue\")\n",
    "db_chain(\"How many customers are there?\")\n"
   ]
  },
  {
   "cell_type": "markdown",
   "metadata": {},
   "source": []
  }
 ],
 "metadata": {
  "colab": {
   "provenance": [],
   "toc_visible": true
  },
  "kernelspec": {
   "display_name": "Python 3 (ipykernel)",
   "language": "python",
   "name": "python3"
  },
  "language_info": {
   "codemirror_mode": {
    "name": "ipython",
    "version": 3
   },
   "file_extension": ".py",
   "mimetype": "text/x-python",
   "name": "python",
   "nbconvert_exporter": "python",
   "pygments_lexer": "ipython3",
   "version": "3.10.9"
  },
  "vscode": {
   "interpreter": {
    "hash": "9ea5ffafec065a5b064a6fab7872630ad2c79ca3c7ae1da3bf097c85297990f4"
   }
  }
 },
 "nbformat": 4,
 "nbformat_minor": 4
}
